{
 "cells": [
  {
   "cell_type": "markdown",
   "metadata": {},
   "source": [
    "# 3D UMAP Embedding: Causal Metric\n",
    "\n",
    "Compute 3D UMAP embedding using precomputed causal metric distances.\n",
    "\n",
    "**Method:**\n",
    "- Load precomputed causal distance matrix (from 07.1)\n",
    "- Reconstruct symmetric matrix from upper triangle\n",
    "- Run UMAP to reduce to 3D\n",
    "- Compute causal norms for coloring\n",
    "- Save embedding and metadata\n",
    "\n",
    "**Inputs:**\n",
    "- `data/vectors/distances_causal_32000.pt` - Precomputed causal distances\n",
    "- `data/vectors/causal_metric_tensor_qwen3_4b.pt` - Metric tensor M\n",
    "\n",
    "**Outputs:**\n",
    "- `data/vectors/umap_embedding_32k_3d_causal.npy` - 3D coordinates\n",
    "- `data/vectors/causal_norms_32k.npy` - Token norms for coloring\n",
    "\n",
    "**Expected runtime:** ~2 minutes (UMAP only, distances already computed)"
   ]
  },
  {
   "cell_type": "markdown",
   "metadata": {},
   "source": [
    "## Configuration"
   ]
  },
  {
   "cell_type": "code",
   "execution_count": 1,
   "metadata": {},
   "outputs": [
    {
     "name": "stdout",
     "output_type": "stream",
     "text": [
      "Configuration:\n",
      "  Model: Qwen/Qwen3-4B-Instruct-2507\n",
      "  Distance metric: Causal (M = Cov(γ)⁻¹)\n",
      "  Output embedding: ../data/vectors/umap_embedding_32k_3d_causal.npy\n",
      "  Output norms: ../data/vectors/causal_norms_32k.npy\n"
     ]
    }
   ],
   "source": [
    "# Input files\n",
    "DISTANCES_FILE = '../data/vectors/distances_causal_32000.pt'\n",
    "METRIC_FILE = '../data/vectors/causal_metric_tensor_qwen3_4b.pt'\n",
    "MODEL_NAME = 'Qwen/Qwen3-4B-Instruct-2507'\n",
    "\n",
    "# UMAP parameters\n",
    "N_NEIGHBORS = 15\n",
    "MIN_DIST = 0.1\n",
    "RANDOM_SEED = 42\n",
    "\n",
    "# Output files\n",
    "OUTPUT_EMBEDDING = '../data/vectors/umap_embedding_32k_3d_causal.npy'\n",
    "OUTPUT_NORMS = '../data/vectors/causal_norms_32k.npy'\n",
    "\n",
    "print(f\"Configuration:\")\n",
    "print(f\"  Model: {MODEL_NAME}\")\n",
    "print(f\"  Distance metric: Causal (M = Cov(γ)⁻¹)\")\n",
    "print(f\"  Output embedding: {OUTPUT_EMBEDDING}\")\n",
    "print(f\"  Output norms: {OUTPUT_NORMS}\")"
   ]
  },
  {
   "cell_type": "markdown",
   "metadata": {},
   "source": [
    "## Setup"
   ]
  },
  {
   "cell_type": "code",
   "execution_count": 2,
   "metadata": {},
   "outputs": [
    {
     "name": "stdout",
     "output_type": "stream",
     "text": [
      "✓ Imports complete\n"
     ]
    }
   ],
   "source": [
    "import torch\n",
    "import numpy as np\n",
    "from umap import UMAP\n",
    "from transformers import AutoModelForCausalLM\n",
    "\n",
    "print(\"✓ Imports complete\")"
   ]
  },
  {
   "cell_type": "markdown",
   "metadata": {},
   "source": [
    "## Load Distance Matrix"
   ]
  },
  {
   "cell_type": "code",
   "execution_count": 3,
   "metadata": {},
   "outputs": [
    {
     "name": "stdout",
     "output_type": "stream",
     "text": [
      "Loading distance matrix from ../data/vectors/distances_causal_32000.pt...\n",
      "✓ Loaded compressed data\n",
      "  N tokens: 32,000\n"
     ]
    }
   ],
   "source": [
    "print(f\"Loading distance matrix from {DISTANCES_FILE}...\")\n",
    "data = torch.load(DISTANCES_FILE, weights_only=False)\n",
    "\n",
    "triu_values = data['triu_values']\n",
    "token_indices = data['token_indices']\n",
    "N = data['N']\n",
    "\n",
    "print(f\"✓ Loaded compressed data\")\n",
    "print(f\"  N tokens: {N:,}\")"
   ]
  },
  {
   "cell_type": "markdown",
   "metadata": {},
   "source": [
    "## Reconstruct Distance Matrix"
   ]
  },
  {
   "cell_type": "code",
   "execution_count": 4,
   "metadata": {},
   "outputs": [
    {
     "name": "stdout",
     "output_type": "stream",
     "text": [
      "\n",
      "Reconstructing symmetric distance matrix...\n",
      "✓ Reconstructed 32000×32000 matrix\n",
      "  Memory: 2.05 GB\n"
     ]
    }
   ],
   "source": [
    "print(\"\\nReconstructing symmetric distance matrix...\")\n",
    "\n",
    "distances = torch.zeros(N, N, dtype=triu_values.dtype)\n",
    "triu_indices = torch.triu_indices(N, N, offset=1)\n",
    "distances[triu_indices[0], triu_indices[1]] = triu_values\n",
    "distances = distances + distances.T\n",
    "\n",
    "distances_np = distances.numpy()\n",
    "del distances\n",
    "\n",
    "print(f\"✓ Reconstructed {N}×{N} matrix\")\n",
    "print(f\"  Memory: {distances_np.nbytes / 1e9:.2f} GB\")"
   ]
  },
  {
   "cell_type": "markdown",
   "metadata": {},
   "source": [
    "## Run 3D UMAP"
   ]
  },
  {
   "cell_type": "code",
   "execution_count": 5,
   "metadata": {},
   "outputs": [
    {
     "name": "stdout",
     "output_type": "stream",
     "text": [
      "\n",
      "Running UMAP for 3D embedding (causal distances)...\n",
      "  This should take ~1.5 minutes for 32,000 points...\n",
      "\n"
     ]
    },
    {
     "name": "stderr",
     "output_type": "stream",
     "text": [
      "/Users/jefferyharrell/Projects/Azimuth/.venv/lib/python3.12/site-packages/umap/umap_.py:1865: UserWarning: using precomputed metric; inverse_transform will be unavailable\n",
      "  warn(\"using precomputed metric; inverse_transform will be unavailable\")\n",
      "/Users/jefferyharrell/Projects/Azimuth/.venv/lib/python3.12/site-packages/umap/umap_.py:1952: UserWarning: n_jobs value 1 overridden to 1 by setting random_state. Use no seed for parallelism.\n",
      "  warn(\n"
     ]
    },
    {
     "name": "stdout",
     "output_type": "stream",
     "text": [
      "UMAP(metric='precomputed', n_components=3, n_jobs=1, random_state=42, verbose=True)\n",
      "Thu Oct 30 14:00:06 2025 Construct fuzzy simplicial set\n",
      "Thu Oct 30 14:00:07 2025 Finding Nearest Neighbors\n",
      "Thu Oct 30 14:00:51 2025 Finished Nearest Neighbor Search\n",
      "Thu Oct 30 14:00:52 2025 Construct embedding\n"
     ]
    },
    {
     "data": {
      "application/vnd.jupyter.widget-view+json": {
       "model_id": "591afb88d6b04188afadcc0e4d022ef2",
       "version_major": 2,
       "version_minor": 0
      },
      "text/plain": [
       "Epochs completed:   0%|            0/200 [00:00]"
      ]
     },
     "metadata": {},
     "output_type": "display_data"
    },
    {
     "name": "stdout",
     "output_type": "stream",
     "text": [
      "\tcompleted  0  /  200 epochs\n",
      "\tcompleted  20  /  200 epochs\n",
      "\tcompleted  40  /  200 epochs\n",
      "\tcompleted  60  /  200 epochs\n",
      "\tcompleted  80  /  200 epochs\n",
      "\tcompleted  100  /  200 epochs\n",
      "\tcompleted  120  /  200 epochs\n",
      "\tcompleted  140  /  200 epochs\n",
      "\tcompleted  160  /  200 epochs\n",
      "\tcompleted  180  /  200 epochs\n",
      "Thu Oct 30 14:01:13 2025 Finished embedding\n",
      "\n",
      "✓ 3D UMAP complete!\n",
      "  Embedding shape: (32000, 3)\n"
     ]
    }
   ],
   "source": [
    "print(\"\\nRunning UMAP for 3D embedding (causal distances)...\")\n",
    "print(f\"  This should take ~1.5 minutes for {N:,} points...\\n\")\n",
    "\n",
    "reducer = UMAP(\n",
    "    n_components=3,\n",
    "    metric='precomputed',\n",
    "    n_neighbors=N_NEIGHBORS,\n",
    "    min_dist=MIN_DIST,\n",
    "    random_state=RANDOM_SEED,\n",
    "    verbose=True\n",
    ")\n",
    "\n",
    "embedding_3d = reducer.fit_transform(distances_np)\n",
    "\n",
    "print(f\"\\n✓ 3D UMAP complete!\")\n",
    "print(f\"  Embedding shape: {embedding_3d.shape}\")"
   ]
  },
  {
   "cell_type": "markdown",
   "metadata": {},
   "source": [
    "## Compute Causal Norms\n",
    "\n",
    "For coloring points by their causal distance from origin."
   ]
  },
  {
   "cell_type": "code",
   "execution_count": 6,
   "metadata": {},
   "outputs": [
    {
     "name": "stdout",
     "output_type": "stream",
     "text": [
      "\n",
      "Loading metric tensor and computing causal norms...\n"
     ]
    },
    {
     "name": "stderr",
     "output_type": "stream",
     "text": [
      "`torch_dtype` is deprecated! Use `dtype` instead!\n"
     ]
    },
    {
     "data": {
      "application/vnd.jupyter.widget-view+json": {
       "model_id": "262c5bda9883493194aa67b8fd0dd558",
       "version_major": 2,
       "version_minor": 0
      },
      "text/plain": [
       "Loading checkpoint shards:   0%|          | 0/3 [00:00<?, ?it/s]"
      ]
     },
     "metadata": {},
     "output_type": "display_data"
    },
    {
     "name": "stdout",
     "output_type": "stream",
     "text": [
      "✓ Computed causal norms\n",
      "  Range: [21.45, 75.08] logometers\n",
      "  Mean: 54.12 logometers\n",
      "  CV: 14.7%\n"
     ]
    }
   ],
   "source": [
    "print(\"\\nLoading metric tensor and computing causal norms...\")\n",
    "\n",
    "# Load metric tensor\n",
    "metric_data = torch.load(METRIC_FILE, weights_only=False)\n",
    "M = metric_data['M'].to('cpu')\n",
    "\n",
    "# Load model and get gamma\n",
    "model = AutoModelForCausalLM.from_pretrained(\n",
    "    MODEL_NAME,\n",
    "    torch_dtype=torch.float32,\n",
    "    device_map='cpu',\n",
    ")\n",
    "gamma = model.lm_head.weight.data.clone()\n",
    "sampled_gamma = gamma[token_indices]\n",
    "del model, gamma\n",
    "\n",
    "# Compute causal norms\n",
    "batch_size = 1000\n",
    "causal_norms = []\n",
    "for i in range(0, len(sampled_gamma), batch_size):\n",
    "    batch = sampled_gamma[i:i+batch_size]\n",
    "    M_batch = torch.matmul(batch, M)\n",
    "    norms_squared = (batch * M_batch).sum(dim=1)\n",
    "    causal_norms.append(torch.sqrt(torch.clamp(norms_squared, min=0)))\n",
    "\n",
    "causal_norms = torch.cat(causal_norms).numpy()\n",
    "\n",
    "print(f\"✓ Computed causal norms\")\n",
    "print(f\"  Range: [{causal_norms.min():.2f}, {causal_norms.max():.2f}] logometers\")\n",
    "print(f\"  Mean: {causal_norms.mean():.2f} logometers\")\n",
    "print(f\"  CV: {causal_norms.std() / causal_norms.mean() * 100:.1f}%\")"
   ]
  },
  {
   "cell_type": "markdown",
   "metadata": {},
   "source": [
    "## Save Outputs"
   ]
  },
  {
   "cell_type": "code",
   "execution_count": 7,
   "metadata": {},
   "outputs": [
    {
     "name": "stdout",
     "output_type": "stream",
     "text": [
      "\n",
      "Saving outputs...\n",
      "✓ Saved embedding to ../data/vectors/umap_embedding_32k_3d_causal.npy\n",
      "  Shape: (32000, 3)\n",
      "  Size: 0.38 MB\n",
      "✓ Saved norms to ../data/vectors/causal_norms_32k.npy\n",
      "  Shape: (32000,)\n",
      "  Size: 0.13 MB\n"
     ]
    }
   ],
   "source": [
    "print(\"\\nSaving outputs...\")\n",
    "\n",
    "np.save(OUTPUT_EMBEDDING, embedding_3d)\n",
    "print(f\"✓ Saved embedding to {OUTPUT_EMBEDDING}\")\n",
    "print(f\"  Shape: {embedding_3d.shape}\")\n",
    "print(f\"  Size: {embedding_3d.nbytes / 1e6:.2f} MB\")\n",
    "\n",
    "np.save(OUTPUT_NORMS, causal_norms)\n",
    "print(f\"✓ Saved norms to {OUTPUT_NORMS}\")\n",
    "print(f\"  Shape: {causal_norms.shape}\")\n",
    "print(f\"  Size: {causal_norms.nbytes / 1e6:.2f} MB\")"
   ]
  },
  {
   "cell_type": "markdown",
   "metadata": {},
   "source": [
    "## Summary\n",
    "\n",
    "Created 3D UMAP embedding using causal metric distances!\n",
    "\n",
    "**Outputs:**\n",
    "- `umap_embedding_32k_3d_causal.npy` - 3D UMAP coordinates\n",
    "- `causal_norms_32k.npy` - Token norms for visualization\n",
    "\n",
    "**Next:** Use notebook 07.44 to generate visualizations (HTML + GIF)."
   ]
  }
 ],
 "metadata": {
  "kernelspec": {
   "display_name": "azimuth",
   "language": "python",
   "name": "python3"
  },
  "language_info": {
   "codemirror_mode": {
    "name": "ipython",
    "version": 3
   },
   "file_extension": ".py",
   "mimetype": "text/x-python",
   "name": "python",
   "nbconvert_exporter": "python",
   "pygments_lexer": "ipython3",
   "version": "3.12.11"
  }
 },
 "nbformat": 4,
 "nbformat_minor": 4
}
