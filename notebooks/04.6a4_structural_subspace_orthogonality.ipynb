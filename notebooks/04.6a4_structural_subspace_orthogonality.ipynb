{
 "cells": [
  {
   "cell_type": "markdown",
   "id": "intro",
   "metadata": {},
   "source": [
    "# 04.6a4 Structural Subspace Orthogonality\n",
    "\n",
    "**Question:** Does \"structure ⊥ content\" generalize beyond the three brightest quasars?\n",
    "\n",
    "From 04.6a3, we found that the three extreme quasars (`<|endoftext|>`, `\\n`, `\\u200b\\u200b`) are causally orthogonal to the main sequence. But these are just 3 tokens out of potentially dozens of structural tokens.\n",
    "\n",
    "**Hypothesis:** ALL structural tokens (special tokens, control characters, whitespace, formatting markers) occupy a subspace that is causally orthogonal to semantic content.\n",
    "\n",
    "## Method\n",
    "\n",
    "1. **Identify structural tokens** via multiple criteria:\n",
    "   - Official special tokens from tokenizer metadata\n",
    "   - Whitespace-only tokens\n",
    "   - Control characters (Unicode category C*)\n",
    "   - Zero-width and formatting characters\n",
    "   - Special token markers (`<|...|>`)\n",
    "\n",
    "2. **Extract main sequence** (as in 04.6a3):\n",
    "   - Top K tokens closest to mean causal norm (~54 logometers)\n",
    "\n",
    "3. **Compute projections** using causal inner product:\n",
    "   - Main sequence → structural tokens\n",
    "   - Structural → main sequence\n",
    "   - Random tokens → structural tokens (control)\n",
    "\n",
    "4. **Statistical test**:\n",
    "   - Compare projection magnitudes\n",
    "   - Ratio test: structural/control\n",
    "   - If ratio << 1, confirms orthogonality\n",
    "\n",
    "## If This Works\n",
    "\n",
    "We'll have evidence that the model learned a general principle:\n",
    "\n",
    "**Structural information (boundaries, formatting, control flow) should be geometrically independent from semantic content (meaning, concepts, facts).**\n",
    "\n",
    "This would be a profound finding about how language models organize their internal representations."
   ]
  },
  {
   "cell_type": "markdown",
   "id": "config-header",
   "metadata": {},
   "source": [
    "## Configuration"
   ]
  },
  {
   "cell_type": "code",
   "execution_count": 1,
   "id": "config",
   "metadata": {},
   "outputs": [
    {
     "name": "stdout",
     "output_type": "stream",
     "text": [
      "Using device: mps\n"
     ]
    }
   ],
   "source": [
    "import torch\n",
    "import numpy as np\n",
    "import unicodedata\n",
    "from pathlib import Path\n",
    "from transformers import AutoModelForCausalLM, AutoTokenizer\n",
    "\n",
    "# Model and paths\n",
    "MODEL_NAME = \"Qwen/Qwen3-4B-Instruct-2507\"\n",
    "METRIC_PATH = Path(\"../data/vectors/causal_metric_tensor_qwen3_4b.pt\")\n",
    "\n",
    "# Analysis parameters\n",
    "K_MAIN_SEQUENCE = 100  # Number of main sequence tokens to test\n",
    "K_CONTROL = 100        # Number of random tokens for control\n",
    "RANDOM_SEED = 42\n",
    "\n",
    "# Device\n",
    "device = torch.device(\"mps\" if torch.backends.mps.is_available() else \"cpu\")\n",
    "print(f\"Using device: {device}\")"
   ]
  },
  {
   "cell_type": "markdown",
   "id": "load-header",
   "metadata": {},
   "source": [
    "## Load Model, Tokenizer, and Metric Tensor"
   ]
  },
  {
   "cell_type": "code",
   "execution_count": 2,
   "id": "load-data",
   "metadata": {},
   "outputs": [
    {
     "name": "stdout",
     "output_type": "stream",
     "text": [
      "Loading causal metric tensor...\n",
      "M shape: torch.Size([2560, 2560])\n",
      "\n",
      "Loading Qwen/Qwen3-4B-Instruct-2507...\n"
     ]
    },
    {
     "name": "stderr",
     "output_type": "stream",
     "text": [
      "`torch_dtype` is deprecated! Use `dtype` instead!\n"
     ]
    },
    {
     "data": {
      "application/vnd.jupyter.widget-view+json": {
       "model_id": "02122f653e614b239a420e5c04d343f0",
       "version_major": 2,
       "version_minor": 0
      },
      "text/plain": [
       "Loading checkpoint shards:   0%|          | 0/3 [00:00<?, ?it/s]"
      ]
     },
     "metadata": {},
     "output_type": "display_data"
    },
    {
     "name": "stdout",
     "output_type": "stream",
     "text": [
      "Gamma shape: torch.Size([151936, 2560])\n",
      "Vocabulary size: 151,936 tokens\n",
      "\n",
      "Tokenizer loaded.\n"
     ]
    }
   ],
   "source": [
    "# Load metric tensor\n",
    "print(\"Loading causal metric tensor...\")\n",
    "metric_data = torch.load(METRIC_PATH, map_location=device, weights_only=True)\n",
    "M = metric_data['M']\n",
    "print(f\"M shape: {M.shape}\")\n",
    "print()\n",
    "\n",
    "# Load model for gamma matrix\n",
    "print(f\"Loading {MODEL_NAME}...\")\n",
    "model = AutoModelForCausalLM.from_pretrained(\n",
    "    MODEL_NAME,\n",
    "    torch_dtype=torch.bfloat16,\n",
    "    device_map=device,\n",
    ")\n",
    "model.eval()\n",
    "\n",
    "# Extract gamma (unembedding matrix)\n",
    "gamma = model.lm_head.weight.data.to(dtype=torch.float32, device=device)\n",
    "vocab_size, hidden_dim = gamma.shape\n",
    "print(f\"Gamma shape: {gamma.shape}\")\n",
    "print(f\"Vocabulary size: {vocab_size:,} tokens\")\n",
    "print()\n",
    "\n",
    "# Load tokenizer\n",
    "tokenizer = AutoTokenizer.from_pretrained(MODEL_NAME)\n",
    "print(\"Tokenizer loaded.\")"
   ]
  },
  {
   "cell_type": "markdown",
   "id": "identify-header",
   "metadata": {},
   "source": [
    "## Identify Structural Tokens\n",
    "\n",
    "We'll use multiple criteria to cast a wide net."
   ]
  },
  {
   "cell_type": "code",
   "execution_count": 3,
   "id": "identify-structural",
   "metadata": {},
   "outputs": [
    {
     "name": "stdout",
     "output_type": "stream",
     "text": [
      "Scanning vocabulary for structural tokens...\n",
      "\n",
      "Found 3661 structural tokens (2.41% of vocabulary)\n",
      "\n",
      "Breakdown by category:\n",
      "  control_char        :  3200 tokens\n",
      "  whitespace          :   441 tokens\n",
      "  special_token       :    14 tokens\n",
      "  marker_format       :     6 tokens\n"
     ]
    }
   ],
   "source": [
    "def is_structural_token(token_id, tokenizer):\n",
    "    \"\"\"\n",
    "    Determine if a token is structural (non-semantic) based on multiple criteria.\n",
    "    \n",
    "    Returns: (bool, str) - (is_structural, reason)\n",
    "    \"\"\"\n",
    "    token_str = tokenizer.decode([token_id])\n",
    "    \n",
    "    # 1. Official special tokens\n",
    "    if token_id in tokenizer.all_special_ids:\n",
    "        return True, \"special_token\"\n",
    "    \n",
    "    # 2. Whitespace only (includes newline, tab, spaces)\n",
    "    if token_str.strip() == '' and len(token_str) > 0:\n",
    "        return True, \"whitespace\"\n",
    "    \n",
    "    # 3. Special token markers <|...|>\n",
    "    if token_str.startswith('<|') and token_str.endswith('|>'):\n",
    "        return True, \"marker_format\"\n",
    "    \n",
    "    # 4. Control characters (Unicode category Cc, Cf, etc.)\n",
    "    if any(unicodedata.category(c).startswith('C') for c in token_str):\n",
    "        return True, \"control_char\"\n",
    "    \n",
    "    # 5. Zero-width and formatting characters\n",
    "    zero_width = ['\\u200b', '\\u200c', '\\u200d', '\\ufeff', '\\u2060', '\\u180e']\n",
    "    if any(zw in token_str for zw in zero_width):\n",
    "        return True, \"zero_width\"\n",
    "    \n",
    "    # 6. Other common formatting\n",
    "    formatting = ['\\xa0']  # Non-breaking space\n",
    "    if any(fmt in token_str for fmt in formatting):\n",
    "        return True, \"formatting\"\n",
    "    \n",
    "    return False, \"semantic\"\n",
    "\n",
    "# Scan all tokens\n",
    "print(\"Scanning vocabulary for structural tokens...\")\n",
    "structural_tokens = []\n",
    "structural_reasons = []\n",
    "\n",
    "for token_id in range(vocab_size):\n",
    "    is_struct, reason = is_structural_token(token_id, tokenizer)\n",
    "    if is_struct:\n",
    "        structural_tokens.append(token_id)\n",
    "        structural_reasons.append(reason)\n",
    "\n",
    "print(f\"\\nFound {len(structural_tokens)} structural tokens ({len(structural_tokens)/vocab_size:.2%} of vocabulary)\")\n",
    "print()\n",
    "\n",
    "# Breakdown by category\n",
    "from collections import Counter\n",
    "reason_counts = Counter(structural_reasons)\n",
    "print(\"Breakdown by category:\")\n",
    "for reason, count in reason_counts.most_common():\n",
    "    print(f\"  {reason:20s}: {count:5d} tokens\")\n",
    "\n",
    "structural_token_ids = torch.tensor(structural_tokens, device=device)"
   ]
  },
  {
   "cell_type": "markdown",
   "id": "examine-header",
   "metadata": {},
   "source": [
    "## Examine Sample Structural Tokens"
   ]
  },
  {
   "cell_type": "code",
   "execution_count": 4,
   "id": "examine-structural",
   "metadata": {},
   "outputs": [
    {
     "name": "stdout",
     "output_type": "stream",
     "text": [
      "Sample structural tokens:\n",
      "================================================================================\n",
      " 1. ID    188 | control_char    | '\\x00'\n",
      " 2. ID    189 | control_char    | '\\x01'\n",
      " 3. ID    190 | control_char    | '\\x02'\n",
      " 4. ID    191 | control_char    | '\\x03'\n",
      " 5. ID    192 | control_char    | '\\x04'\n",
      " 6. ID    193 | control_char    | '\\x05'\n",
      " 7. ID    194 | control_char    | '\\x06'\n",
      " 8. ID    195 | control_char    | '\\x07'\n",
      " 9. ID    196 | control_char    | '\\x08'\n",
      "10. ID    197 | whitespace      | '\\t'\n",
      "11. ID    198 | whitespace      | '\\n'\n",
      "12. ID    199 | whitespace      | '\\x0b'\n",
      "13. ID    200 | whitespace      | '\\x0c'\n",
      "14. ID    201 | whitespace      | '\\r'\n",
      "15. ID    202 | control_char    | '\\x0e'\n",
      "16. ID    203 | control_char    | '\\x0f'\n",
      "17. ID    204 | control_char    | '\\x10'\n",
      "18. ID    205 | control_char    | '\\x11'\n",
      "19. ID    206 | control_char    | '\\x12'\n",
      "20. ID    207 | control_char    | '\\x13'\n",
      "\n",
      "(Showing first 20 of 3661 total)\n"
     ]
    }
   ],
   "source": [
    "# Show first 20 structural tokens as examples\n",
    "print(\"Sample structural tokens:\")\n",
    "print(\"=\"*80)\n",
    "for i, (token_id, reason) in enumerate(zip(structural_tokens[:20], structural_reasons[:20])):\n",
    "    token_str = tokenizer.decode([token_id])\n",
    "    token_repr = repr(token_str)\n",
    "    print(f\"{i+1:2d}. ID {token_id:6d} | {reason:15s} | {token_repr}\")\n",
    "\n",
    "print()\n",
    "print(f\"(Showing first 20 of {len(structural_tokens)} total)\")"
   ]
  },
  {
   "cell_type": "markdown",
   "id": "norms-header",
   "metadata": {},
   "source": [
    "## Compute Causal Norms for All Tokens"
   ]
  },
  {
   "cell_type": "code",
   "execution_count": 5,
   "id": "compute-norms",
   "metadata": {},
   "outputs": [
    {
     "name": "stdout",
     "output_type": "stream",
     "text": [
      "Computing causal norms for all tokens...\n",
      "Mean causal norm: 54.1318 logometers\n",
      "\n"
     ]
    }
   ],
   "source": [
    "# Compute causal norms\n",
    "print(\"Computing causal norms for all tokens...\")\n",
    "gamma_M = gamma @ M  # [vocab_size, hidden_dim]\n",
    "causal_norms_squared = (gamma_M * gamma).sum(dim=1)  # [vocab_size]\n",
    "causal_norms = torch.sqrt(torch.clamp(causal_norms_squared, min=0))  # [vocab_size]\n",
    "\n",
    "mean_norm = causal_norms.mean().item()\n",
    "print(f\"Mean causal norm: {mean_norm:.4f} logometers\")\n",
    "print()"
   ]
  },
  {
   "cell_type": "markdown",
   "id": "main-seq-header",
   "metadata": {},
   "source": [
    "## Extract Main Sequence Tokens\n",
    "\n",
    "Top K tokens closest to mean causal norm (~54 logometers)."
   ]
  },
  {
   "cell_type": "code",
   "execution_count": 6,
   "id": "extract-main-seq",
   "metadata": {},
   "outputs": [
    {
     "name": "stdout",
     "output_type": "stream",
     "text": [
      "Main sequence: top 100 tokens closest to mean norm\n",
      "  Mean deviation: 0.0021 logometers\n",
      "\n",
      "Sample main sequence tokens:\n",
      "================================================================================\n",
      " 1. ID  51704 | 54.1319 logometers | 'UniformLocation'\n",
      " 2. ID 129969 | 54.1318 logometers | 'ıldı'\n",
      " 3. ID  92698 | 54.1317 logometers | 'Downloader'\n",
      " 4. ID 139127 | 54.1320 logometers | ' hộp'\n",
      " 5. ID  77581 | 54.1320 logometers | ' Pluto'\n",
      " 6. ID 118802 | 54.1320 logometers | '强硬'\n",
      " 7. ID  69473 | 54.1315 logometers | '_fg'\n",
      " 8. ID  47686 | 54.1322 logometers | ' prejudice'\n",
      " 9. ID 124119 | 54.1315 logometers | 'にな'\n",
      "10. ID 132459 | 54.1323 logometers | ' достат'\n",
      "\n"
     ]
    }
   ],
   "source": [
    "# Find tokens closest to mean norm\n",
    "deviations = torch.abs(causal_norms - mean_norm)\n",
    "main_seq_indices = torch.argsort(deviations)[:K_MAIN_SEQUENCE]\n",
    "\n",
    "print(f\"Main sequence: top {K_MAIN_SEQUENCE} tokens closest to mean norm\")\n",
    "print(f\"  Mean deviation: {deviations[main_seq_indices].mean().item():.4f} logometers\")\n",
    "print()\n",
    "\n",
    "# Show examples\n",
    "print(\"Sample main sequence tokens:\")\n",
    "print(\"=\"*80)\n",
    "for i, idx in enumerate(main_seq_indices[:10]):\n",
    "    token_id = idx.item()\n",
    "    norm = causal_norms[idx].item()\n",
    "    token_str = tokenizer.decode([token_id])\n",
    "    token_repr = repr(token_str)\n",
    "    print(f\"{i+1:2d}. ID {token_id:6d} | {norm:7.4f} logometers | {token_repr}\")\n",
    "print()\n",
    "\n",
    "# Extract vectors\n",
    "main_seq_vectors = gamma[main_seq_indices]  # [K, hidden_dim]"
   ]
  },
  {
   "cell_type": "markdown",
   "id": "control-header",
   "metadata": {},
   "source": [
    "## Random Control Tokens\n",
    "\n",
    "Sample random tokens (excluding structural and main sequence) for baseline comparison."
   ]
  },
  {
   "cell_type": "code",
   "execution_count": 7,
   "id": "extract-control",
   "metadata": {},
   "outputs": [
    {
     "name": "stdout",
     "output_type": "stream",
     "text": [
      "Control: 100 random typical semantic tokens\n",
      "  (Excluding 3661 structural + 100 main sequence)\n",
      "\n"
     ]
    }
   ],
   "source": [
    "# Create mask of available tokens (not structural, not main sequence)\n",
    "torch.manual_seed(RANDOM_SEED)\n",
    "\n",
    "all_indices = torch.arange(vocab_size, device=device)\n",
    "excluded = torch.cat([structural_token_ids, main_seq_indices])\n",
    "\n",
    "# Create mask\n",
    "mask = torch.ones(vocab_size, dtype=torch.bool, device=device)\n",
    "mask[excluded] = False\n",
    "available_indices = all_indices[mask]\n",
    "\n",
    "# Random sample\n",
    "perm = torch.randperm(len(available_indices))[:K_CONTROL]\n",
    "control_indices = available_indices[perm]\n",
    "\n",
    "print(f\"Control: {K_CONTROL} random typical semantic tokens\")\n",
    "print(f\"  (Excluding {len(structural_tokens)} structural + {K_MAIN_SEQUENCE} main sequence)\")\n",
    "print()\n",
    "\n",
    "# Extract vectors\n",
    "control_vectors = gamma[control_indices]  # [K, hidden_dim]"
   ]
  },
  {
   "cell_type": "markdown",
   "id": "projection-header",
   "metadata": {},
   "source": [
    "## Compute Causal Projections\n",
    "\n",
    "For each structural token, measure how much main sequence and control tokens project onto it using the causal inner product."
   ]
  },
  {
   "cell_type": "code",
   "execution_count": 8,
   "id": "compute-projections",
   "metadata": {},
   "outputs": [
    {
     "name": "stdout",
     "output_type": "stream",
     "text": [
      "Computing causal projections...\n",
      "\n",
      "Computing projections for 3661 structural tokens...\n",
      "  Processing 100/3661...\n",
      "  Processing 200/3661...\n",
      "  Processing 300/3661...\n",
      "  Processing 400/3661...\n",
      "  Processing 500/3661...\n",
      "  Processing 600/3661...\n",
      "  Processing 700/3661...\n",
      "  Processing 800/3661...\n",
      "  Processing 900/3661...\n",
      "  Processing 1000/3661...\n",
      "  Processing 1100/3661...\n",
      "  Processing 1200/3661...\n",
      "  Processing 1300/3661...\n",
      "  Processing 1400/3661...\n",
      "  Processing 1500/3661...\n",
      "  Processing 1600/3661...\n",
      "  Processing 1700/3661...\n",
      "  Processing 1800/3661...\n",
      "  Processing 1900/3661...\n",
      "  Processing 2000/3661...\n",
      "  Processing 2100/3661...\n",
      "  Processing 2200/3661...\n",
      "  Processing 2300/3661...\n",
      "  Processing 2400/3661...\n",
      "  Processing 2500/3661...\n",
      "  Processing 2600/3661...\n",
      "  Processing 2700/3661...\n",
      "  Processing 2800/3661...\n",
      "  Processing 2900/3661...\n",
      "  Processing 3000/3661...\n",
      "  Processing 3100/3661...\n",
      "  Processing 3200/3661...\n",
      "  Processing 3300/3661...\n",
      "  Processing 3400/3661...\n",
      "  Processing 3500/3661...\n",
      "  Processing 3600/3661...\n",
      "\n",
      "Projection computation complete.\n"
     ]
    }
   ],
   "source": [
    "print(\"Computing causal projections...\")\n",
    "print()\n",
    "\n",
    "# We'll compute mean projection onto each structural token,\n",
    "# then average across all structural tokens\n",
    "\n",
    "structural_vectors = gamma[structural_token_ids]  # [N_struct, hidden_dim]\n",
    "n_structural = len(structural_token_ids)\n",
    "\n",
    "print(f\"Computing projections for {n_structural} structural tokens...\")\n",
    "\n",
    "main_seq_projections_all = []\n",
    "control_projections_all = []\n",
    "\n",
    "# For each structural token\n",
    "for i, struct_idx in enumerate(structural_token_ids):\n",
    "    if (i + 1) % 100 == 0:\n",
    "        print(f\"  Processing {i+1}/{n_structural}...\")\n",
    "    \n",
    "    struct_vec = gamma[struct_idx]  # [hidden_dim]\n",
    "    \n",
    "    # Causal norm of structural token\n",
    "    struct_norm = causal_norms[struct_idx]\n",
    "    \n",
    "    # Main sequence projections: (v^T M q) / ||q||_M\n",
    "    v_M = main_seq_vectors @ M  # [K, hidden_dim]\n",
    "    causal_dot = (v_M * struct_vec).sum(dim=1)  # [K]\n",
    "    projections_main = causal_dot / struct_norm  # [K]\n",
    "    main_seq_projections_all.append(projections_main.abs().mean().item())\n",
    "    \n",
    "    # Control projections\n",
    "    v_M_control = control_vectors @ M  # [K, hidden_dim]\n",
    "    causal_dot_control = (v_M_control * struct_vec).sum(dim=1)  # [K]\n",
    "    projections_control = causal_dot_control / struct_norm  # [K]\n",
    "    control_projections_all.append(projections_control.abs().mean().item())\n",
    "\n",
    "print()\n",
    "print(\"Projection computation complete.\")"
   ]
  },
  {
   "cell_type": "markdown",
   "id": "results-header",
   "metadata": {},
   "source": [
    "## Results: Orthogonality Test"
   ]
  },
  {
   "cell_type": "code",
   "execution_count": 9,
   "id": "results",
   "metadata": {},
   "outputs": [
    {
     "name": "stdout",
     "output_type": "stream",
     "text": [
      "================================================================================\n",
      "ORTHOGONALITY TEST: Causal Projections onto Structural Tokens\n",
      "================================================================================\n",
      "\n",
      "Main sequence tokens (n=100):\n",
      "  Mean projection: 8.7958 logometers\n",
      "  Std deviation:   1.2226 logometers\n",
      "\n",
      "Control tokens (n=100):\n",
      "  Mean projection: 8.6527 logometers\n",
      "  Std deviation:   1.2027 logometers\n",
      "\n",
      "Ratio (main/control): 1.0165\n",
      "\n",
      "================================================================================\n",
      "INTERPRETATION\n",
      "================================================================================\n",
      "\n",
      "✗ NO SPECIAL ORTHOGONALITY: Main sequence projections are similar to control.\n",
      "\n",
      "  The 3-quasar orthogonality finding may be specific to extreme outliers,\n",
      "  not a general principle.\n",
      "\n",
      "Reference from 04.6a3 (3 quasars only): ratio = 0.35\n"
     ]
    }
   ],
   "source": [
    "# Convert to arrays\n",
    "main_seq_proj_array = np.array(main_seq_projections_all)\n",
    "control_proj_array = np.array(control_projections_all)\n",
    "\n",
    "# Compute statistics\n",
    "main_mean = main_seq_proj_array.mean()\n",
    "main_std = main_seq_proj_array.std()\n",
    "\n",
    "control_mean = control_proj_array.mean()\n",
    "control_std = control_proj_array.std()\n",
    "\n",
    "ratio = main_mean / control_mean\n",
    "\n",
    "print(\"=\"*80)\n",
    "print(\"ORTHOGONALITY TEST: Causal Projections onto Structural Tokens\")\n",
    "print(\"=\"*80)\n",
    "print()\n",
    "print(f\"Main sequence tokens (n={K_MAIN_SEQUENCE}):\")\n",
    "print(f\"  Mean projection: {main_mean:.4f} logometers\")\n",
    "print(f\"  Std deviation:   {main_std:.4f} logometers\")\n",
    "print()\n",
    "print(f\"Control tokens (n={K_CONTROL}):\")\n",
    "print(f\"  Mean projection: {control_mean:.4f} logometers\")\n",
    "print(f\"  Std deviation:   {control_std:.4f} logometers\")\n",
    "print()\n",
    "print(f\"Ratio (main/control): {ratio:.4f}\")\n",
    "print()\n",
    "print(\"=\"*80)\n",
    "print(\"INTERPRETATION\")\n",
    "print(\"=\"*80)\n",
    "print()\n",
    "\n",
    "if ratio < 0.5:\n",
    "    print(f\"✓ STRONG ORTHOGONALITY: Main sequence is {1/ratio:.2f}× MORE orthogonal to\")\n",
    "    print(f\"  structural tokens than random control tokens.\")\n",
    "    print()\n",
    "    print(f\"  This confirms: Structure ⊥ Content is a GENERAL principle,\")\n",
    "    print(f\"  not limited to the 3 extreme quasars.\")\n",
    "elif ratio < 0.8:\n",
    "    print(f\"✓ MODERATE ORTHOGONALITY: Main sequence shows {1/ratio:.2f}× enhanced\")\n",
    "    print(f\"  orthogonality to structural tokens.\")\n",
    "    print()\n",
    "    print(f\"  Structure and content are somewhat separated, but not perfectly.\")\n",
    "elif ratio < 1.2:\n",
    "    print(f\"✗ NO SPECIAL ORTHOGONALITY: Main sequence projections are similar to control.\")\n",
    "    print()\n",
    "    print(f\"  The 3-quasar orthogonality finding may be specific to extreme outliers,\")\n",
    "    print(f\"  not a general principle.\")\n",
    "else:\n",
    "    print(f\"✗ ALIGNMENT: Main sequence is LESS orthogonal than control (ratio > 1).\")\n",
    "    print()\n",
    "    print(f\"  This is unexpected and suggests structural tokens may encode some\")\n",
    "    print(f\"  information that aligns with the main sequence.\")\n",
    "\n",
    "print()\n",
    "print(f\"Reference from 04.6a3 (3 quasars only): ratio = 0.35\")"
   ]
  },
  {
   "cell_type": "markdown",
   "id": "viz-header",
   "metadata": {},
   "source": [
    "## Visualize Projection Distributions"
   ]
  },
  {
   "cell_type": "code",
   "execution_count": 10,
   "id": "visualize",
   "metadata": {},
   "outputs": [
    {
     "name": "stderr",
     "output_type": "stream",
     "text": [
      "/var/folders/k5/44vd1ct56xj4y9h7x213kvjr0000gn/T/ipykernel_36518/2831520034.py:21: MatplotlibDeprecationWarning: The 'labels' parameter of boxplot() has been renamed 'tick_labels' since Matplotlib 3.9; support for the old name will be dropped in 3.11.\n",
      "  bp = ax.boxplot(data, labels=['Main Sequence', 'Control'], patch_artist=True)\n"
     ]
    },
    {
     "data": {
      "image/png": "[encoded data removed]",
      "text/plain": [
       "<Figure size 1400x500 with 2 Axes>"
      ]
     },
     "metadata": {},
     "output_type": "display_data"
    }
   ],
   "source": [
    "import matplotlib.pyplot as plt\n",
    "\n",
    "fig, axes = plt.subplots(1, 2, figsize=(14, 5))\n",
    "\n",
    "# Histogram comparison\n",
    "ax = axes[0]\n",
    "bins = np.linspace(0, max(main_seq_proj_array.max(), control_proj_array.max()), 50)\n",
    "ax.hist(main_seq_proj_array, bins=bins, alpha=0.6, label='Main Sequence', color='blue', edgecolor='black')\n",
    "ax.hist(control_proj_array, bins=bins, alpha=0.6, label='Control', color='orange', edgecolor='black')\n",
    "ax.axvline(main_mean, color='blue', linestyle='--', linewidth=2, label=f'Main mean={main_mean:.2f}')\n",
    "ax.axvline(control_mean, color='orange', linestyle='--', linewidth=2, label=f'Control mean={control_mean:.2f}')\n",
    "ax.set_xlabel('Mean Projection (logometers)', fontsize=12)\n",
    "ax.set_ylabel('Count (structural tokens)', fontsize=12)\n",
    "ax.set_title('Distribution of Projections onto Structural Tokens', fontsize=13, fontweight='bold')\n",
    "ax.legend(fontsize=10)\n",
    "ax.grid(True, alpha=0.3)\n",
    "\n",
    "# Box plot comparison\n",
    "ax = axes[1]\n",
    "data = [main_seq_proj_array, control_proj_array]\n",
    "bp = ax.boxplot(data, labels=['Main Sequence', 'Control'], patch_artist=True)\n",
    "bp['boxes'][0].set_facecolor('blue')\n",
    "bp['boxes'][1].set_facecolor('orange')\n",
    "ax.set_ylabel('Mean Projection (logometers)', fontsize=12)\n",
    "ax.set_title('Projection Magnitude Comparison', fontsize=13, fontweight='bold')\n",
    "ax.grid(True, alpha=0.3, axis='y')\n",
    "\n",
    "plt.tight_layout()\n",
    "plt.show()"
   ]
  },
  {
   "cell_type": "markdown",
   "id": "breakdown-header",
   "metadata": {},
   "source": [
    "## Breakdown by Structural Token Category"
   ]
  },
  {
   "cell_type": "code",
   "execution_count": 11,
   "id": "category-breakdown",
   "metadata": {},
   "outputs": [
    {
     "name": "stdout",
     "output_type": "stream",
     "text": [
      "Mean projection by structural token category:\n",
      "======================================================================\n",
      "Category                Count    Mean Proj        Std\n",
      "----------------------------------------------------------------------\n",
      "control_char             3200       8.7926     0.9067\n",
      "marker_format               6      13.9829     3.0316\n",
      "special_token              14      18.6210     5.1632\n",
      "whitespace                441       8.4369     1.3835\n",
      "\n",
      "This breakdown shows whether certain types of structural tokens\n",
      "(e.g., whitespace vs. special tokens) are more or less orthogonal.\n"
     ]
    }
   ],
   "source": [
    "# Group projections by structural token category\n",
    "from collections import defaultdict\n",
    "\n",
    "category_projections = defaultdict(list)\n",
    "\n",
    "for proj, reason in zip(main_seq_projections_all, structural_reasons):\n",
    "    category_projections[reason].append(proj)\n",
    "\n",
    "print(\"Mean projection by structural token category:\")\n",
    "print(\"=\"*70)\n",
    "print(f\"{'Category':<20s} {'Count':>8s} {'Mean Proj':>12s} {'Std':>10s}\")\n",
    "print(\"-\"*70)\n",
    "\n",
    "for reason in sorted(category_projections.keys()):\n",
    "    projs = np.array(category_projections[reason])\n",
    "    mean_proj = projs.mean()\n",
    "    std_proj = projs.std()\n",
    "    count = len(projs)\n",
    "    print(f\"{reason:<20s} {count:>8d} {mean_proj:>12.4f} {std_proj:>10.4f}\")\n",
    "\n",
    "print()\n",
    "print(\"This breakdown shows whether certain types of structural tokens\")\n",
    "print(\"(e.g., whitespace vs. special tokens) are more or less orthogonal.\")"
   ]
  },
  {
   "cell_type": "markdown",
   "id": "summary-header",
   "metadata": {},
   "source": [
    "## Summary\n",
    "\n",
    "This notebook tests whether the \"structure ⊥ content\" finding from 04.6a3 generalizes to ALL structural tokens, not just the 3 extreme quasars.\n",
    "\n",
    "**Key question answered**: Do typical semantic tokens (main sequence) lie in a subspace causally orthogonal to the ENTIRE structural token subspace?\n",
    "\n",
    "**Next steps**:\n",
    "- If strong orthogonality confirmed: Update notes to reflect general principle\n",
    "- If weak/no orthogonality: Structural separation may be limited to extreme outliers\n",
    "- Category breakdown reveals which types of structural tokens show strongest separation"
   ]
  }
 ],
 "metadata": {
  "kernelspec": {
   "display_name": "azimuth",
   "language": "python",
   "name": "python3"
  },
  "language_info": {
   "codemirror_mode": {
    "name": "ipython",
    "version": 3
   },
   "file_extension": ".py",
   "mimetype": "text/x-python",
   "name": "python",
   "nbconvert_exporter": "python",
   "pygments_lexer": "ipython3",
   "version": "3.12.11"
  }
 },
 "nbformat": 4,
 "nbformat_minor": 5
}
