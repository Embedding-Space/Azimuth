{
 "cells": [
  {
   "cell_type": "markdown",
   "metadata": {},
   "source": [
    "# Persistent Homology (Betti Numbers)\n",
    "\n",
    "**Goal:** Compute Betti numbers to determine if the ring structure is real topology or a UMAP artifact.\n",
    "\n",
    "**Method:** Vietoris-Rips filtration via ripser\n",
    "\n",
    "**Key question:** Does β₁ show long-lived loops?\n",
    "- Yes (persistence > 10 logometers) → Ring is **REAL topology**\n",
    "- No (persistence < 3 logometers) → Ring is **UMAP artifact**\n",
    "\n",
    "**Inputs:**\n",
    "- `data/vectors/distances_causal_32000_full.npy` - Full distance matrix (4.1 GB)\n",
    "\n",
    "**Expected runtime:** ~5-10 minutes"
   ]
  },
  {
   "cell_type": "markdown",
   "metadata": {},
   "source": [
    "## Configuration"
   ]
  },
  {
   "cell_type": "code",
   "execution_count": 9,
   "metadata": {},
   "outputs": [
    {
     "name": "stdout",
     "output_type": "stream",
     "text": [
      "Configuration:\n",
      "  Input: ../data/vectors/distances_causal_32000_full.npy\n",
      "  Subsample: 500 points (from 32k)\n",
      "  Max dimension: 2 (β₀, β₁, β₂)\n",
      "  Max edge length: 120 logometers\n",
      "  Coefficients: Z/2\n"
     ]
    }
   ],
   "source": [
    "# Input file\n",
    "INPUT_DISTANCES = '../data/vectors/distances_causal_32000_full.npy'\n",
    "\n",
    "# Subsampling (to reduce memory usage)\n",
    "SUBSAMPLE_N = 500  # Number of points to subsample (None = use all 32k)\n",
    "RANDOM_SEED = 42\n",
    "\n",
    "# Persistent homology parameters\n",
    "MAX_DIM = 2  # Compute β₀, β₁, β₂\n",
    "MAX_EDGE_LENGTH = 120  # Don't compute beyond 100 logometers\n",
    "COEFF = 2  # Use Z/2 coefficients (faster, less memory)\n",
    "\n",
    "print(f\"Configuration:\")\n",
    "print(f\"  Input: {INPUT_DISTANCES}\")\n",
    "if SUBSAMPLE_N:\n",
    "    print(f\"  Subsample: {SUBSAMPLE_N:,} points (from 32k)\")\n",
    "else:\n",
    "    print(f\"  Using full dataset\")\n",
    "print(f\"  Max dimension: {MAX_DIM} (β₀, β₁, β₂)\")\n",
    "print(f\"  Max edge length: {MAX_EDGE_LENGTH} logometers\")\n",
    "print(f\"  Coefficients: Z/{COEFF}\")"
   ]
  },
  {
   "cell_type": "markdown",
   "metadata": {},
   "source": [
    "## Setup"
   ]
  },
  {
   "cell_type": "code",
   "execution_count": 10,
   "metadata": {},
   "outputs": [
    {
     "name": "stdout",
     "output_type": "stream",
     "text": [
      "✓ Imports complete\n"
     ]
    }
   ],
   "source": [
    "import numpy as np\n",
    "from ripser import ripser\n",
    "import matplotlib.pyplot as plt\n",
    "\n",
    "print(\"✓ Imports complete\")"
   ]
  },
  {
   "cell_type": "markdown",
   "metadata": {},
   "source": [
    "## Load Distance Matrix"
   ]
  },
  {
   "cell_type": "code",
   "execution_count": 11,
   "metadata": {},
   "outputs": [
    {
     "name": "stdout",
     "output_type": "stream",
     "text": [
      "Loading distance matrix from ../data/vectors/distances_causal_32000_full.npy...\n",
      "\n",
      "✓ Loaded distance matrix\n",
      "  Full shape: (32000, 32000)\n",
      "  Memory: 4.10 GB\n",
      "  Dtype: float32\n",
      "\n",
      "Subsampling to 500 points...\n",
      "✓ Subsampled\n",
      "  New shape: (500, 500)\n",
      "  New memory: 0.00 GB\n",
      "\n",
      "Distance statistics (N=500):\n",
      "  Min: 0.00 logometers\n",
      "  Max: 92.00 logometers\n",
      "  Mean: 70.90 logometers\n",
      "  Median: 71.88 logometers\n"
     ]
    }
   ],
   "source": [
    "print(f\"Loading distance matrix from {INPUT_DISTANCES}...\")\n",
    "distances = np.load(INPUT_DISTANCES)\n",
    "\n",
    "N_full = distances.shape[0]\n",
    "\n",
    "print(f\"\\n✓ Loaded distance matrix\")\n",
    "print(f\"  Full shape: {distances.shape}\")\n",
    "print(f\"  Memory: {distances.nbytes / 1e9:.2f} GB\")\n",
    "print(f\"  Dtype: {distances.dtype}\")\n",
    "\n",
    "# Subsample if requested\n",
    "if SUBSAMPLE_N and SUBSAMPLE_N < N_full:\n",
    "    print(f\"\\nSubsampling to {SUBSAMPLE_N:,} points...\")\n",
    "    np.random.seed(RANDOM_SEED)\n",
    "    subsample_indices = np.random.choice(N_full, SUBSAMPLE_N, replace=False)\n",
    "    subsample_indices = np.sort(subsample_indices)\n",
    "    \n",
    "    # Extract submatrix\n",
    "    distances = distances[np.ix_(subsample_indices, subsample_indices)]\n",
    "    \n",
    "    print(f\"✓ Subsampled\")\n",
    "    print(f\"  New shape: {distances.shape}\")\n",
    "    print(f\"  New memory: {distances.nbytes / 1e9:.2f} GB\")\n",
    "\n",
    "N = distances.shape[0]\n",
    "\n",
    "# Quick stats\n",
    "mask = ~np.eye(N, dtype=bool)\n",
    "off_diag = distances[mask]\n",
    "\n",
    "print(f\"\\nDistance statistics (N={N:,}):\")\n",
    "print(f\"  Min: {off_diag.min():.2f} logometers\")\n",
    "print(f\"  Max: {off_diag.max():.2f} logometers\")\n",
    "print(f\"  Mean: {off_diag.mean():.2f} logometers\")\n",
    "print(f\"  Median: {np.median(off_diag):.2f} logometers\")"
   ]
  },
  {
   "cell_type": "markdown",
   "metadata": {},
   "source": [
    "## Compute Persistent Homology\n",
    "\n",
    "This uses the Vietoris-Rips algorithm:\n",
    "- Gradually increases scale ε from 0 to MAX_EDGE_LENGTH\n",
    "- At each ε, connects points with distance ≤ ε\n",
    "- Tracks when homology features (components, loops, voids) appear and disappear\n",
    "\n",
    "**This may take 5-10 minutes...**"
   ]
  },
  {
   "cell_type": "code",
   "execution_count": 12,
   "metadata": {},
   "outputs": [
    {
     "name": "stdout",
     "output_type": "stream",
     "text": [
      "\n",
      "Computing persistent homology...\n",
      "  Computing β₀, β₁, β₂ for 500 points\n",
      "  Max edge length: 120 logometers\n",
      "  Using Z/2 coefficients\n",
      "  This may take a few minutes...\n",
      "\n",
      "\n",
      "✓ Persistent homology computed!"
     ]
    },
    {
     "name": "stderr",
     "output_type": "stream",
     "text": [
      "/Users/jefferyharrell/Projects/Azimuth/.venv/lib/python3.12/site-packages/ripser/ripser.py:247: UserWarning: The input matrix is square, but the distance_matrix flag is off.  Did you mean to indicate that this was a distance matrix?\n",
      "  warnings.warn(\n"
     ]
    },
    {
     "name": "stdout",
     "output_type": "stream",
     "text": [
      "\n"
     ]
    }
   ],
   "source": [
    "print(\"\\nComputing persistent homology...\")\n",
    "print(f\"  Computing β₀, β₁, β₂ for {N:,} points\")\n",
    "print(f\"  Max edge length: {MAX_EDGE_LENGTH} logometers\")\n",
    "print(f\"  Using Z/{COEFF} coefficients\")\n",
    "print(f\"  This may take a few minutes...\\n\")\n",
    "\n",
    "result = ripser(\n",
    "    distances,\n",
    "    maxdim=MAX_DIM,\n",
    "    metric='precomputed',\n",
    "    thresh=MAX_EDGE_LENGTH,\n",
    "    coeff=COEFF\n",
    ")\n",
    "\n",
    "print(\"\\n✓ Persistent homology computed!\")"
   ]
  },
  {
   "cell_type": "markdown",
   "metadata": {},
   "source": [
    "## Summary Statistics"
   ]
  },
  {
   "cell_type": "code",
   "execution_count": 13,
   "metadata": {},
   "outputs": [
    {
     "name": "stdout",
     "output_type": "stream",
     "text": [
      "\n",
      "Persistence diagrams summary:\n",
      "============================================================\n",
      "\n",
      "β0: 497 finite + 1 infinite features\n",
      "     Persistence range: [0.00, 65.31] logometers\n",
      "     Mean persistence: 50.10 logometers\n",
      "     Median persistence: 51.25 logometers\n",
      "\n",
      "β1: 0 finite + 0 infinite features\n",
      "\n",
      "β2: 0 finite + 0 infinite features\n"
     ]
    }
   ],
   "source": [
    "print(\"\\nPersistence diagrams summary:\")\n",
    "print(\"=\" * 60)\n",
    "\n",
    "for dim in range(MAX_DIM + 1):\n",
    "    dgm = result['dgms'][dim]\n",
    "    \n",
    "    # Separate finite and infinite features\n",
    "    finite_mask = np.isfinite(dgm).all(axis=1)\n",
    "    finite_features = dgm[finite_mask]\n",
    "    infinite_features = dgm[~finite_mask]\n",
    "    \n",
    "    print(f\"\\nβ{dim}: {len(finite_features)} finite + {len(infinite_features)} infinite features\")\n",
    "    \n",
    "    if len(finite_features) > 0:\n",
    "        persistence = finite_features[:, 1] - finite_features[:, 0]\n",
    "        print(f\"     Persistence range: [{persistence.min():.2f}, {persistence.max():.2f}] logometers\")\n",
    "        print(f\"     Mean persistence: {persistence.mean():.2f} logometers\")\n",
    "        print(f\"     Median persistence: {np.median(persistence):.2f} logometers\")"
   ]
  },
  {
   "cell_type": "markdown",
   "metadata": {},
   "source": [
    "## Persistence Diagrams\n",
    "\n",
    "Each point (x, y) represents a homology feature:\n",
    "- x = **birth** (when feature appears)\n",
    "- y = **death** (when feature disappears)\n",
    "- Distance from diagonal = **persistence** (lifetime)\n",
    "\n",
    "**Interpretation:**\n",
    "- Far from diagonal = long-lived = **real topology**\n",
    "- Near diagonal = short-lived = **noise**"
   ]
  },
  {
   "cell_type": "code",
   "execution_count": 14,
   "metadata": {},
   "outputs": [
    {
     "data": {
      "image/png": "[encoded data removed]",
      "text/plain": [
       "<Figure size 1500x400 with 4 Axes>"
      ]
     },
     "metadata": {},
     "output_type": "display_data"
    },
    {
     "name": "stdout",
     "output_type": "stream",
     "text": [
      "\n",
      "💡 Look at β₁ (middle plot) - any points far from the diagonal?\n"
     ]
    }
   ],
   "source": [
    "fig, axes = plt.subplots(1, 3, figsize=(15, 4))\n",
    "\n",
    "for dim in range(MAX_DIM + 1):\n",
    "    ax = axes[dim]\n",
    "    dgm = result['dgms'][dim]\n",
    "    \n",
    "    # Filter finite features\n",
    "    finite_mask = np.isfinite(dgm).all(axis=1)\n",
    "    finite_features = dgm[finite_mask]\n",
    "    \n",
    "    if len(finite_features) > 0:\n",
    "        # Compute persistence for coloring\n",
    "        persistence = finite_features[:, 1] - finite_features[:, 0]\n",
    "        \n",
    "        # Scatter plot\n",
    "        scatter = ax.scatter(\n",
    "            finite_features[:, 0],\n",
    "            finite_features[:, 1],\n",
    "            c=persistence,\n",
    "            cmap='viridis',\n",
    "            alpha=0.6,\n",
    "            s=20\n",
    "        )\n",
    "        plt.colorbar(scatter, ax=ax, label='Persistence')\n",
    "    \n",
    "    # Diagonal line (birth = death)\n",
    "    ax.plot([0, MAX_EDGE_LENGTH], [0, MAX_EDGE_LENGTH], 'k--', alpha=0.3, label='Birth = Death')\n",
    "    \n",
    "    ax.set_xlabel('Birth (logometers)', fontsize=11)\n",
    "    ax.set_ylabel('Death (logometers)', fontsize=11)\n",
    "    ax.set_title(f'β{dim} ({len(finite_features)} features)', fontsize=12, fontweight='bold')\n",
    "    ax.set_aspect('equal')\n",
    "    ax.grid(alpha=0.2)\n",
    "    ax.legend(fontsize=9)\n",
    "\n",
    "plt.tight_layout()\n",
    "plt.show()\n",
    "\n",
    "print(\"\\n💡 Look at β₁ (middle plot) - any points far from the diagonal?\")"
   ]
  },
  {
   "cell_type": "markdown",
   "metadata": {},
   "source": [
    "## β₁ Detailed Analysis (Loops)\n",
    "\n",
    "**This is the smoking gun for ring topology.**"
   ]
  },
  {
   "cell_type": "code",
   "execution_count": 15,
   "metadata": {},
   "outputs": [
    {
     "name": "stdout",
     "output_type": "stream",
     "text": [
      "\n",
      "======================================================================\n",
      "DETAILED ANALYSIS: β₁ (Loops/Tunnels)\n",
      "======================================================================\n",
      "\n",
      "⚠️  NO FINITE LOOPS DETECTED\n",
      "    β₁ = 0 (no loop topology in this scale range)\n",
      "\n",
      "    🎯 The ring structure is likely a UMAP projection artifact.\n",
      "    🎯 True topology appears simply-connected (no holes).\n"
     ]
    }
   ],
   "source": [
    "print(\"\\n\" + \"=\" * 70)\n",
    "print(\"DETAILED ANALYSIS: β₁ (Loops/Tunnels)\")\n",
    "print(\"=\" * 70)\n",
    "\n",
    "dgm1 = result['dgms'][1]\n",
    "finite_mask = np.isfinite(dgm1).all(axis=1)\n",
    "finite_loops = dgm1[finite_mask]\n",
    "\n",
    "if len(finite_loops) == 0:\n",
    "    print(\"\\n⚠️  NO FINITE LOOPS DETECTED\")\n",
    "    print(\"    β₁ = 0 (no loop topology in this scale range)\")\n",
    "    print(\"\\n    🎯 The ring structure is likely a UMAP projection artifact.\")\n",
    "    print(\"    🎯 True topology appears simply-connected (no holes).\")\n",
    "    \n",
    "else:\n",
    "    persistence = finite_loops[:, 1] - finite_loops[:, 0]\n",
    "    \n",
    "    print(f\"\\nTotal loops detected: {len(finite_loops):,}\")\n",
    "    print(f\"\\nPersistence statistics:\")\n",
    "    print(f\"  Min: {persistence.min():.2f} logometers\")\n",
    "    print(f\"  Max: {persistence.max():.2f} logometers\")\n",
    "    print(f\"  Mean: {persistence.mean():.2f} logometers\")\n",
    "    print(f\"  Median: {np.median(persistence):.2f} logometers\")\n",
    "    \n",
    "    # Top 10 most persistent loops\n",
    "    n_show = min(10, len(persistence))\n",
    "    top_indices = np.argsort(persistence)[-n_show:][::-1]\n",
    "    \n",
    "    print(f\"\\nTop {n_show} most persistent loops:\")\n",
    "    print(f\"{'Rank':<6} {'Birth':<12} {'Death':<12} {'Persistence':<15}\")\n",
    "    print(\"-\" * 50)\n",
    "    for rank, idx in enumerate(top_indices, 1):\n",
    "        birth = finite_loops[idx, 0]\n",
    "        death = finite_loops[idx, 1]\n",
    "        pers = persistence[idx]\n",
    "        print(f\"{rank:<6} {birth:<12.2f} {death:<12.2f} {pers:<15.2f}\")\n",
    "    \n",
    "    # Interpretation\n",
    "    max_pers = persistence.max()\n",
    "    \n",
    "    print(f\"\\n\" + \"=\" * 70)\n",
    "    print(\"INTERPRETATION:\")\n",
    "    print(\"=\" * 70)\n",
    "    \n",
    "    if max_pers > 10:\n",
    "        print(f\"\\n✅ SIGNIFICANT LOOP TOPOLOGY DETECTED!\")\n",
    "        print(f\"   Max persistence: {max_pers:.2f} logometers\")\n",
    "        print(f\"   This is FAR above noise threshold (~1-2 logometers)\")\n",
    "        print(f\"\\n   🎯 The ring structure is REAL TOPOLOGY!\")\n",
    "        print(f\"   🎯 Token space has genuine loop structure (β₁ ≠ 0)\")\n",
    "        print(f\"   🎯 Not a UMAP projection artifact - this is intrinsic geometry!\")\n",
    "        \n",
    "    elif max_pers > 3:\n",
    "        print(f\"\\n⚠️  MODERATE LOOP SIGNAL\")\n",
    "        print(f\"   Max persistence: {max_pers:.2f} logometers\")\n",
    "        print(f\"   Borderline - could be weak topology or large-scale noise\")\n",
    "        print(f\"\\n   💡 This suggests possible loop structure but not definitive\")\n",
    "        print(f\"   💡 Consider checking with different sample sizes or thresholds\")\n",
    "        \n",
    "    else:\n",
    "        print(f\"\\n❌ NO SIGNIFICANT LOOP TOPOLOGY\")\n",
    "        print(f\"   Max persistence: {max_pers:.2f} logometers\")\n",
    "        print(f\"   All loops are short-lived (< 3 logometers = noise level)\")\n",
    "        print(f\"\\n   🎯 The ring structure is likely a UMAP projection artifact\")\n",
    "        print(f\"   🎯 True topology appears simply-connected (β₁ ≈ 0)\")"
   ]
  },
  {
   "cell_type": "markdown",
   "metadata": {},
   "source": [
    "## Persistence Histogram (β₁)"
   ]
  },
  {
   "cell_type": "code",
   "execution_count": 16,
   "metadata": {},
   "outputs": [
    {
     "name": "stdout",
     "output_type": "stream",
     "text": [
      "\n",
      "No finite loops to plot histogram.\n"
     ]
    }
   ],
   "source": [
    "if len(finite_loops) > 0:\n",
    "    plt.figure(figsize=(10, 5))\n",
    "    \n",
    "    plt.hist(persistence, bins=50, alpha=0.7, edgecolor='black')\n",
    "    plt.axvline(x=3, color='orange', linestyle='--', linewidth=2, label='Noise threshold (~3)')\n",
    "    plt.axvline(x=10, color='red', linestyle='--', linewidth=2, label='Strong signal (>10)')\n",
    "    \n",
    "    plt.xlabel('Persistence (logometers)', fontsize=12)\n",
    "    plt.ylabel('Count', fontsize=12)\n",
    "    plt.title('β₁ Persistence Distribution', fontsize=14, fontweight='bold')\n",
    "    plt.legend(fontsize=10)\n",
    "    plt.grid(alpha=0.3)\n",
    "    plt.tight_layout()\n",
    "    plt.show()\n",
    "    \n",
    "    print(\"\\n💡 Features to the right of red line (>10) are DEFINITELY real topology\")\n",
    "    print(\"💡 Features between orange and red (3-10) are borderline\")\n",
    "    print(\"💡 Features left of orange (<3) are noise\")\n",
    "else:\n",
    "    print(\"\\nNo finite loops to plot histogram.\")"
   ]
  },
  {
   "cell_type": "markdown",
   "metadata": {},
   "source": [
    "## Summary\n",
    "\n",
    "**Question:** Is the ring structure real topology or a UMAP artifact?\n",
    "\n",
    "**Method:** Persistent homology on 32k token causal distances\n",
    "\n",
    "**Answer:** Check the β₁ analysis above!\n",
    "\n",
    "---\n",
    "\n",
    "**Key thresholds:**\n",
    "- Persistence > 10 logometers → **Definitely real topology**\n",
    "- Persistence 3-10 logometers → **Borderline/uncertain**\n",
    "- Persistence < 3 logometers → **Noise/artifact**"
   ]
  }
 ],
 "metadata": {
  "kernelspec": {
   "display_name": "azimuth",
   "language": "python",
   "name": "python3"
  },
  "language_info": {
   "codemirror_mode": {
    "name": "ipython",
    "version": 3
   },
   "file_extension": ".py",
   "mimetype": "text/x-python",
   "name": "python",
   "nbconvert_exporter": "python",
   "pygments_lexer": "ipython3",
   "version": "3.12.11"
  }
 },
 "nbformat": 4,
 "nbformat_minor": 4
}
