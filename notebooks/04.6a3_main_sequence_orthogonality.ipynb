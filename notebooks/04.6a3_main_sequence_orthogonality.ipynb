{
 "cells": [
  {
   "cell_type": "markdown",
   "id": "intro",
   "metadata": {},
   "source": [
    "# 04.6a3 Main Sequence Orthogonality: Are Semantic Tokens Perpendicular to Quasars?\n",
    "\n",
    "**Hypothesis:** Tokens at the modal radius (~54 logometers) represent typical semantic content and lie in a subspace **orthogonal** to the structural tokens (quasars).\n",
    "\n",
    "If true, this would mean the model learned to geometrically separate:\n",
    "- **Structural/meta-linguistic information** (endoftext, newline, formatting) → pushed to extreme distances\n",
    "- **Semantic/content information** (meaning, typical words) → lives in orthogonal complement\n",
    "\n",
    "## The Test\n",
    "\n",
    "1. Find top k tokens with causal norm closest to mean (\"main sequence\" tokens)\n",
    "2. Compute their projections onto the three quasar directions:\n",
    "   - `<|endoftext|>`\n",
    "   - `\\n` (newline)\n",
    "   - `\\u200b\\u200b` (zero-width space)\n",
    "3. Compare to projections onto random typical tokens (control)\n",
    "\n",
    "**Prediction if hypothesis is true:**\n",
    "- Mean projection onto quasars ≈ 0\n",
    "- Projections onto quasars < projections onto random tokens\n",
    "\n",
    "**Null hypothesis:**\n",
    "- In high-dimensional space, all vectors are nearly orthogonal anyway\n",
    "- Quasars are not special—they're just as orthogonal as any other direction"
   ]
  },
  {
   "cell_type": "markdown",
   "id": "config-header",
   "metadata": {},
   "source": [
    "## Configuration"
   ]
  },
  {
   "cell_type": "code",
   "execution_count": 9,
   "id": "config",
   "metadata": {},
   "outputs": [
    {
     "name": "stdout",
     "output_type": "stream",
     "text": [
      "Using device: mps\n"
     ]
    }
   ],
   "source": [
    "import torch\n",
    "import numpy as np\n",
    "import matplotlib.pyplot as plt\n",
    "from pathlib import Path\n",
    "from transformers import AutoModelForCausalLM, AutoTokenizer\n",
    "\n",
    "# Model and paths\n",
    "MODEL_NAME = \"Qwen/Qwen3-4B-Instruct-2507\"\n",
    "METRIC_PATH = Path(\"../data/vectors/causal_metric_tensor_qwen3_4b.pt\")\n",
    "\n",
    "# Analysis parameters\n",
    "K_MAIN_SEQUENCE = 100  # Number of most typical tokens to analyze\n",
    "N_RANDOM_CONTROL = 10  # Number of random tokens for comparison\n",
    "\n",
    "# Device\n",
    "device = torch.device(\"mps\" if torch.backends.mps.is_available() else \"cpu\")\n",
    "print(f\"Using device: {device}\")\n",
    "\n",
    "# Plot style\n",
    "plt.style.use('default')\n",
    "plt.rcParams['figure.figsize'] = (14, 6)\n",
    "plt.rcParams['font.size'] = 10"
   ]
  },
  {
   "cell_type": "markdown",
   "id": "load-header",
   "metadata": {},
   "source": [
    "## Load Model, Tokenizer, and Metric Tensor"
   ]
  },
  {
   "cell_type": "code",
   "execution_count": 10,
   "id": "load-data",
   "metadata": {},
   "outputs": [
    {
     "name": "stdout",
     "output_type": "stream",
     "text": [
      "Loading causal metric tensor...\n",
      "M shape: torch.Size([2560, 2560])\n",
      "\n",
      "Loading Qwen/Qwen3-4B-Instruct-2507...\n"
     ]
    },
    {
     "data": {
      "application/vnd.jupyter.widget-view+json": {
       "model_id": "9ac1c02ea6284c4e801e0c8cba23cc7a",
       "version_major": 2,
       "version_minor": 0
      },
      "text/plain": [
       "Loading checkpoint shards:   0%|          | 0/3 [00:00<?, ?it/s]"
      ]
     },
     "metadata": {},
     "output_type": "display_data"
    },
    {
     "name": "stdout",
     "output_type": "stream",
     "text": [
      "Gamma shape: torch.Size([151936, 2560])\n",
      "\n",
      "Tokenizer loaded.\n"
     ]
    }
   ],
   "source": [
    "# Load metric tensor\n",
    "print(\"Loading causal metric tensor...\")\n",
    "metric_data = torch.load(METRIC_PATH, map_location=device, weights_only=True)\n",
    "M = metric_data['M']\n",
    "print(f\"M shape: {M.shape}\")\n",
    "print()\n",
    "\n",
    "# Load model for gamma matrix\n",
    "print(f\"Loading {MODEL_NAME}...\")\n",
    "model = AutoModelForCausalLM.from_pretrained(\n",
    "    MODEL_NAME,\n",
    "    torch_dtype=torch.bfloat16,\n",
    "    device_map=device,\n",
    ")\n",
    "model.eval()\n",
    "\n",
    "# Extract gamma (unembedding matrix)\n",
    "gamma = model.lm_head.weight.data.to(dtype=torch.float32, device=device)\n",
    "vocab_size, hidden_dim = gamma.shape\n",
    "print(f\"Gamma shape: {gamma.shape}\")\n",
    "print()\n",
    "\n",
    "# Load tokenizer for decoding\n",
    "tokenizer = AutoTokenizer.from_pretrained(MODEL_NAME)\n",
    "print(\"Tokenizer loaded.\")"
   ]
  },
  {
   "cell_type": "markdown",
   "id": "norms-header",
   "metadata": {},
   "source": [
    "## Compute Causal Norms for All Tokens"
   ]
  },
  {
   "cell_type": "code",
   "execution_count": 11,
   "id": "compute-norms",
   "metadata": {},
   "outputs": [
    {
     "name": "stdout",
     "output_type": "stream",
     "text": [
      "Computing causal norms...\n",
      "Mean causal norm: 54.1318 logometers\n",
      "\n"
     ]
    }
   ],
   "source": [
    "print(\"Computing causal norms...\")\n",
    "gamma_M = gamma @ M\n",
    "causal_norms_squared = (gamma_M * gamma).sum(dim=1)\n",
    "causal_norms = torch.sqrt(torch.clamp(causal_norms_squared, min=0))\n",
    "\n",
    "mean_norm = causal_norms.mean().item()\n",
    "print(f\"Mean causal norm: {mean_norm:.4f} logometers\")\n",
    "print()"
   ]
  },
  {
   "cell_type": "markdown",
   "id": "main-seq-header",
   "metadata": {},
   "source": [
    "## Find Main Sequence Tokens (Closest to Mean Norm)"
   ]
  },
  {
   "cell_type": "code",
   "execution_count": 12,
   "id": "find-main-sequence",
   "metadata": {},
   "outputs": [
    {
     "name": "stdout",
     "output_type": "stream",
     "text": [
      "Found 100 main sequence tokens (closest to mean norm)\n",
      "  Mean deviation from population mean: 0.0021 logometers\n",
      "  Their mean norm: 54.1319 logometers\n",
      "\n",
      "First 20 main sequence tokens (most typical by norm):\n",
      "================================================================================\n",
      "  1. Token ID  51704 | 54.1319 logometers (Δ=0.0000) | 'UniformLocation'\n",
      "  2. Token ID 129969 | 54.1318 logometers (Δ=0.0001) | 'ıldı'\n",
      "  3. Token ID  92698 | 54.1317 logometers (Δ=0.0001) | 'Downloader'\n",
      "  4. Token ID 139127 | 54.1320 logometers (Δ=0.0002) | ' hộp'\n",
      "  5. Token ID  77581 | 54.1320 logometers (Δ=0.0002) | ' Pluto'\n",
      "  6. Token ID 118802 | 54.1320 logometers (Δ=0.0002) | '强硬'\n",
      "  7. Token ID  69473 | 54.1315 logometers (Δ=0.0003) | '_fg'\n",
      "  8. Token ID  47686 | 54.1322 logometers (Δ=0.0004) | ' prejudice'\n",
      "  9. Token ID 124119 | 54.1315 logometers (Δ=0.0004) | 'にな'\n",
      " 10. Token ID 132459 | 54.1323 logometers (Δ=0.0005) | ' достат'\n",
      " 11. Token ID 101087 | 54.1323 logometers (Δ=0.0005) | '运营'\n",
      " 12. Token ID 120966 | 54.1323 logometers (Δ=0.0005) | '锕'\n",
      " 13. Token ID 140511 | 54.1323 logometers (Δ=0.0005) | ' уника'\n",
      " 14. Token ID  21392 | 54.1323 logometers (Δ=0.0005) | ' Intelligence'\n",
      " 15. Token ID  46467 | 54.1313 logometers (Δ=0.0005) | '-editor'\n",
      " 16. Token ID  62222 | 54.1325 logometers (Δ=0.0006) | '_Ass'\n",
      " 17. Token ID  94173 | 54.1325 logometers (Δ=0.0007) | ' graphite'\n",
      " 18. Token ID 144153 | 54.1312 logometers (Δ=0.0007) | '텍'\n",
      " 19. Token ID 121788 | 54.1312 logometers (Δ=0.0007) | '篪'\n",
      " 20. Token ID  95855 | 54.1325 logometers (Δ=0.0007) | ' flea'\n",
      "\n"
     ]
    }
   ],
   "source": [
    "# Find tokens with norms closest to mean\n",
    "deviations = torch.abs(causal_norms - mean_norm)\n",
    "sorted_by_deviation = torch.argsort(deviations)\n",
    "main_sequence_indices = sorted_by_deviation[:K_MAIN_SEQUENCE]\n",
    "main_sequence_norms = causal_norms[main_sequence_indices]\n",
    "\n",
    "print(f\"Found {K_MAIN_SEQUENCE} main sequence tokens (closest to mean norm)\")\n",
    "print(f\"  Mean deviation from population mean: {deviations[main_sequence_indices].mean().item():.4f} logometers\")\n",
    "print(f\"  Their mean norm: {main_sequence_norms.mean().item():.4f} logometers\")\n",
    "print()\n",
    "\n",
    "# Show first 20 as examples\n",
    "print(\"First 20 main sequence tokens (most typical by norm):\")\n",
    "print(\"=\"*80)\n",
    "for i in range(min(20, K_MAIN_SEQUENCE)):\n",
    "    idx = main_sequence_indices[i].item()\n",
    "    norm = causal_norms[idx].item()\n",
    "    deviation = deviations[idx].item()\n",
    "    token_str = tokenizer.decode([idx])\n",
    "    print(f\"{i+1:3d}. Token ID {idx:6d} | {norm:7.4f} logometers (Δ={deviation:6.4f}) | {repr(token_str)}\")\n",
    "print()"
   ]
  },
  {
   "cell_type": "markdown",
   "id": "quasars-header",
   "metadata": {},
   "source": [
    "## Extract Quasar Vectors"
   ]
  },
  {
   "cell_type": "code",
   "execution_count": 13,
   "id": "extract-quasars",
   "metadata": {},
   "outputs": [
    {
     "name": "stdout",
     "output_type": "stream",
     "text": [
      "Quasar vectors:\n",
      "  1. <|endoftext|>                  | 85.2873 logometers\n",
      "  2. \\n (newline)                   | 82.0617 logometers\n",
      "  3. \\u200b\\u200b (zero-width)      | 81.1831 logometers\n",
      "\n"
     ]
    }
   ],
   "source": [
    "# Token IDs from 04.6a\n",
    "quasar_ids = [\n",
    "    151643,  # <|endoftext|>\n",
    "    198,     # \\n\n",
    "    72363,   # \\u200b\\u200b (double zero-width space)\n",
    "]\n",
    "\n",
    "quasar_names = [\n",
    "    '<|endoftext|>',\n",
    "    '\\\\n (newline)',\n",
    "    '\\\\u200b\\\\u200b (zero-width)',\n",
    "]\n",
    "\n",
    "quasar_vectors = gamma[quasar_ids]  # [3, hidden_dim]\n",
    "\n",
    "print(\"Quasar vectors:\")\n",
    "for i, (qid, name) in enumerate(zip(quasar_ids, quasar_names)):\n",
    "    norm = causal_norms[qid].item()\n",
    "    print(f\"  {i+1}. {name:30s} | {norm:7.4f} logometers\")\n",
    "print()"
   ]
  },
  {
   "cell_type": "markdown",
   "id": "proj-header",
   "metadata": {},
   "source": [
    "## Compute Projections: Main Sequence → Quasars\n",
    "\n",
    "We'll compute projections using **both** metrics to understand different aspects of orthogonality:\n",
    "\n",
    "1. **Euclidean projections:** Test geometric independence in embedding space (ℝ²⁵⁶⁰)\n",
    "2. **Causal projections:** Test statistical independence under the learned metric\n",
    "\n",
    "### Euclidean Projections"
   ]
  },
  {
   "cell_type": "code",
   "execution_count": 14,
   "id": "compute-projections",
   "metadata": {},
   "outputs": [
    {
     "name": "stdout",
     "output_type": "stream",
     "text": [
      "Computing EUCLIDEAN projections of main sequence tokens onto quasars...\n",
      "\n",
      "Projections onto <|endoftext|>:\n",
      "  Mean:  -0.1132 (should be ~0 if orthogonal)\n",
      "  Std:    0.0353\n",
      "  Mean absolute:   0.1132\n",
      "\n",
      "Projections onto \\n (newline):\n",
      "  Mean:  -0.1776 (should be ~0 if orthogonal)\n",
      "  Std:    0.0501\n",
      "  Mean absolute:   0.1776\n",
      "\n",
      "Projections onto \\u200b\\u200b (zero-width):\n",
      "  Mean:  +0.0610 (should be ~0 if orthogonal)\n",
      "  Std:    0.0236\n",
      "  Mean absolute:   0.0611\n",
      "\n"
     ]
    }
   ],
   "source": [
    "print(\"Computing EUCLIDEAN projections of main sequence tokens onto quasars...\")\n",
    "print()\n",
    "\n",
    "# Get main sequence vectors\n",
    "main_seq_vectors = gamma[main_sequence_indices]  # [K, hidden_dim]\n",
    "\n",
    "# For each quasar, compute Euclidean projections\n",
    "projections_onto_quasars_euc = []\n",
    "\n",
    "for i, (quasar_vec, quasar_name) in enumerate(zip(quasar_vectors, quasar_names)):\n",
    "    # Euclidean projection: (v · q) / ||q||\n",
    "    dot_products = (main_seq_vectors * quasar_vec).sum(dim=1)  # [K]\n",
    "    quasar_norm = torch.norm(quasar_vec)\n",
    "    projections = dot_products / quasar_norm  # [K]\n",
    "    \n",
    "    projections_onto_quasars_euc.append(projections)\n",
    "    \n",
    "    # Statistics\n",
    "    mean_proj = projections.mean().item()\n",
    "    std_proj = projections.std().item()\n",
    "    abs_mean = projections.abs().mean().item()\n",
    "    \n",
    "    print(f\"Projections onto {quasar_name}:\")\n",
    "    print(f\"  Mean: {mean_proj:+8.4f} (should be ~0 if orthogonal)\")\n",
    "    print(f\"  Std:  {std_proj:8.4f}\")\n",
    "    print(f\"  Mean absolute: {abs_mean:8.4f}\")\n",
    "    print()\n",
    "\n",
    "# Convert to tensor for easier manipulation\n",
    "projections_onto_quasars_euc = torch.stack(projections_onto_quasars_euc)  # [3, K]"
   ]
  },
  {
   "cell_type": "markdown",
   "id": "ju25l9hil8",
   "metadata": {},
   "source": [
    "### Causal Projections"
   ]
  },
  {
   "cell_type": "code",
   "execution_count": 15,
   "id": "i08exuyeyeg",
   "metadata": {},
   "outputs": [
    {
     "name": "stdout",
     "output_type": "stream",
     "text": [
      "Computing CAUSAL projections of main sequence tokens onto quasars...\n",
      "\n",
      "Projections onto <|endoftext|>:\n",
      "  Mean:  -0.0407 (should be ~0 if orthogonal)\n",
      "  Std:    0.8471\n",
      "  Mean absolute:   0.6356\n",
      "\n",
      "Projections onto \\n (newline):\n",
      "  Mean:  +3.0250 (should be ~0 if orthogonal)\n",
      "  Std:    0.8639\n",
      "  Mean absolute:   3.0499\n",
      "\n",
      "Projections onto \\u200b\\u200b (zero-width):\n",
      "  Mean:  +5.0067 (should be ~0 if orthogonal)\n",
      "  Std:    0.7939\n",
      "  Mean absolute:   5.0067\n",
      "\n"
     ]
    }
   ],
   "source": [
    "print(\"Computing CAUSAL projections of main sequence tokens onto quasars...\")\n",
    "print()\n",
    "\n",
    "# For each quasar, compute Causal projections\n",
    "projections_onto_quasars_caus = []\n",
    "\n",
    "for i, (quasar_vec, quasar_name, qid) in enumerate(zip(quasar_vectors, quasar_names, quasar_ids)):\n",
    "    # Causal projection: (v^T M q) / ||q||_M\n",
    "    # v^T M q = (v @ M) · q\n",
    "    v_M = main_seq_vectors @ M  # [K, hidden_dim]\n",
    "    causal_dot_products = (v_M * quasar_vec).sum(dim=1)  # [K]\n",
    "    \n",
    "    # Causal norm of quasar\n",
    "    quasar_norm_caus = causal_norms[qid]\n",
    "    \n",
    "    # Projection\n",
    "    projections = causal_dot_products / quasar_norm_caus  # [K]\n",
    "    \n",
    "    projections_onto_quasars_caus.append(projections)\n",
    "    \n",
    "    # Statistics\n",
    "    mean_proj = projections.mean().item()\n",
    "    std_proj = projections.std().item()\n",
    "    abs_mean = projections.abs().mean().item()\n",
    "    \n",
    "    print(f\"Projections onto {quasar_name}:\")\n",
    "    print(f\"  Mean: {mean_proj:+8.4f} (should be ~0 if orthogonal)\")\n",
    "    print(f\"  Std:  {std_proj:8.4f}\")\n",
    "    print(f\"  Mean absolute: {abs_mean:8.4f}\")\n",
    "    print()\n",
    "\n",
    "# Convert to tensor\n",
    "projections_onto_quasars_caus = torch.stack(projections_onto_quasars_caus)  # [3, K]"
   ]
  },
  {
   "cell_type": "markdown",
   "id": "control-header",
   "metadata": {},
   "source": [
    "## Control: Projections onto Random Typical Tokens\n",
    "\n",
    "We'll compute control projections using **both** metrics for comparison."
   ]
  },
  {
   "cell_type": "code",
   "execution_count": 16,
   "id": "random-control",
   "metadata": {},
   "outputs": [
    {
     "name": "stdout",
     "output_type": "stream",
     "text": [
      "Computing projections onto 10 random typical tokens (control)...\n",
      "\n",
      "EUCLIDEAN control projections:\n",
      "  Mean absolute projection:   0.0916\n",
      "  Std:   0.0329\n",
      "\n",
      "CAUSAL control projections:\n",
      "  Mean absolute projection:   8.2217\n",
      "  Std:   0.9318\n",
      "\n",
      "================================================================================\n",
      "COMPARISON: Quasars vs Random Control\n",
      "================================================================================\n",
      "\n",
      "Metric               Quasars      Control      Ratio\n",
      "--------------------------------------------------------------------------------\n",
      "Euclidean             0.1173       0.0916     1.2810\n",
      "Causal                2.8974       8.2217     0.3524\n",
      "\n",
      "Interpretation (ratio < 0.8 means quasars are MORE orthogonal):\n",
      "\n",
      "Euclidean:\n",
      "  ✗ QUASARS ARE LESS ORTHOGONAL (ratio=1.2810)\n",
      "  → Main sequence tokens are aligned with structural tokens!\n",
      "\n",
      "Causal:\n",
      "  ✓ QUASARS ARE MORE ORTHOGONAL (ratio=0.3524)\n",
      "  → Structural tokens occupy geometrically distinct subspace\n",
      "\n"
     ]
    }
   ],
   "source": [
    "print(f\"Computing projections onto {N_RANDOM_CONTROL} random typical tokens (control)...\")\n",
    "print()\n",
    "\n",
    "# Sample random tokens from main sequence (excluding the ones we're measuring)\n",
    "control_indices = sorted_by_deviation[K_MAIN_SEQUENCE:K_MAIN_SEQUENCE + N_RANDOM_CONTROL]\n",
    "control_vectors = gamma[control_indices]  # [N_RANDOM_CONTROL, hidden_dim]\n",
    "\n",
    "# ===== EUCLIDEAN CONTROL =====\n",
    "print(\"EUCLIDEAN control projections:\")\n",
    "projections_onto_control_euc = []\n",
    "\n",
    "for i, control_vec in enumerate(control_vectors):\n",
    "    dot_products = (main_seq_vectors * control_vec).sum(dim=1)\n",
    "    control_norm = torch.norm(control_vec)\n",
    "    projections = dot_products / control_norm\n",
    "    projections_onto_control_euc.append(projections)\n",
    "\n",
    "projections_onto_control_euc = torch.stack(projections_onto_control_euc)  # [N_RANDOM_CONTROL, K]\n",
    "mean_proj_control_euc = projections_onto_control_euc.abs().mean().item()\n",
    "std_proj_control_euc = projections_onto_control_euc.std().item()\n",
    "\n",
    "print(f\"  Mean absolute projection: {mean_proj_control_euc:8.4f}\")\n",
    "print(f\"  Std: {std_proj_control_euc:8.4f}\")\n",
    "print()\n",
    "\n",
    "# ===== CAUSAL CONTROL =====\n",
    "print(\"CAUSAL control projections:\")\n",
    "projections_onto_control_caus = []\n",
    "\n",
    "for i, (control_vec, cidx) in enumerate(zip(control_vectors, control_indices)):\n",
    "    v_M = main_seq_vectors @ M\n",
    "    causal_dot_products = (v_M * control_vec).sum(dim=1)\n",
    "    control_norm_caus = causal_norms[cidx]\n",
    "    projections = causal_dot_products / control_norm_caus\n",
    "    projections_onto_control_caus.append(projections)\n",
    "\n",
    "projections_onto_control_caus = torch.stack(projections_onto_control_caus)  # [N_RANDOM_CONTROL, K]\n",
    "mean_proj_control_caus = projections_onto_control_caus.abs().mean().item()\n",
    "std_proj_control_caus = projections_onto_control_caus.std().item()\n",
    "\n",
    "print(f\"  Mean absolute projection: {mean_proj_control_caus:8.4f}\")\n",
    "print(f\"  Std: {std_proj_control_caus:8.4f}\")\n",
    "print()\n",
    "\n",
    "# ===== COMPARISON =====\n",
    "mean_proj_quasars_euc = projections_onto_quasars_euc.abs().mean().item()\n",
    "mean_proj_quasars_caus = projections_onto_quasars_caus.abs().mean().item()\n",
    "\n",
    "print(\"=\"*80)\n",
    "print(\"COMPARISON: Quasars vs Random Control\")\n",
    "print(\"=\"*80)\n",
    "print()\n",
    "print(f\"{'Metric':<15s} {'Quasars':>12s} {'Control':>12s} {'Ratio':>10s}\")\n",
    "print(\"-\"*80)\n",
    "print(f\"{'Euclidean':<15s} {mean_proj_quasars_euc:>12.4f} {mean_proj_control_euc:>12.4f} {mean_proj_quasars_euc/mean_proj_control_euc:>10.4f}\")\n",
    "print(f\"{'Causal':<15s} {mean_proj_quasars_caus:>12.4f} {mean_proj_control_caus:>12.4f} {mean_proj_quasars_caus/mean_proj_control_caus:>10.4f}\")\n",
    "print()\n",
    "\n",
    "# Interpretation\n",
    "print(\"Interpretation (ratio < 0.8 means quasars are MORE orthogonal):\")\n",
    "print()\n",
    "\n",
    "for metric_name, ratio in [(\"Euclidean\", mean_proj_quasars_euc/mean_proj_control_euc), \n",
    "                            (\"Causal\", mean_proj_quasars_caus/mean_proj_control_caus)]:\n",
    "    print(f\"{metric_name}:\")\n",
    "    if ratio < 0.8:\n",
    "        print(f\"  ✓ QUASARS ARE MORE ORTHOGONAL (ratio={ratio:.4f})\")\n",
    "        print(f\"  → Structural tokens occupy geometrically distinct subspace\")\n",
    "    elif ratio < 1.2:\n",
    "        print(f\"  ≈ Similar to control (ratio={ratio:.4f})\")\n",
    "        print(f\"  → Just high-dimensional geometry, nothing special\")\n",
    "    else:\n",
    "        print(f\"  ✗ QUASARS ARE LESS ORTHOGONAL (ratio={ratio:.4f})\")\n",
    "        print(f\"  → Main sequence tokens are aligned with structural tokens!\")\n",
    "    print()"
   ]
  },
  {
   "cell_type": "markdown",
   "id": "viz-header",
   "metadata": {},
   "source": [
    "## Visualize Projection Distributions"
   ]
  },
  {
   "cell_type": "code",
   "execution_count": 17,
   "id": "visualize",
   "metadata": {},
   "outputs": [
    {
     "data": {
      "image/png": "[encoded data removed]",
      "text/plain": [
       "<Figure size 1800x500 with 3 Axes>"
      ]
     },
     "metadata": {},
     "output_type": "display_data"
    }
   ],
   "source": [
    "fig, axes = plt.subplots(1, 3, figsize=(18, 5))\n",
    "\n",
    "for i, (ax, quasar_name) in enumerate(zip(axes, quasar_names)):\n",
    "    projections = projections_onto_quasars[i].cpu().numpy()\n",
    "    \n",
    "    ax.hist(projections, bins=50, color='steelblue', alpha=0.7, edgecolor='black', linewidth=0.5)\n",
    "    ax.axvline(0, color='red', linestyle='--', linewidth=2, label='Zero (perfect orthogonality)')\n",
    "    ax.axvline(projections.mean(), color='green', linestyle='--', linewidth=2, \n",
    "               label=f'Mean: {projections.mean():.2f}')\n",
    "    \n",
    "    ax.set_xlabel('Projection magnitude', fontsize=11)\n",
    "    ax.set_ylabel('Count (main sequence tokens)', fontsize=11)\n",
    "    ax.set_title(f'Projections onto {quasar_name}', fontsize=12, fontweight='bold')\n",
    "    ax.legend(fontsize=10)\n",
    "    ax.grid(True, alpha=0.3)\n",
    "\n",
    "plt.tight_layout()\n",
    "plt.show()"
   ]
  },
  {
   "cell_type": "markdown",
   "id": "summary-header",
   "metadata": {},
   "source": [
    "## Summary\n",
    "\n",
    "This notebook tested whether typical semantic content tokens (main sequence) are orthogonal to structural tokens (quasars).\n",
    "\n",
    "**Key findings:**\n",
    "- Mean projections of main sequence tokens onto quasars\n",
    "- Comparison to projections onto random typical tokens (control)\n",
    "- Whether quasars occupy a geometrically distinct subspace\n",
    "\n",
    "**Interpretation:**\n",
    "- If quasars are more orthogonal: The model learned to separate structural and semantic information along independent axes\n",
    "- If similar to control: High-dimensional geometry—all vectors are nearly orthogonal anyway\n",
    "- If less orthogonal: Unexpected alignment between structure and content (would be surprising!)\n",
    "\n",
    "**Implications for steering:**\n",
    "- If orthogonal: Steering along semantic directions won't interfere with structural markers\n",
    "- If aligned: Semantic steering might inadvertently push toward/away from boundaries like `<|endoftext|>`"
   ]
  }
 ],
 "metadata": {
  "kernelspec": {
   "display_name": "azimuth",
   "language": "python",
   "name": "python3"
  },
  "language_info": {
   "codemirror_mode": {
    "name": "ipython",
    "version": 3
   },
   "file_extension": ".py",
   "mimetype": "text/x-python",
   "name": "python",
   "nbconvert_exporter": "python",
   "pygments_lexer": "ipython3",
   "version": "3.12.11"
  }
 },
 "nbformat": 4,
 "nbformat_minor": 5
}
