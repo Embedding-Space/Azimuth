{
 "cells": [
  {
   "cell_type": "markdown",
   "metadata": {},
   "source": [
    "# Community Structure Analysis\n",
    "\n",
    "Uses **Louvain community detection** to identify natural clusters in semantic space.\n",
    "\n",
    "## Question\n",
    "\n",
    "We know semantic space is positively curved (clustered), but is it:\n",
    "- **One giant blob** — all tokens in a single connected cluster?\n",
    "- **Archipelago** — many separate semantic islands?\n",
    "- **Few large continents** — small number of major semantic regions?\n",
    "\n",
    "Community detection on the k-NN graph reveals the clustering structure."
   ]
  },
  {
   "cell_type": "markdown",
   "metadata": {},
   "source": [
    "## Configuration"
   ]
  },
  {
   "cell_type": "code",
   "execution_count": 1,
   "metadata": {},
   "outputs": [],
   "source": [
    "# Path to saved metric tensor\n",
    "TENSOR_PATH = \"../data/vectors/causal_metric_tensor_qwen3_4b.pt\"\n",
    "\n",
    "# Sampling parameters\n",
    "N_SAMPLES = 8000  # Large sample for community detection\n",
    "K_NEIGHBORS = 20  # Number of nearest neighbors\n",
    "RANDOM_SEED = 42  # For reproducibility"
   ]
  },
  {
   "cell_type": "markdown",
   "metadata": {},
   "source": [
    "## Setup"
   ]
  },
  {
   "cell_type": "code",
   "execution_count": 2,
   "metadata": {},
   "outputs": [],
   "source": [
    "import torch\n",
    "import numpy as np\n",
    "import matplotlib.pyplot as plt\n",
    "import networkx as nx\n",
    "import community as community_louvain\n",
    "from collections import Counter\n",
    "from pathlib import Path"
   ]
  },
  {
   "cell_type": "markdown",
   "metadata": {},
   "source": [
    "## Load Data"
   ]
  },
  {
   "cell_type": "code",
   "execution_count": 3,
   "metadata": {},
   "outputs": [
    {
     "name": "stdout",
     "output_type": "stream",
     "text": [
      "Loading data from ../data/vectors/causal_metric_tensor_qwen3_4b.pt...\n"
     ]
    },
    {
     "name": "stderr",
     "output_type": "stream",
     "text": [
      "`torch_dtype` is deprecated! Use `dtype` instead!\n"
     ]
    },
    {
     "name": "stdout",
     "output_type": "stream",
     "text": [
      "Loading model Qwen/Qwen3-4B-Instruct-2507 to extract gamma...\n"
     ]
    },
    {
     "data": {
      "application/vnd.jupyter.widget-view+json": {
       "model_id": "08024fdcf04d40e991aa478281dcdf3d",
       "version_major": 2,
       "version_minor": 0
      },
      "text/plain": [
       "Loading checkpoint shards:   0%|          | 0/3 [00:00<?, ?it/s]"
      ]
     },
     "metadata": {},
     "output_type": "display_data"
    },
    {
     "name": "stdout",
     "output_type": "stream",
     "text": [
      "\n",
      "Unembedding matrix: torch.Size([151936, 2560])\n",
      "Metric tensor: torch.Size([2560, 2560])\n",
      "Device: mps\n"
     ]
    }
   ],
   "source": [
    "print(f\"Loading data from {TENSOR_PATH}...\")\n",
    "data = torch.load(TENSOR_PATH)\n",
    "\n",
    "M = data['M']\n",
    "\n",
    "# Reload model to get gamma\n",
    "from transformers import AutoModelForCausalLM\n",
    "\n",
    "MODEL_NAME = data['metadata']['model']\n",
    "print(f\"Loading model {MODEL_NAME} to extract gamma...\")\n",
    "\n",
    "device = torch.device('mps' if torch.backends.mps.is_available() else 'cpu')\n",
    "model = AutoModelForCausalLM.from_pretrained(\n",
    "    MODEL_NAME,\n",
    "    torch_dtype=torch.bfloat16,\n",
    "    device_map=device,\n",
    ")\n",
    "model.eval()\n",
    "\n",
    "gamma = model.lm_head.weight.data.to(dtype=torch.float32, device=device)\n",
    "vocab_size, hidden_dim = gamma.shape\n",
    "\n",
    "print(f\"\\nUnembedding matrix: {gamma.shape}\")\n",
    "print(f\"Metric tensor: {M.shape}\")\n",
    "print(f\"Device: {device}\")"
   ]
  },
  {
   "cell_type": "markdown",
   "metadata": {},
   "source": [
    "## Helper Functions"
   ]
  },
  {
   "cell_type": "code",
   "execution_count": 4,
   "metadata": {},
   "outputs": [
    {
     "name": "stdout",
     "output_type": "stream",
     "text": [
      "✓ compute_causal_distances defined\n"
     ]
    }
   ],
   "source": [
    "def compute_causal_distances(embeddings, M_matrix):\n",
    "    \"\"\"Compute pairwise causal distances: d(x,y) = sqrt((x-y)^T M (x-y))\"\"\"\n",
    "    n = embeddings.shape[0]\n",
    "    distances = torch.zeros(n, n, device=embeddings.device, dtype=embeddings.dtype)\n",
    "    \n",
    "    batch_size = 100\n",
    "    for i in range(0, n, batch_size):\n",
    "        i_end = min(i + batch_size, n)\n",
    "        for j in range(0, n, batch_size):\n",
    "            j_end = min(j + batch_size, n)\n",
    "            \n",
    "            diff = embeddings[i:i_end, None, :] - embeddings[None, j:j_end, :]\n",
    "            temp = torch.einsum('ijk,kl->ijl', diff, M_matrix)\n",
    "            dist_squared = torch.einsum('ijk,ijk->ij', temp, diff)\n",
    "            distances[i:i_end, j:j_end] = torch.sqrt(torch.clamp(dist_squared, min=0))\n",
    "    \n",
    "    return distances\n",
    "\n",
    "print(\"✓ compute_causal_distances defined\")"
   ]
  },
  {
   "cell_type": "code",
   "execution_count": 5,
   "metadata": {},
   "outputs": [
    {
     "name": "stdout",
     "output_type": "stream",
     "text": [
      "✓ build_knn_graph defined\n"
     ]
    }
   ],
   "source": [
    "def build_knn_graph(distances, k=20):\n",
    "    \"\"\"Build k-nearest neighbor graph from distance matrix.\"\"\"\n",
    "    n = distances.shape[0]\n",
    "    \n",
    "    # Find k nearest neighbors for each node\n",
    "    neighbors = {}\n",
    "    for i in range(n):\n",
    "        dists = distances[i].cpu().numpy()\n",
    "        dists[i] = np.inf\n",
    "        knn_indices = np.argpartition(dists, k)[:k]\n",
    "        neighbors[i] = set(knn_indices.tolist())\n",
    "    \n",
    "    # Build edge list\n",
    "    edges = []\n",
    "    edge_set = set()\n",
    "    for i in range(n):\n",
    "        for j in neighbors[i]:\n",
    "            if (i, j) not in edge_set and (j, i) not in edge_set:\n",
    "                weight = distances[i, j].item()\n",
    "                edges.append((i, j, weight))\n",
    "                edge_set.add((i, j))\n",
    "    \n",
    "    return edges, neighbors\n",
    "\n",
    "print(\"✓ build_knn_graph defined\")"
   ]
  },
  {
   "cell_type": "markdown",
   "metadata": {},
   "source": [
    "## Sample and Build Graph"
   ]
  },
  {
   "cell_type": "code",
   "execution_count": 6,
   "metadata": {},
   "outputs": [
    {
     "name": "stdout",
     "output_type": "stream",
     "text": [
      "Sampling 8000 random tokens...\n",
      "Computing causal distances...\n",
      "Building k-NN graph (k=20)...\n",
      "  158929 edges\n"
     ]
    }
   ],
   "source": [
    "print(f\"Sampling {N_SAMPLES} random tokens...\")\n",
    "torch.manual_seed(RANDOM_SEED)\n",
    "token_indices = torch.randperm(vocab_size)[:N_SAMPLES]\n",
    "sampled_embeddings = gamma[token_indices]\n",
    "\n",
    "print(\"Computing causal distances...\")\n",
    "distances = compute_causal_distances(sampled_embeddings, M)\n",
    "\n",
    "print(f\"Building k-NN graph (k={K_NEIGHBORS})...\")\n",
    "edges, neighbors = build_knn_graph(distances, k=K_NEIGHBORS)\n",
    "print(f\"  {len(edges)} edges\")"
   ]
  },
  {
   "cell_type": "markdown",
   "metadata": {},
   "source": [
    "## Convert to NetworkX and Run Louvain"
   ]
  },
  {
   "cell_type": "code",
   "execution_count": 7,
   "metadata": {},
   "outputs": [
    {
     "name": "stdout",
     "output_type": "stream",
     "text": [
      "Converting to NetworkX graph...\n",
      "Graph: 8000 nodes, 158929 edges\n",
      "\n",
      "Running Louvain community detection...\n",
      "\n",
      "=== Community Structure ===\n",
      "Number of communities: 4\n",
      "Modularity: 0.4701 (0-1 scale, higher = better-separated)\n",
      "\n",
      "Community sizes:\n",
      "  Largest: 2239 tokens (28.0%)\n",
      "  2nd largest: 2154 tokens (26.9%)\n",
      "  3rd largest: 1970 tokens (24.6%)\n",
      "  Smallest: 1637 tokens\n",
      "  Mean: 2000.0 tokens\n",
      "  Median: 2062.0 tokens\n",
      "\n",
      "✓ Graph is fully connected (single manifold)\n"
     ]
    }
   ],
   "source": [
    "print(\"Converting to NetworkX graph...\")\n",
    "G = nx.Graph()\n",
    "G.add_nodes_from(range(N_SAMPLES))\n",
    "for i, j, w in edges:\n",
    "    G.add_edge(i, j, weight=w)\n",
    "\n",
    "print(f\"Graph: {G.number_of_nodes()} nodes, {G.number_of_edges()} edges\")\n",
    "\n",
    "print(\"\\nRunning Louvain community detection...\")\n",
    "partition = community_louvain.best_partition(G, random_state=RANDOM_SEED)\n",
    "\n",
    "# Analyze communities\n",
    "community_ids = list(partition.values())\n",
    "n_communities = max(community_ids) + 1\n",
    "\n",
    "# Compute community sizes\n",
    "community_sizes = Counter(community_ids)\n",
    "sizes = sorted(community_sizes.values(), reverse=True)\n",
    "\n",
    "# Compute modularity\n",
    "modularity = community_louvain.modularity(partition, G)\n",
    "\n",
    "print(f\"\\n=== Community Structure ===\")\n",
    "print(f\"Number of communities: {n_communities}\")\n",
    "print(f\"Modularity: {modularity:.4f} (0-1 scale, higher = better-separated)\")\n",
    "print(f\"\\nCommunity sizes:\")\n",
    "print(f\"  Largest: {sizes[0]} tokens ({sizes[0]/N_SAMPLES:.1%})\")\n",
    "if len(sizes) > 1:\n",
    "    print(f\"  2nd largest: {sizes[1]} tokens ({sizes[1]/N_SAMPLES:.1%})\")\n",
    "if len(sizes) > 2:\n",
    "    print(f\"  3rd largest: {sizes[2]} tokens ({sizes[2]/N_SAMPLES:.1%})\")\n",
    "print(f\"  Smallest: {sizes[-1]} tokens\")\n",
    "print(f\"  Mean: {np.mean(sizes):.1f} tokens\")\n",
    "print(f\"  Median: {np.median(sizes):.1f} tokens\")\n",
    "\n",
    "# Check connectivity\n",
    "is_connected = nx.is_connected(G)\n",
    "if is_connected:\n",
    "    print(f\"\\n✓ Graph is fully connected (single manifold)\")\n",
    "else:\n",
    "    n_components = nx.number_connected_components(G)\n",
    "    print(f\"\\n⚠️  Graph has {n_components} disconnected components\")"
   ]
  },
  {
   "cell_type": "markdown",
   "metadata": {},
   "source": [
    "## Visualize Community Size Distribution"
   ]
  },
  {
   "cell_type": "code",
   "execution_count": 8,
   "metadata": {},
   "outputs": [
    {
     "data": {
      "image/png": "[encoded data removed]",
      "text/plain": [
       "<Figure size 1400x500 with 2 Axes>"
      ]
     },
     "metadata": {},
     "output_type": "display_data"
    }
   ],
   "source": [
    "fig, axes = plt.subplots(1, 2, figsize=(14, 5))\n",
    "\n",
    "# 1. Community size histogram\n",
    "ax = axes[0]\n",
    "ax.hist(sizes, bins=min(50, n_communities), alpha=0.7, edgecolor='black', color='teal')\n",
    "ax.set_xlabel('Community Size (tokens)')\n",
    "ax.set_ylabel('Count')\n",
    "ax.set_title(f'Community Size Distribution (n={n_communities} communities)')\n",
    "ax.axvline(np.mean(sizes), color='red', linestyle='--', \n",
    "           label=f'Mean={np.mean(sizes):.1f}', linewidth=2)\n",
    "ax.axvline(np.median(sizes), color='orange', linestyle='--', \n",
    "           label=f'Median={np.median(sizes):.1f}', linewidth=2)\n",
    "ax.grid(True, alpha=0.3)\n",
    "ax.legend()\n",
    "\n",
    "# 2. Log-log rank-size plot\n",
    "ax = axes[1]\n",
    "rank = np.arange(1, len(sizes) + 1)\n",
    "ax.loglog(rank, sizes, marker='o', linestyle='none', alpha=0.6, color='teal')\n",
    "ax.set_xlabel('Rank')\n",
    "ax.set_ylabel('Community Size')\n",
    "ax.set_title('Rank-Size Distribution (log-log)')\n",
    "ax.grid(True, alpha=0.3, which='both')\n",
    "\n",
    "# Add power law reference line\n",
    "if len(sizes) > 1:\n",
    "    x_ref = np.array([1.0, float(len(sizes))])\n",
    "    y_ref = sizes[0] * (x_ref ** -1)\n",
    "    ax.plot(x_ref, y_ref, 'r--', linewidth=2, alpha=0.7, label='Power law (α=-1)')\n",
    "    ax.legend()\n",
    "\n",
    "plt.tight_layout()\n",
    "plt.show()"
   ]
  },
  {
   "cell_type": "markdown",
   "metadata": {},
   "source": [
    "## Interpretation"
   ]
  },
  {
   "cell_type": "code",
   "execution_count": 9,
   "metadata": {},
   "outputs": [
    {
     "name": "stdout",
     "output_type": "stream",
     "text": [
      "=== Interpretation ===\n",
      "Semantic space has FEW LARGE CLUSTERS — 4 major semantic regions.\n",
      "This suggests the causal metric groups tokens into broad semantic categories.\n",
      "\n",
      "Modularity of 0.4701 indicates moderate community structure.\n"
     ]
    }
   ],
   "source": [
    "print(\"=== Interpretation ===\")\n",
    "\n",
    "if n_communities == 1:\n",
    "    print(\"Semantic space is ONE GIANT BLOB — all tokens in a single community.\")\n",
    "elif n_communities < 10:\n",
    "    print(f\"Semantic space has FEW LARGE CLUSTERS — {n_communities} major semantic regions.\")\n",
    "    print(f\"This suggests the causal metric groups tokens into broad semantic categories.\")\n",
    "elif sizes[0] / N_SAMPLES > 0.5:\n",
    "    print(f\"ONE DOMINANT CLUSTER with {n_communities-1} smaller satellite communities.\")\n",
    "elif np.std(sizes) / np.mean(sizes) > 1.0:\n",
    "    print(f\"HETEROGENEOUS ARCHIPELAGO — {n_communities} communities with highly variable sizes.\")\n",
    "else:\n",
    "    print(f\"MANY RELATIVELY UNIFORM CLUSTERS — {n_communities} communities of similar size.\")\n",
    "\n",
    "print(f\"\\nModularity of {modularity:.4f} indicates {'strong' if modularity > 0.6 else 'moderate' if modularity > 0.3 else 'weak'} community structure.\")"
   ]
  },
  {
   "cell_type": "markdown",
   "metadata": {},
   "source": [
    "## Summary\n",
    "\n",
    "Key findings:\n",
    "- **Number of communities**: Surprisingly small, suggesting coarse-grained semantic structure\n",
    "- **Size distribution**: Nearly uniform, indicating balanced partition\n",
    "- **Connectivity**: Single connected component (continuous manifold)\n",
    "\n",
    "**Interpretation:** The causal metric reveals a simpler clustering structure than expected. Rather than thousands of fine-grained semantic clusters, tokens organize into a small number of major semantic regions.\n",
    "\n",
    "**Next:** Notebook 04.4 visualizes this structure in 3D using UMAP."
   ]
  }
 ],
 "metadata": {
  "kernelspec": {
   "display_name": "azimuth",
   "language": "python",
   "name": "python3"
  },
  "language_info": {
   "codemirror_mode": {
    "name": "ipython",
    "version": 3
   },
   "file_extension": ".py",
   "mimetype": "text/x-python",
   "name": "python",
   "nbconvert_exporter": "python",
   "pygments_lexer": "ipython3",
   "version": "3.12.11"
  }
 },
 "nbformat": 4,
 "nbformat_minor": 4
}
