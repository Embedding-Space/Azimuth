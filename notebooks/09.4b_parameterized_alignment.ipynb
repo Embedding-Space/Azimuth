{
 "cells": [
  {
   "cell_type": "markdown",
   "id": "cell-0",
   "metadata": {},
   "source": [
    "# Parameterized Dimension Alignment Distribution\n",
    "\n",
    "**Goal:** Examine how all tokens are distributed along any specified eigenvector dimension.\n",
    "\n",
    "We'll compute **signed** cosine similarities from -1 (antiparallel) through 0 (orthogonal) to +1 (parallel) to visualize the full distribution along this axis.\n",
    "\n",
    "**Change the `DIMENSION` parameter in the setup cell to analyze different eigenvectors.**"
   ]
  },
  {
   "cell_type": "markdown",
   "id": "cell-1",
   "metadata": {},
   "source": [
    "## Setup"
   ]
  },
  {
   "cell_type": "code",
   "execution_count": 22,
   "id": "cell-2",
   "metadata": {},
   "outputs": [
    {
     "name": "stdout",
     "output_type": "stream",
     "text": [
      "Analyzing dimension 2559\n"
     ]
    }
   ],
   "source": [
    "import numpy as np\n",
    "import torch\n",
    "import matplotlib.pyplot as plt\n",
    "\n",
    "PROJECTIONS_PATH = '../data/vectors/token_eigenbasis_projections_qwen3_4b.pt'\n",
    "\n",
    "# ============================================\n",
    "# PARAMETER: Change this to analyze different dimensions\n",
    "DIMENSION = 2559  # Range: 0 (highest eigenvalue) to 2559 (lowest eigenvalue)\n",
    "# ============================================\n",
    "\n",
    "N_BINS = 200  # Histogram resolution (-1 to 1 in 0.01 increments)\n",
    "\n",
    "print(f\"Analyzing dimension {DIMENSION}\")"
   ]
  },
  {
   "cell_type": "markdown",
   "id": "cell-3",
   "metadata": {},
   "source": [
    "## Load Data"
   ]
  },
  {
   "cell_type": "code",
   "execution_count": 23,
   "id": "cell-4",
   "metadata": {},
   "outputs": [
    {
     "name": "stdout",
     "output_type": "stream",
     "text": [
      "Loading projections...\n",
      "Loaded: 151,936 tokens × 2,560 eigenvectors\n",
      "Valid dimension range: 0 to 2559\n"
     ]
    }
   ],
   "source": [
    "print(\"Loading projections...\")\n",
    "data = torch.load(PROJECTIONS_PATH, weights_only=False)\n",
    "projections = data['projections'].numpy()  # [151936, 2560]\n",
    "\n",
    "vocab_size, hidden_dim = projections.shape\n",
    "print(f\"Loaded: {vocab_size:,} tokens × {hidden_dim:,} eigenvectors\")\n",
    "print(f\"Valid dimension range: 0 to {hidden_dim - 1}\")\n",
    "\n",
    "# Validate dimension parameter\n",
    "if not (0 <= DIMENSION < hidden_dim):\n",
    "    raise ValueError(f\"DIMENSION must be between 0 and {hidden_dim - 1}, got {DIMENSION}\")"
   ]
  },
  {
   "cell_type": "markdown",
   "id": "cell-5",
   "metadata": {},
   "source": [
    "## Compute Signed Cosine Similarities"
   ]
  },
  {
   "cell_type": "code",
   "execution_count": 24,
   "id": "cell-6",
   "metadata": {},
   "outputs": [
    {
     "name": "stdout",
     "output_type": "stream",
     "text": [
      "\n",
      "Computing signed cosine similarities to dimension 2559...\n",
      "Total tokens: 151,936\n",
      "Range: [-0.2019, -0.0173]\n"
     ]
    }
   ],
   "source": [
    "print(f\"\\nComputing signed cosine similarities to dimension {DIMENSION}...\")\n",
    "\n",
    "# Token norms\n",
    "norms = np.linalg.norm(projections, axis=1)  # [151936]\n",
    "\n",
    "# SIGNED cosine similarities (no abs!)\n",
    "cosines = projections[:, DIMENSION] / norms  # [151936], range [-1, 1]\n",
    "\n",
    "print(f\"Total tokens: {len(cosines):,}\")\n",
    "print(f\"Range: [{cosines.min():.4f}, {cosines.max():.4f}]\")"
   ]
  },
  {
   "cell_type": "markdown",
   "id": "cell-7",
   "metadata": {},
   "source": [
    "## Summary Statistics"
   ]
  },
  {
   "cell_type": "code",
   "execution_count": 25,
   "id": "cell-8",
   "metadata": {},
   "outputs": [
    {
     "name": "stdout",
     "output_type": "stream",
     "text": [
      "\n",
      "Distribution statistics for dimension 2559:\n",
      "  Mean:   -0.0568\n",
      "  Median: -0.0532\n",
      "  Std:    0.0177\n",
      "\n",
      "Percentiles:\n",
      "   1th: -0.1610\n",
      "   5th: -0.0737\n",
      "  10th: -0.0631\n",
      "  25th: -0.0572\n",
      "  50th: -0.0532\n",
      "  75th: -0.0499\n",
      "  90th: -0.0470\n",
      "  95th: -0.0454\n",
      "  99th: -0.0427\n"
     ]
    }
   ],
   "source": [
    "print(f\"\\nDistribution statistics for dimension {DIMENSION}:\")\n",
    "print(f\"  Mean:   {cosines.mean():.4f}\")\n",
    "print(f\"  Median: {np.median(cosines):.4f}\")\n",
    "print(f\"  Std:    {cosines.std():.4f}\")\n",
    "print(f\"\\nPercentiles:\")\n",
    "for p in [1, 5, 10, 25, 50, 75, 90, 95, 99]:\n",
    "    val = np.percentile(cosines, p)\n",
    "    print(f\"  {p:2d}th: {val:.4f}\")"
   ]
  },
  {
   "cell_type": "markdown",
   "id": "cell-9",
   "metadata": {},
   "source": [
    "## Histogram"
   ]
  },
  {
   "cell_type": "code",
   "execution_count": 26,
   "id": "cell-10",
   "metadata": {},
   "outputs": [
    {
     "data": {
      "image/png": "[encoded data removed]",
      "text/plain": [
       "<Figure size 432x864 with 1 Axes>"
      ]
     },
     "metadata": {},
     "output_type": "display_data"
    }
   ],
   "source": [
    "fig, ax = plt.subplots(figsize=(6, 12), dpi=72)\n",
    "\n",
    "# Histogram - ROTATED: cosine on Y-axis, count on X-axis\n",
    "counts, bins, patches = ax.hist(\n",
    "    cosines,\n",
    "    bins=N_BINS,\n",
    "    range=(-1.0, 1.0),\n",
    "    orientation='horizontal',  # Rotate the histogram\n",
    "    color='#2E86AB',\n",
    "    alpha=0.7,\n",
    "    edgecolor='black',\n",
    "    linewidth=0.5\n",
    ")\n",
    "\n",
    "ax.set_ylabel(f'Cosine Similarity to Dimension {DIMENSION}', fontsize=12, fontweight='bold')\n",
    "ax.set_xlabel('Token Count', fontsize=12, fontweight='bold')\n",
    "ax.set_xscale('log')\n",
    "ax.set_title(\n",
    "    f'Alignment Distribution for Dimension {DIMENSION}\\n({len(cosines):,} tokens)',\n",
    "    fontsize=14,\n",
    "    fontweight='bold'\n",
    ")\n",
    "ax.axhline(y=0, color='red', linestyle='--', linewidth=1, alpha=0.5, label='Orthogonal')\n",
    "ax.grid(True, alpha=0.3, axis='x')\n",
    "ax.legend()\n",
    "\n",
    "plt.tight_layout()\n",
    "plt.show()"
   ]
  }
 ],
 "metadata": {
  "kernelspec": {
   "display_name": "azimuth",
   "language": "python",
   "name": "python3"
  },
  "language_info": {
   "codemirror_mode": {
    "name": "ipython",
    "version": 3
   },
   "file_extension": ".py",
   "mimetype": "text/x-python",
   "name": "python",
   "nbconvert_exporter": "python",
   "pygments_lexer": "ipython3",
   "version": "3.12.11"
  }
 },
 "nbformat": 4,
 "nbformat_minor": 5
}
