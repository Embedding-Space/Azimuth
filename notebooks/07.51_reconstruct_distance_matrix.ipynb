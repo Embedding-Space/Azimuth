{
 "cells": [
  {
   "cell_type": "markdown",
   "metadata": {},
   "source": [
    "# Reconstruct Full Distance Matrix\n",
    "\n",
    "**Goal:** Load the upper-triangle compressed distance matrix and reconstruct the full symmetric matrix for TDA.\n",
    "\n",
    "**Why separate notebook:**\n",
    "- Matrix reconstruction is memory-intensive and takes a few minutes\n",
    "- Once saved, we can reuse it for multiple TDA experiments without recomputing\n",
    "- One notebook = one step\n",
    "\n",
    "**Inputs:**\n",
    "- `data/vectors/distances_causal_64000.pt` - Upper triangle (4.9 GB)\n",
    "\n",
    "**Outputs:**\n",
    "- `data/vectors/distances_causal_64000_full.npy` - Full symmetric matrix (8.2 GB)\n",
    "\n",
    "**Expected runtime:** ~2-3 minutes"
   ]
  },
  {
   "cell_type": "markdown",
   "metadata": {},
   "source": [
    "## Configuration"
   ]
  },
  {
   "cell_type": "code",
   "execution_count": 4,
   "metadata": {},
   "outputs": [
    {
     "name": "stdout",
     "output_type": "stream",
     "text": [
      "Configuration:\n",
      "  Input: ../data/vectors/distances_causal_32000.pt\n",
      "  Output: ../data/vectors/distances_causal_32000_full.npy\n"
     ]
    }
   ],
   "source": [
    "# Input file (upper triangle)\n",
    "INPUT_DISTANCES = '../data/vectors/distances_causal_32000.pt'\n",
    "\n",
    "# Output file (full matrix)\n",
    "OUTPUT_DISTANCES = '../data/vectors/distances_causal_32000_full.npy'\n",
    "\n",
    "print(f\"Configuration:\")\n",
    "print(f\"  Input: {INPUT_DISTANCES}\")\n",
    "print(f\"  Output: {OUTPUT_DISTANCES}\")"
   ]
  },
  {
   "cell_type": "markdown",
   "metadata": {},
   "source": [
    "## Setup"
   ]
  },
  {
   "cell_type": "code",
   "execution_count": 5,
   "metadata": {},
   "outputs": [
    {
     "name": "stdout",
     "output_type": "stream",
     "text": [
      "✓ Imports complete\n"
     ]
    }
   ],
   "source": [
    "import torch\n",
    "import numpy as np\n",
    "from tqdm.auto import tqdm\n",
    "\n",
    "print(\"✓ Imports complete\")"
   ]
  },
  {
   "cell_type": "markdown",
   "metadata": {},
   "source": [
    "## Load Upper Triangle"
   ]
  },
  {
   "cell_type": "code",
   "execution_count": 6,
   "metadata": {},
   "outputs": [
    {
     "name": "stdout",
     "output_type": "stream",
     "text": [
      "Loading upper triangle from ../data/vectors/distances_causal_32000.pt...\n",
      "\n",
      "✓ Loaded upper triangle\n",
      "  N tokens: 32,000\n",
      "  Upper triangle values: 511,984,000\n",
      "  Memory: 1.02 GB\n",
      "  Model: Qwen/Qwen3-4B-Instruct-2507\n",
      "\n",
      "Distance statistics (from metadata):\n",
      "  Min: 0.00 logometers\n",
      "  Max: 103.19 logometers\n",
      "  Mean: 71.00 logometers\n",
      "  Median: 72.25 logometers\n",
      "  Std: 8.03 logometers\n"
     ]
    }
   ],
   "source": [
    "print(f\"Loading upper triangle from {INPUT_DISTANCES}...\")\n",
    "data = torch.load(INPUT_DISTANCES, weights_only=False)\n",
    "\n",
    "triu_values = data['triu_values']\n",
    "token_indices = data['token_indices']\n",
    "N = data['N']\n",
    "metadata = data['metadata']\n",
    "\n",
    "print(f\"\\n✓ Loaded upper triangle\")\n",
    "print(f\"  N tokens: {N:,}\")\n",
    "print(f\"  Upper triangle values: {len(triu_values):,}\")\n",
    "print(f\"  Memory: {triu_values.element_size() * triu_values.nelement() / 1e9:.2f} GB\")\n",
    "print(f\"  Model: {metadata['model']}\")\n",
    "\n",
    "print(f\"\\nDistance statistics (from metadata):\")\n",
    "for k, v in metadata['distance_stats'].items():\n",
    "    print(f\"  {k.capitalize()}: {v:.2f} logometers\")"
   ]
  },
  {
   "cell_type": "markdown",
   "metadata": {},
   "source": [
    "## Reconstruct Full Symmetric Matrix"
   ]
  },
  {
   "cell_type": "code",
   "execution_count": 7,
   "metadata": {},
   "outputs": [
    {
     "name": "stdout",
     "output_type": "stream",
     "text": [
      "\n",
      "Reconstructing full symmetric distance matrix...\n",
      "  This will create a 32000×32000 matrix (1,024,000,000 elements)\n",
      "  Expected memory: 4.10 GB (float32)\n",
      "\n",
      "Filling upper triangle...\n",
      "Making symmetric...\n",
      "\n",
      "✓ Matrix reconstructed!\n",
      "  Shape: (32000, 32000)\n",
      "  Memory: 4.10 GB\n",
      "  Dtype: float32\n"
     ]
    }
   ],
   "source": [
    "print(\"\\nReconstructing full symmetric distance matrix...\")\n",
    "print(f\"  This will create a {N}×{N} matrix ({N*N:,} elements)\")\n",
    "print(f\"  Expected memory: {N * N * 4 / 1e9:.2f} GB (float32)\\n\")\n",
    "\n",
    "# Initialize empty matrix\n",
    "distances = np.zeros((N, N), dtype=np.float32)\n",
    "\n",
    "# Fill upper triangle\n",
    "print(\"Filling upper triangle...\")\n",
    "triu_indices = np.triu_indices(N, k=1)\n",
    "distances[triu_indices[0], triu_indices[1]] = triu_values.numpy()\n",
    "\n",
    "# Make symmetric by copying upper to lower\n",
    "print(\"Making symmetric...\")\n",
    "distances = distances + distances.T\n",
    "\n",
    "print(f\"\\n✓ Matrix reconstructed!\")\n",
    "print(f\"  Shape: {distances.shape}\")\n",
    "print(f\"  Memory: {distances.nbytes / 1e9:.2f} GB\")\n",
    "print(f\"  Dtype: {distances.dtype}\")"
   ]
  },
  {
   "cell_type": "markdown",
   "metadata": {},
   "source": [
    "## Validation Checks"
   ]
  },
  {
   "cell_type": "code",
   "execution_count": 8,
   "metadata": {},
   "outputs": [
    {
     "name": "stdout",
     "output_type": "stream",
     "text": [
      "\n",
      "Validation checks:\n",
      "  Diagonal (should be ~0):\n",
      "    Mean: 0.000000\n",
      "    Max: 0.000000\n",
      "  Symmetry check (should be ~0): 0.000000\n",
      "  Minimum distance (should be ≥0): 0.000000\n",
      "\n",
      "Distance statistics (excluding diagonal):\n",
      "  Min: 0.00 (expected: 0.00)\n",
      "  Max: 103.19 (expected: 103.19)\n",
      "  Mean: 70.99 (expected: 71.00)\n",
      "\n",
      "✅ All validation checks passed!\n"
     ]
    }
   ],
   "source": [
    "print(\"\\nValidation checks:\")\n",
    "\n",
    "# Check 1: Diagonal should be zero\n",
    "diag = np.diag(distances)\n",
    "print(f\"  Diagonal (should be ~0):\")\n",
    "print(f\"    Mean: {diag.mean():.6f}\")\n",
    "print(f\"    Max: {diag.max():.6f}\")\n",
    "\n",
    "# Check 2: Matrix should be symmetric\n",
    "asymmetry = np.abs(distances - distances.T).max()\n",
    "print(f\"  Symmetry check (should be ~0): {asymmetry:.6f}\")\n",
    "\n",
    "# Check 3: All distances should be non-negative\n",
    "min_dist = distances.min()\n",
    "print(f\"  Minimum distance (should be ≥0): {min_dist:.6f}\")\n",
    "\n",
    "# Check 4: Stats should match metadata\n",
    "mask = ~np.eye(N, dtype=bool)  # Exclude diagonal\n",
    "off_diag = distances[mask]\n",
    "\n",
    "print(f\"\\nDistance statistics (excluding diagonal):\")\n",
    "print(f\"  Min: {off_diag.min():.2f} (expected: {metadata['distance_stats']['min']:.2f})\")\n",
    "print(f\"  Max: {off_diag.max():.2f} (expected: {metadata['distance_stats']['max']:.2f})\")\n",
    "print(f\"  Mean: {off_diag.mean():.2f} (expected: {metadata['distance_stats']['mean']:.2f})\")\n",
    "\n",
    "if np.allclose([off_diag.min(), off_diag.max(), off_diag.mean()],\n",
    "               [metadata['distance_stats']['min'], \n",
    "                metadata['distance_stats']['max'],\n",
    "                metadata['distance_stats']['mean']],\n",
    "               rtol=0.01):\n",
    "    print(\"\\n✅ All validation checks passed!\")\n",
    "else:\n",
    "    print(\"\\n⚠️  Warning: Statistics don't match metadata (check for errors)\")"
   ]
  },
  {
   "cell_type": "markdown",
   "metadata": {},
   "source": [
    "## Save Full Matrix"
   ]
  },
  {
   "cell_type": "code",
   "execution_count": 9,
   "metadata": {},
   "outputs": [
    {
     "name": "stdout",
     "output_type": "stream",
     "text": [
      "\n",
      "Saving full matrix to ../data/vectors/distances_causal_32000_full.npy...\n",
      "✓ Saved!\n",
      "  File size: 4.10 GB\n"
     ]
    }
   ],
   "source": [
    "print(f\"\\nSaving full matrix to {OUTPUT_DISTANCES}...\")\n",
    "np.save(OUTPUT_DISTANCES, distances)\n",
    "\n",
    "import os\n",
    "file_size = os.path.getsize(OUTPUT_DISTANCES) / 1e9\n",
    "print(f\"✓ Saved!\")\n",
    "print(f\"  File size: {file_size:.2f} GB\")"
   ]
  },
  {
   "cell_type": "markdown",
   "metadata": {},
   "source": [
    "## Summary\n",
    "\n",
    "✓ Reconstructed full symmetric distance matrix from upper triangle\n",
    "\n",
    "✓ Validated: symmetric, zero diagonal, correct statistics\n",
    "\n",
    "✓ Saved as `distances_causal_64000_full.npy` (float32, 8.2 GB)\n",
    "\n",
    "**Next step:** Load this matrix in 07.52 for persistent homology analysis with ripser."
   ]
  }
 ],
 "metadata": {
  "kernelspec": {
   "display_name": "azimuth",
   "language": "python",
   "name": "python3"
  },
  "language_info": {
   "codemirror_mode": {
    "name": "ipython",
    "version": 3
   },
   "file_extension": ".py",
   "mimetype": "text/x-python",
   "name": "python",
   "nbconvert_exporter": "python",
   "pygments_lexer": "ipython3",
   "version": "3.12.11"
  }
 },
 "nbformat": 4,
 "nbformat_minor": 4
}
