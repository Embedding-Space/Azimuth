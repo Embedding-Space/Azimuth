{
 "cells": [
  {
   "cell_type": "markdown",
   "metadata": {},
   "source": [
    "# Vector Extraction\n",
    "\n",
    "This notebook extracts steering vectors from text pairs using contrastive activation averaging (Chen et al., 2025).\n",
    "\n",
    "**Method:** For each pair, we capture residual stream activations at each layer using `output_hidden_states`, mean-pool across the sequence dimension (excluding padding tokens), then average across all pairs. The steering vector is the difference: `mean(complex) - mean(simple)`.\n",
    "\n",
    "**Extraction method:** Uses HuggingFace's `output_hidden_states=True` to capture layer activations, with attention mask to exclude padding tokens from mean pooling.\n",
    "\n",
    "**Parameterization:** Configure the dataset, model, and batch size in the cell below. This notebook can be reused for different datasets (e.g., OneStopEnglish, Wikipedia, or custom pairs)."
   ]
  },
  {
   "cell_type": "markdown",
   "metadata": {},
   "source": [
    "## Configuration"
   ]
  },
  {
   "cell_type": "code",
   "execution_count": null,
   "metadata": {},
   "outputs": [],
   "source": [
    "# Dataset configuration\n",
    "DATASET_PATH = '../data/wikipedia_top20_texts.json'  # Path to JSON with text pairs\n",
    "DATASET_NAME = 'wikipedia'  # Used for output file naming\n",
    "\n",
    "# Model configuration\n",
    "MODEL_NAME = 'Qwen/Qwen3-4B-Instruct-2507'\n",
    "MAX_SEQ_LENGTH = 4096  # Truncate texts to this many tokens\n",
    "\n",
    "# Processing configuration\n",
    "BATCH_SIZE = 1  # Process this many texts at once (increase for cloud GPUs)\n",
    "DEVICE = 'auto'  # 'auto', 'cuda', 'mps', or 'cpu'\n",
    "\n",
    "# Output configuration\n",
    "OUTPUT_DIR = '../data/vectors'\n",
    "OUTPUT_FILENAME = f'complexity_{DATASET_NAME}.pt'"
   ]
  },
  {
   "cell_type": "markdown",
   "metadata": {},
   "source": [
    "## Setup"
   ]
  },
  {
   "cell_type": "code",
   "execution_count": 2,
   "metadata": {},
   "outputs": [
    {
     "name": "stdout",
     "output_type": "stream",
     "text": [
      "✓ Using Apple Silicon GPU (MPS)\n",
      "\n",
      "Configuration:\n",
      "  Dataset: onestop (../data/onestop_top20_texts.json)\n",
      "  Model: Qwen/Qwen3-4B-Instruct-2507\n",
      "  Max sequence length: 4,096 tokens\n",
      "  Batch size: 1\n",
      "  Output: ../data/vectors/complexity_onestop.pt\n"
     ]
    }
   ],
   "source": [
    "import json\n",
    "import os\n",
    "from datetime import datetime\n",
    "\n",
    "import torch\n",
    "import numpy as np\n",
    "from transformers import AutoModelForCausalLM, AutoTokenizer\n",
    "from tqdm.auto import tqdm\n",
    "\n",
    "# Determine device\n",
    "if DEVICE == 'auto':\n",
    "    if torch.cuda.is_available():\n",
    "        device = torch.device('cuda')\n",
    "        print(f\"✓ Using CUDA: {torch.cuda.get_device_name(0)}\")\n",
    "    elif torch.backends.mps.is_available():\n",
    "        device = torch.device('mps')\n",
    "        print(\"✓ Using Apple Silicon GPU (MPS)\")\n",
    "    else:\n",
    "        device = torch.device('cpu')\n",
    "        print(\"⚠ Using CPU (this will be slow)\")\n",
    "else:\n",
    "    device = torch.device(DEVICE)\n",
    "    print(f\"✓ Using device: {device}\")\n",
    "\n",
    "print(f\"\\nConfiguration:\")\n",
    "print(f\"  Dataset: {DATASET_NAME} ({DATASET_PATH})\")\n",
    "print(f\"  Model: {MODEL_NAME}\")\n",
    "print(f\"  Max sequence length: {MAX_SEQ_LENGTH:,} tokens\")\n",
    "print(f\"  Batch size: {BATCH_SIZE}\")\n",
    "print(f\"  Output: {os.path.join(OUTPUT_DIR, OUTPUT_FILENAME)}\")"
   ]
  },
  {
   "cell_type": "markdown",
   "metadata": {},
   "source": [
    "## Load Dataset"
   ]
  },
  {
   "cell_type": "code",
   "execution_count": 3,
   "metadata": {},
   "outputs": [
    {
     "name": "stdout",
     "output_type": "stream",
     "text": [
      "✓ Loaded 20 text pairs\n",
      "\n",
      "First pair preview:\n",
      "  Low complexity: When we talk about climate change, we usually just talk about the problem. We usually forget the man...\n",
      "  High complexity: When it comes to climate change, we have the bad habit of focusing on the first part of the story, t...\n"
     ]
    }
   ],
   "source": [
    "# Load text pairs\n",
    "with open(DATASET_PATH, 'r') as f:\n",
    "    pairs = json.load(f)\n",
    "\n",
    "print(f\"✓ Loaded {len(pairs)} text pairs\")\n",
    "\n",
    "# Show first pair as sanity check\n",
    "print(f\"\\nFirst pair preview:\")\n",
    "first_pair = pairs[0]\n",
    "print(f\"  Low complexity: {first_pair['low_complexity'][:100]}...\")\n",
    "print(f\"  High complexity: {first_pair['high_complexity'][:100]}...\")"
   ]
  },
  {
   "cell_type": "markdown",
   "metadata": {},
   "source": [
    "## Load Model and Tokenizer"
   ]
  },
  {
   "cell_type": "code",
   "execution_count": 4,
   "metadata": {},
   "outputs": [
    {
     "name": "stdout",
     "output_type": "stream",
     "text": [
      "Loading model: Qwen/Qwen3-4B-Instruct-2507...\n",
      "✓ Tokenizer loaded\n"
     ]
    },
    {
     "name": "stderr",
     "output_type": "stream",
     "text": [
      "`torch_dtype` is deprecated! Use `dtype` instead!\n"
     ]
    },
    {
     "data": {
      "application/vnd.jupyter.widget-view+json": {
       "model_id": "2864a0053e834c16a8bc093b8590739f",
       "version_major": 2,
       "version_minor": 0
      },
      "text/plain": [
       "Loading checkpoint shards:   0%|          | 0/3 [00:00<?, ?it/s]"
      ]
     },
     "metadata": {},
     "output_type": "display_data"
    },
    {
     "name": "stdout",
     "output_type": "stream",
     "text": [
      "✓ Model loaded in bfloat16\n",
      "\n",
      "Model architecture:\n",
      "  Layers: 36\n",
      "  Hidden dimension: 2,560\n",
      "  Parameters: ~4.0B\n"
     ]
    }
   ],
   "source": [
    "print(f\"Loading model: {MODEL_NAME}...\")\n",
    "\n",
    "# Load tokenizer\n",
    "tokenizer = AutoTokenizer.from_pretrained(MODEL_NAME)\n",
    "print(f\"✓ Tokenizer loaded\")\n",
    "\n",
    "# Load model in bfloat16 (memory efficient, hardware-accelerated)\n",
    "model = AutoModelForCausalLM.from_pretrained(\n",
    "    MODEL_NAME,\n",
    "    torch_dtype=torch.bfloat16,\n",
    "    device_map=device,\n",
    ")\n",
    "model.eval()  # Disable dropout, batch norm, etc.\n",
    "print(f\"✓ Model loaded in bfloat16\")\n",
    "\n",
    "# Get model metadata\n",
    "n_layers = model.config.num_hidden_layers\n",
    "hidden_dim = model.config.hidden_size\n",
    "\n",
    "print(f\"\\nModel architecture:\")\n",
    "print(f\"  Layers: {n_layers}\")\n",
    "print(f\"  Hidden dimension: {hidden_dim:,}\")\n",
    "print(f\"  Parameters: ~{sum(p.numel() for p in model.parameters()) / 1e9:.1f}B\")"
   ]
  },
  {
   "cell_type": "markdown",
   "metadata": {},
   "source": [
    "## Extract Activations\n",
    "\n",
    "For each text pair, we:\n",
    "1. Tokenize and truncate to MAX_SEQ_LENGTH\n",
    "2. Run forward pass with `output_hidden_states=True`\n",
    "3. Capture hidden states at each layer\n",
    "4. Mean-pool across sequence dimension, **excluding padding tokens** (attention mask)\n",
    "5. Accumulate in float32 for numerical stability"
   ]
  },
  {
   "cell_type": "code",
   "execution_count": 5,
   "metadata": {},
   "outputs": [
    {
     "name": "stdout",
     "output_type": "stream",
     "text": [
      "\n",
      "Extracting activations from 20 pairs...\n",
      "\n"
     ]
    },
    {
     "data": {
      "application/vnd.jupyter.widget-view+json": {
       "model_id": "c85f9b7a8dcc4b4a8c8f20ef34d12ebd",
       "version_major": 2,
       "version_minor": 0
      },
      "text/plain": [
       "Processing pairs:   0%|          | 0/20 [00:00<?, ?it/s]"
      ]
     },
     "metadata": {},
     "output_type": "display_data"
    },
    {
     "name": "stdout",
     "output_type": "stream",
     "text": [
      "\n",
      "✓ Processed 20 low-complexity texts\n",
      "✓ Processed 20 high-complexity texts\n"
     ]
    }
   ],
   "source": [
    "# Initialize accumulators (float32 for numerical stability)\n",
    "low_complexity_sum = torch.zeros(n_layers, hidden_dim, dtype=torch.float32)\n",
    "high_complexity_sum = torch.zeros(n_layers, hidden_dim, dtype=torch.float32)\n",
    "low_complexity_count = 0\n",
    "high_complexity_count = 0\n",
    "\n",
    "def extract_activations(text):\n",
    "    \"\"\"\n",
    "    Extract mean-pooled activations from a single text.\n",
    "    \n",
    "    Uses output_hidden_states and attention mask to properly handle padding.\n",
    "    \n",
    "    Returns:\n",
    "        torch.Tensor: [n_layers, hidden_dim] in float32\n",
    "    \"\"\"\n",
    "    # Tokenize and truncate\n",
    "    tokens = tokenizer(\n",
    "        text,\n",
    "        return_tensors='pt',\n",
    "        truncation=True,\n",
    "        max_length=MAX_SEQ_LENGTH,\n",
    "        padding=False,\n",
    "    ).to(device)\n",
    "    \n",
    "    # Forward pass with hidden states capture\n",
    "    with torch.no_grad():\n",
    "        outputs = model(**tokens, output_hidden_states=True)\n",
    "    \n",
    "    # outputs.hidden_states is a tuple of (n_layers + 1) tensors\n",
    "    # Each tensor is [batch_size, seq_len, hidden_dim]\n",
    "    # Index 0 is embedding layer, indices 1..n_layers are transformer layers\n",
    "    hidden_states = outputs.hidden_states[1:]  # Skip embedding layer\n",
    "    \n",
    "    # Mean-pool across sequence dimension, excluding padding\n",
    "    # attention_mask tells us which tokens are real (1) vs padding (0)\n",
    "    attention_mask = tokens['attention_mask'].unsqueeze(-1)  # [batch, seq_len, 1]\n",
    "    \n",
    "    layer_activations = []\n",
    "    for layer_hidden in hidden_states:\n",
    "        # Mask out padding, compute mean over real tokens only\n",
    "        masked = layer_hidden * attention_mask  # Zero out padding positions\n",
    "        pooled = masked.sum(dim=1) / attention_mask.sum(dim=1)  # [batch, hidden_dim]\n",
    "        layer_activations.append(pooled.squeeze(0))  # Remove batch dim\n",
    "    \n",
    "    # Stack into [n_layers, hidden_dim] and convert to float32\n",
    "    activations = torch.stack(layer_activations).to(torch.float32).cpu()\n",
    "    \n",
    "    return activations\n",
    "\n",
    "# Process all pairs\n",
    "print(f\"\\nExtracting activations from {len(pairs)} pairs...\\n\")\n",
    "\n",
    "for pair in tqdm(pairs, desc=\"Processing pairs\"):\n",
    "    # Extract low complexity\n",
    "    low_act = extract_activations(pair['low_complexity'])\n",
    "    low_complexity_sum += low_act\n",
    "    low_complexity_count += 1\n",
    "    \n",
    "    # Extract high complexity\n",
    "    high_act = extract_activations(pair['high_complexity'])\n",
    "    high_complexity_sum += high_act\n",
    "    high_complexity_count += 1\n",
    "\n",
    "print(f\"\\n✓ Processed {low_complexity_count} low-complexity texts\")\n",
    "print(f\"✓ Processed {high_complexity_count} high-complexity texts\")"
   ]
  },
  {
   "cell_type": "markdown",
   "metadata": {},
   "source": [
    "## Compute Steering Vectors"
   ]
  },
  {
   "cell_type": "code",
   "execution_count": 6,
   "metadata": {},
   "outputs": [
    {
     "name": "stdout",
     "output_type": "stream",
     "text": [
      "✓ Computed steering vectors\n",
      "  Shape: torch.Size([36, 2560])\n",
      "  Dtype: torch.float32\n"
     ]
    }
   ],
   "source": [
    "# Compute means\n",
    "low_complexity_mean = low_complexity_sum / low_complexity_count\n",
    "high_complexity_mean = high_complexity_sum / high_complexity_count\n",
    "\n",
    "# Steering vector = high - low\n",
    "# Positive coefficient → more complex, negative → simpler\n",
    "steering_vectors = high_complexity_mean - low_complexity_mean\n",
    "\n",
    "print(f\"✓ Computed steering vectors\")\n",
    "print(f\"  Shape: {steering_vectors.shape}\")\n",
    "print(f\"  Dtype: {steering_vectors.dtype}\")"
   ]
  },
  {
   "cell_type": "markdown",
   "metadata": {},
   "source": [
    "## Analyze Magnitude by Layer\n",
    "\n",
    "We compute the L2 norm of each layer's vector to identify the \"best\" steering layer.\n",
    "\n",
    "**Steering hypothesis:** The layer with largest magnitude typically shows strongest steering effect. With the `output_hidden_states` extraction method, this is typically layer N-1 (second-to-last layer)."
   ]
  },
  {
   "cell_type": "code",
   "execution_count": 7,
   "metadata": {},
   "outputs": [
    {
     "name": "stdout",
     "output_type": "stream",
     "text": [
      "\n",
      "Layer magnitude analysis:\n",
      "  Best layer: 34 (0-indexed)\n",
      "  Best layer norm: 48.4709\n",
      "\n",
      "Top 5 layers by magnitude:\n",
      "  1. Layer 34: 48.4709\n",
      "  2. Layer 33: 40.5529\n",
      "  3. Layer 32: 36.4650\n",
      "  4. Layer 31: 33.4562\n",
      "  5. Layer 30: 31.2420\n",
      "\n",
      "All layer norms:\n",
      "  Layer  0: 0.3292\n",
      "  Layer  1: 0.5278\n",
      "  Layer  2: 0.7193\n",
      "  Layer  3: 1.0659\n",
      "  Layer  4: 1.6303\n",
      "  Layer  5: 2.1630\n",
      "  Layer  6: 3.7081\n",
      "  Layer  7: 3.9033\n",
      "  Layer  8: 4.0696\n",
      "  Layer  9: 4.1604\n",
      "  Layer 10: 4.2434\n",
      "  Layer 11: 4.2922\n",
      "  Layer 12: 4.2612\n",
      "  Layer 13: 4.3211\n",
      "  Layer 14: 4.3685\n",
      "  Layer 15: 4.3912\n",
      "  Layer 16: 5.5022\n",
      "  Layer 17: 5.7463\n",
      "  Layer 18: 5.8530\n",
      "  Layer 19: 6.6301\n",
      "  Layer 20: 6.7633\n",
      "  Layer 21: 7.1334\n",
      "  Layer 22: 8.6998\n",
      "  Layer 23: 9.5728\n",
      "  Layer 24: 12.1882\n",
      "  Layer 25: 13.0525\n",
      "  Layer 26: 15.9567\n",
      "  Layer 27: 17.4503\n",
      "  Layer 28: 18.7921\n",
      "  Layer 29: 21.2891\n",
      "  Layer 30: 31.2420\n",
      "  Layer 31: 33.4562\n",
      "  Layer 32: 36.4650\n",
      "  Layer 33: 40.5529\n",
      "  Layer 34: 48.4709 ← BEST\n",
      "  Layer 35: 17.6585\n"
     ]
    }
   ],
   "source": [
    "# Compute L2 norm for each layer\n",
    "layer_norms = torch.norm(steering_vectors, p=2, dim=1)\n",
    "best_layer = torch.argmax(layer_norms).item()\n",
    "\n",
    "print(f\"\\nLayer magnitude analysis:\")\n",
    "print(f\"  Best layer: {best_layer} (0-indexed)\")\n",
    "print(f\"  Best layer norm: {layer_norms[best_layer]:.4f}\")\n",
    "print(f\"\\nTop 5 layers by magnitude:\")\n",
    "top_5_indices = torch.argsort(layer_norms, descending=True)[:5]\n",
    "for rank, idx in enumerate(top_5_indices, 1):\n",
    "    print(f\"  {rank}. Layer {idx.item()}: {layer_norms[idx]:.4f}\")\n",
    "\n",
    "print(f\"\\nAll layer norms:\")\n",
    "for i, norm in enumerate(layer_norms):\n",
    "    marker = \" ← BEST\" if i == best_layer else \"\"\n",
    "    print(f\"  Layer {i:2d}: {norm:.4f}{marker}\")"
   ]
  },
  {
   "cell_type": "markdown",
   "metadata": {},
   "source": [
    "## Visualize Magnitude by Layer"
   ]
  },
  {
   "cell_type": "code",
   "execution_count": 8,
   "metadata": {},
   "outputs": [
    {
     "data": {
      "image/png": "[encoded data removed]",
      "text/plain": [
       "<Figure size 1200x600 with 1 Axes>"
      ]
     },
     "metadata": {},
     "output_type": "display_data"
    },
    {
     "name": "stdout",
     "output_type": "stream",
     "text": [
      "\n",
      "Interpretation:\n",
      "  The strongest steering vector is near the OUTPUT (layer 34/35).\n",
      "  This suggests complexity is encoded at the token-selection level.\n"
     ]
    }
   ],
   "source": [
    "import matplotlib.pyplot as plt\n",
    "\n",
    "fig, ax = plt.subplots(figsize=(12, 6))\n",
    "\n",
    "layers = np.arange(n_layers)\n",
    "norms = layer_norms.numpy()\n",
    "\n",
    "ax.plot(layers, norms, 'o-', linewidth=2, markersize=6, color='steelblue')\n",
    "ax.axvline(best_layer, color='red', linestyle='--', linewidth=2, alpha=0.7, label=f'Best layer: {best_layer}')\n",
    "ax.scatter([best_layer], [norms[best_layer]], color='red', s=200, zorder=5, marker='*')\n",
    "\n",
    "ax.set_xlabel('Layer', fontsize=12)\n",
    "ax.set_ylabel('L2 Norm', fontsize=12)\n",
    "ax.set_title(f'Steering Vector Magnitude by Layer ({DATASET_NAME})', fontsize=14, fontweight='bold')\n",
    "ax.grid(True, alpha=0.3)\n",
    "ax.legend()\n",
    "\n",
    "plt.tight_layout()\n",
    "plt.show()\n",
    "\n",
    "print(f\"\\nInterpretation:\")\n",
    "if best_layer >= n_layers - 3:\n",
    "    print(f\"  The strongest steering vector is near the OUTPUT (layer {best_layer}/{n_layers-1}).\")\n",
    "    print(f\"  This suggests complexity is encoded at the token-selection level.\")\n",
    "elif best_layer <= 2:\n",
    "    print(f\"  The strongest steering vector is near the INPUT (layer {best_layer}).\")\n",
    "    print(f\"  This suggests complexity is encoded early in processing.\")\n",
    "else:\n",
    "    print(f\"  The strongest steering vector is in the MIDDLE layers (layer {best_layer}).\")\n",
    "    print(f\"  This suggests complexity is encoded during intermediate processing.\")"
   ]
  },
  {
   "cell_type": "markdown",
   "metadata": {},
   "source": [
    "## Save Vectors"
   ]
  },
  {
   "cell_type": "code",
   "execution_count": 9,
   "metadata": {},
   "outputs": [
    {
     "name": "stdout",
     "output_type": "stream",
     "text": [
      "✓ Saved vectors to ../data/vectors/complexity_onestop.pt\n",
      "\n",
      "File contents:\n",
      "  vectors: torch.Size([36, 2560]) torch.float32\n",
      "  layer_norms: torch.Size([36]) torch.float32\n",
      "  best_layer: 34\n",
      "  metadata: 8 fields\n",
      "\n",
      "File size: 0.35 MB\n"
     ]
    }
   ],
   "source": [
    "# Create output directory\n",
    "os.makedirs(OUTPUT_DIR, exist_ok=True)\n",
    "\n",
    "# Prepare output\n",
    "output = {\n",
    "    'vectors': steering_vectors,  # [n_layers, hidden_dim], float32\n",
    "    'layer_norms': layer_norms,   # [n_layers], float32\n",
    "    'best_layer': best_layer,     # int\n",
    "    'metadata': {\n",
    "        'model': MODEL_NAME,\n",
    "        'dataset': DATASET_NAME,\n",
    "        'dataset_path': DATASET_PATH,\n",
    "        'n_pairs': len(pairs),\n",
    "        'max_seq_length': MAX_SEQ_LENGTH,\n",
    "        'n_layers': n_layers,\n",
    "        'hidden_dim': hidden_dim,\n",
    "        'extraction_date': datetime.now().isoformat(),\n",
    "    }\n",
    "}\n",
    "\n",
    "# Save\n",
    "output_path = os.path.join(OUTPUT_DIR, OUTPUT_FILENAME)\n",
    "torch.save(output, output_path)\n",
    "\n",
    "print(f\"✓ Saved vectors to {output_path}\")\n",
    "print(f\"\\nFile contents:\")\n",
    "print(f\"  vectors: {steering_vectors.shape} {steering_vectors.dtype}\")\n",
    "print(f\"  layer_norms: {layer_norms.shape} {layer_norms.dtype}\")\n",
    "print(f\"  best_layer: {best_layer}\")\n",
    "print(f\"  metadata: {len(output['metadata'])} fields\")\n",
    "\n",
    "# Compute file size\n",
    "file_size_mb = os.path.getsize(output_path) / (1024 * 1024)\n",
    "print(f\"\\nFile size: {file_size_mb:.2f} MB\")"
   ]
  },
  {
   "cell_type": "markdown",
   "metadata": {},
   "source": [
    "## Verify Saved Vectors"
   ]
  },
  {
   "cell_type": "code",
   "execution_count": 10,
   "metadata": {},
   "outputs": [
    {
     "name": "stdout",
     "output_type": "stream",
     "text": [
      "✓ Successfully loaded ../data/vectors/complexity_onestop.pt\n",
      "\n",
      "Verification:\n",
      "  Vectors match: True\n",
      "  Norms match: True\n",
      "  Best layer: 34\n",
      "\n",
      "Metadata:\n",
      "  model: Qwen/Qwen3-4B-Instruct-2507\n",
      "  dataset: onestop\n",
      "  dataset_path: ../data/onestop_top20_texts.json\n",
      "  n_pairs: 20\n",
      "  max_seq_length: 4096\n",
      "  n_layers: 36\n",
      "  hidden_dim: 2560\n",
      "  extraction_date: 2025-10-26T08:57:27.128685\n"
     ]
    }
   ],
   "source": [
    "# Load and verify\n",
    "loaded = torch.load(output_path)\n",
    "\n",
    "print(f\"✓ Successfully loaded {output_path}\")\n",
    "print(f\"\\nVerification:\")\n",
    "print(f\"  Vectors match: {torch.allclose(loaded['vectors'], steering_vectors)}\")\n",
    "print(f\"  Norms match: {torch.allclose(loaded['layer_norms'], layer_norms)}\")\n",
    "print(f\"  Best layer: {loaded['best_layer']}\")\n",
    "print(f\"\\nMetadata:\")\n",
    "for key, value in loaded['metadata'].items():\n",
    "    print(f\"  {key}: {value}\")"
   ]
  },
  {
   "cell_type": "markdown",
   "metadata": {},
   "source": [
    "## Summary\n",
    "\n",
    "Vector extraction complete! 🎉\n",
    "\n",
    "To extract vectors from a different dataset:\n",
    "1. Change `DATASET_PATH` and `DATASET_NAME` in the configuration cell\n",
    "2. Restart kernel and run all cells\n",
    "\n",
    "For example:\n",
    "```python\n",
    "DATASET_PATH = '../data/wikipedia_top20_texts.json'\n",
    "DATASET_NAME = 'wikipedia'\n",
    "```\n",
    "\n",
    "The steering vectors are now ready for use in steering experiments!"
   ]
  }
 ],
 "metadata": {
  "kernelspec": {
   "display_name": "azimuth",
   "language": "python",
   "name": "python3"
  },
  "language_info": {
   "codemirror_mode": {
    "name": "ipython",
    "version": 3
   },
   "file_extension": ".py",
   "mimetype": "text/x-python",
   "name": "python",
   "nbconvert_exporter": "python",
   "pygments_lexer": "ipython3",
   "version": "3.12.11"
  }
 },
 "nbformat": 4,
 "nbformat_minor": 4
}
