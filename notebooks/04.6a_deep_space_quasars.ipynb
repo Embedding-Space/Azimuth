{
 "cells": [
  {
   "cell_type": "markdown",
   "id": "intro",
   "metadata": {},
   "source": [
    "# 04.6a Deep Space Quasars\n",
    "\n",
    "**Experiment:** Find the most distant tokens in causal space.\n",
    "\n",
    "From 04.6, we know the token galaxy has:\n",
    "- Mean radius: ~50 logometers (from 04.5b)\n",
    "- Diameter: ~112 logometers (from 04.1)\n",
    "- Radial variation: 4% CV (very tight shell)\n",
    "\n",
    "**Hypothesis:** The most distant tokens (causal norm > ~55-60 logometers) are outliers—possibly special tokens like `<|endoftext|>` that serve structural rather than semantic roles.\n",
    "\n",
    "**Method:**\n",
    "1. Compute causal norms ||γᵢ||_M for all 152,936 tokens\n",
    "2. Sort by descending norm\n",
    "3. Report top 10 most distant tokens\n",
    "4. Decode and examine them\n",
    "\n",
    "**If this flunks:** Try tokens closest to origin instead (though these might just be rare/unused tokens)."
   ]
  },
  {
   "cell_type": "markdown",
   "id": "config-header",
   "metadata": {},
   "source": [
    "## Configuration"
   ]
  },
  {
   "cell_type": "code",
   "execution_count": 1,
   "id": "config",
   "metadata": {},
   "outputs": [
    {
     "name": "stdout",
     "output_type": "stream",
     "text": [
      "Using device: mps\n"
     ]
    }
   ],
   "source": [
    "import torch\n",
    "import numpy as np\n",
    "import matplotlib.pyplot as plt\n",
    "from pathlib import Path\n",
    "from transformers import AutoModelForCausalLM, AutoTokenizer\n",
    "\n",
    "# Model and paths\n",
    "MODEL_NAME = \"Qwen/Qwen3-4B-Instruct-2507\"\n",
    "METRIC_PATH = Path(\"../data/vectors/causal_metric_tensor_qwen3_4b.pt\")\n",
    "\n",
    "# Analysis parameters\n",
    "N_TOP = 10  # Number of most distant tokens to report\n",
    "\n",
    "# Device\n",
    "device = torch.device(\"mps\" if torch.backends.mps.is_available() else \"cpu\")\n",
    "print(f\"Using device: {device}\")\n",
    "\n",
    "# Plot style\n",
    "plt.style.use('default')\n",
    "plt.rcParams['figure.figsize'] = (12, 6)\n",
    "plt.rcParams['font.size'] = 10"
   ]
  },
  {
   "cell_type": "markdown",
   "id": "load-header",
   "metadata": {},
   "source": [
    "## Load Model, Tokenizer, and Metric Tensor"
   ]
  },
  {
   "cell_type": "code",
   "execution_count": 2,
   "id": "load-data",
   "metadata": {},
   "outputs": [
    {
     "name": "stdout",
     "output_type": "stream",
     "text": [
      "Loading causal metric tensor...\n",
      "M shape: torch.Size([2560, 2560])\n",
      "\n",
      "Loading Qwen/Qwen3-4B-Instruct-2507...\n"
     ]
    },
    {
     "name": "stderr",
     "output_type": "stream",
     "text": [
      "`torch_dtype` is deprecated! Use `dtype` instead!\n"
     ]
    },
    {
     "data": {
      "application/vnd.jupyter.widget-view+json": {
       "model_id": "127348dc743247acb77f7c5037c3b072",
       "version_major": 2,
       "version_minor": 0
      },
      "text/plain": [
       "Loading checkpoint shards:   0%|          | 0/3 [00:00<?, ?it/s]"
      ]
     },
     "metadata": {},
     "output_type": "display_data"
    },
    {
     "name": "stdout",
     "output_type": "stream",
     "text": [
      "Gamma shape: torch.Size([151936, 2560])\n",
      "Vocabulary size: 151,936 tokens\n",
      "\n",
      "Tokenizer loaded.\n"
     ]
    }
   ],
   "source": [
    "# Load metric tensor\n",
    "print(\"Loading causal metric tensor...\")\n",
    "metric_data = torch.load(METRIC_PATH, map_location=device, weights_only=True)\n",
    "M = metric_data['M']\n",
    "print(f\"M shape: {M.shape}\")\n",
    "print()\n",
    "\n",
    "# Load model for gamma matrix\n",
    "print(f\"Loading {MODEL_NAME}...\")\n",
    "model = AutoModelForCausalLM.from_pretrained(\n",
    "    MODEL_NAME,\n",
    "    torch_dtype=torch.bfloat16,\n",
    "    device_map=device,\n",
    ")\n",
    "model.eval()\n",
    "\n",
    "# Extract gamma (unembedding matrix)\n",
    "gamma = model.lm_head.weight.data.to(dtype=torch.float32, device=device)\n",
    "vocab_size, hidden_dim = gamma.shape\n",
    "print(f\"Gamma shape: {gamma.shape}\")\n",
    "print(f\"Vocabulary size: {vocab_size:,} tokens\")\n",
    "print()\n",
    "\n",
    "# Load tokenizer for decoding\n",
    "tokenizer = AutoTokenizer.from_pretrained(MODEL_NAME)\n",
    "print(\"Tokenizer loaded.\")"
   ]
  },
  {
   "cell_type": "markdown",
   "id": "compute-header",
   "metadata": {},
   "source": [
    "## Compute Causal Norms for All Tokens"
   ]
  },
  {
   "cell_type": "code",
   "execution_count": 3,
   "id": "compute-norms",
   "metadata": {},
   "outputs": [
    {
     "name": "stdout",
     "output_type": "stream",
     "text": [
      "Computing causal norms for all tokens...\n",
      "This may take a minute for 152k tokens...\n",
      "Computed 151,936 causal norms.\n",
      "  Mean: 54.1318 logometers\n",
      "  Std:  7.9034 logometers\n",
      "  Min:  21.3530 logometers\n",
      "  Max:  85.2873 logometers\n",
      "\n"
     ]
    }
   ],
   "source": [
    "print(\"Computing causal norms for all tokens...\")\n",
    "print(\"This may take a minute for 152k tokens...\")\n",
    "\n",
    "# Compute causal norms: sqrt(gamma @ M @ gamma.T) for each row\n",
    "# Efficient: gamma @ M gives [vocab_size, hidden_dim], then elementwise multiply with gamma and sum\n",
    "gamma_M = gamma @ M  # [vocab_size, hidden_dim]\n",
    "causal_norms_squared = (gamma_M * gamma).sum(dim=1)  # [vocab_size]\n",
    "causal_norms = torch.sqrt(torch.clamp(causal_norms_squared, min=0))  # [vocab_size]\n",
    "\n",
    "print(f\"Computed {len(causal_norms):,} causal norms.\")\n",
    "print(f\"  Mean: {causal_norms.mean().item():.4f} logometers\")\n",
    "print(f\"  Std:  {causal_norms.std().item():.4f} logometers\")\n",
    "print(f\"  Min:  {causal_norms.min().item():.4f} logometers\")\n",
    "print(f\"  Max:  {causal_norms.max().item():.4f} logometers\")\n",
    "print()"
   ]
  },
  {
   "cell_type": "markdown",
   "id": "find-header",
   "metadata": {},
   "source": [
    "## Find Most Distant Tokens"
   ]
  },
  {
   "cell_type": "code",
   "execution_count": 4,
   "id": "find-distant",
   "metadata": {},
   "outputs": [
    {
     "name": "stdout",
     "output_type": "stream",
     "text": [
      "==========================================================================================\n",
      "TOP 10 MOST DISTANT TOKENS (Quasar Candidates)\n",
      "==========================================================================================\n",
      "\n",
      " 1. Token ID 151643 | 85.2873 logometers | '<|endoftext|>'\n",
      " 2. Token ID    198 | 82.0617 logometers | '\\n'\n",
      " 3. Token ID  72363 | 81.1831 logometers | ' \\u200b\\u200b'\n",
      " 4. Token ID   4102 | 80.9403 logometers | '\\xa0'\n",
      " 5. Token ID 118174 | 80.0698 logometers | '或多'\n",
      " 6. Token ID     82 | 76.3415 logometers | 's'\n",
      " 7. Token ID 109553 | 75.6538 logometers | '和个人'\n",
      " 8. Token ID  52323 | 75.0789 logometers | 'edly'\n",
      " 9. Token ID  97322 | 74.6969 logometers | 'edBy'\n",
      "10. Token ID  38301 | 74.4579 logometers | 'edList'\n",
      "\n",
      "For context:\n",
      "  Mean causal norm: 54.1318 logometers\n",
      "  Std deviation:    7.9034 logometers\n",
      "  Most distant is 1.58× the mean\n"
     ]
    }
   ],
   "source": [
    "# Sort by causal norm (descending)\n",
    "sorted_indices = torch.argsort(causal_norms, descending=True)\n",
    "\n",
    "# Get top N most distant\n",
    "top_indices = sorted_indices[:N_TOP]\n",
    "top_norms = causal_norms[top_indices]\n",
    "\n",
    "print(f\"{'='*90}\")\n",
    "print(f\"TOP {N_TOP} MOST DISTANT TOKENS (Quasar Candidates)\")\n",
    "print(f\"{'='*90}\")\n",
    "print()\n",
    "\n",
    "for rank, (idx, norm) in enumerate(zip(top_indices, top_norms), 1):\n",
    "    token_id = idx.item()\n",
    "    norm_value = norm.item()\n",
    "    token_str = tokenizer.decode([token_id])\n",
    "    \n",
    "    # Repr with escaping for special chars\n",
    "    token_repr = repr(token_str)\n",
    "    \n",
    "    print(f\"{rank:2d}. Token ID {token_id:6d} | {norm_value:7.4f} logometers | {token_repr}\")\n",
    "\n",
    "print()\n",
    "print(f\"For context:\")\n",
    "print(f\"  Mean causal norm: {causal_norms.mean().item():.4f} logometers\")\n",
    "print(f\"  Std deviation:    {causal_norms.std().item():.4f} logometers\")\n",
    "print(f\"  Most distant is {(top_norms[0] / causal_norms.mean()).item():.2f}× the mean\")"
   ]
  },
  {
   "cell_type": "markdown",
   "id": "closest-header",
   "metadata": {},
   "source": [
    "## Also Check: Closest Tokens to Origin"
   ]
  },
  {
   "cell_type": "code",
   "execution_count": 5,
   "id": "find-closest",
   "metadata": {},
   "outputs": [
    {
     "name": "stdout",
     "output_type": "stream",
     "text": [
      "==========================================================================================\n",
      "TOP 10 CLOSEST TOKENS TO ORIGIN (Smallest Norms)\n",
      "==========================================================================================\n",
      "\n",
      " 1. Token ID 150904 | 21.3530 logometers | '듷'\n",
      " 2. Token ID 103909 | 21.4284 logometers | '�'\n",
      " 3. Token ID 149801 | 21.4458 logometers | '햑'\n",
      " 4. Token ID 121774 | 21.4466 logometers | '䦃'\n",
      " 5. Token ID 149961 | 21.4492 logometers | '�'\n",
      " 6. Token ID 150112 | 21.4627 logometers | '옼'\n",
      " 7. Token ID 151000 | 21.4637 logometers | '엃'\n",
      " 8. Token ID 149802 | 21.4892 logometers | '햤'\n",
      " 9. Token ID 150905 | 21.5154 logometers | '딮'\n",
      "10. Token ID 147930 | 21.5233 logometers | '🖏'\n",
      "\n",
      "Closest token is 0.39× the mean\n"
     ]
    }
   ],
   "source": [
    "# Get bottom N closest to origin\n",
    "bottom_indices = sorted_indices[-N_TOP:].flip(0)  # Reverse to show smallest first\n",
    "bottom_norms = causal_norms[bottom_indices]\n",
    "\n",
    "print(f\"{'='*90}\")\n",
    "print(f\"TOP {N_TOP} CLOSEST TOKENS TO ORIGIN (Smallest Norms)\")\n",
    "print(f\"{'='*90}\")\n",
    "print()\n",
    "\n",
    "for rank, (idx, norm) in enumerate(zip(bottom_indices, bottom_norms), 1):\n",
    "    token_id = idx.item()\n",
    "    norm_value = norm.item()\n",
    "    token_str = tokenizer.decode([token_id])\n",
    "    \n",
    "    token_repr = repr(token_str)\n",
    "    \n",
    "    print(f\"{rank:2d}. Token ID {token_id:6d} | {norm_value:7.4f} logometers | {token_repr}\")\n",
    "\n",
    "print()\n",
    "print(f\"Closest token is {(bottom_norms[0] / causal_norms.mean()).item():.2f}× the mean\")"
   ]
  },
  {
   "cell_type": "markdown",
   "id": "viz-header",
   "metadata": {},
   "source": [
    "## Visualize Distribution with Quasars Marked"
   ]
  },
  {
   "cell_type": "code",
   "execution_count": 6,
   "id": "viz-dist",
   "metadata": {},
   "outputs": [
    {
     "data": {
      "image/png": "[encoded data removed]",
      "text/plain": [
       "<Figure size 1400x600 with 1 Axes>"
      ]
     },
     "metadata": {},
     "output_type": "display_data"
    }
   ],
   "source": [
    "# Convert to numpy for plotting\n",
    "norms_np = causal_norms.cpu().numpy()\n",
    "top_norms_np = top_norms.cpu().numpy()\n",
    "\n",
    "fig, ax = plt.subplots(figsize=(14, 6))\n",
    "\n",
    "# Histogram of all norms\n",
    "ax.hist(norms_np, bins=100, color='steelblue', alpha=0.7, edgecolor='black', linewidth=0.5)\n",
    "\n",
    "# Mark mean\n",
    "mean_norm = norms_np.mean()\n",
    "ax.axvline(mean_norm, color='green', linestyle='--', linewidth=2, label=f'Mean: {mean_norm:.2f} logometers')\n",
    "\n",
    "# Mark quasar candidates\n",
    "for i, norm_val in enumerate(top_norms_np[:3], 1):  # Just top 3 to avoid clutter\n",
    "    ax.axvline(norm_val, color='red', linestyle=':', linewidth=1.5, alpha=0.8)\n",
    "    ax.text(norm_val, ax.get_ylim()[1] * 0.95, f'#{i}', \n",
    "            ha='center', va='top', color='red', fontsize=10, fontweight='bold')\n",
    "\n",
    "ax.set_xlabel('Causal Norm (logometers)', fontsize=12)\n",
    "ax.set_ylabel('Count (tokens)', fontsize=12)\n",
    "ax.set_title('Token Distribution by Causal Norm with Quasar Candidates', fontsize=13, fontweight='bold')\n",
    "ax.legend(fontsize=11)\n",
    "ax.grid(True, alpha=0.3)\n",
    "\n",
    "plt.tight_layout()\n",
    "plt.show()"
   ]
  },
  {
   "cell_type": "markdown",
   "id": "summary-header",
   "metadata": {},
   "source": [
    "## Summary\n",
    "\n",
    "This notebook identified the most distant tokens in causal space—our quasar candidates.\n",
    "\n",
    "**Next steps:**\n",
    "- If the top tokens are special tokens (control characters, structural markers), continue to **04.6b** to use the #1 quasar as a reference direction\n",
    "- If they're not obviously special, examine their semantic properties in **04.6d** (distance-from-quasar as coordinate)\n",
    "- Map relationships between all special tokens in **04.6c**\n",
    "\n",
    "**Key question answered:** What are the brightest, most distant stars in our token galaxy?"
   ]
  }
 ],
 "metadata": {
  "kernelspec": {
   "display_name": "azimuth",
   "language": "python",
   "name": "python3"
  },
  "language_info": {
   "codemirror_mode": {
    "name": "ipython",
    "version": 3
   },
   "file_extension": ".py",
   "mimetype": "text/x-python",
   "name": "python",
   "nbconvert_exporter": "python",
   "pygments_lexer": "ipython3",
   "version": "3.12.11"
  }
 },
 "nbformat": 4,
 "nbformat_minor": 5
}
