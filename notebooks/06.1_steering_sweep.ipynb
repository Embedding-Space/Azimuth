{
 "cells": [
  {
   "cell_type": "markdown",
   "metadata": {},
   "source": [
    "# Steering Sweep: Grade Level as Function of α\n",
    "\n",
    "This notebook tests steering effectiveness by measuring output grade level across a range of α coefficients.\n",
    "\n",
    "**Experiment design:**\n",
    "- **Prompt:** \"Please explain quantum mechanics. Please do not use Markdown.\"\n",
    "- **Steering vector:** Wikipedia complexity vector (layer 34)\n",
    "- **α sweep:** -1.0 to +1.0 in steps of 0.1 (21 points)\n",
    "- **Output length:** 250 tokens (≈175 words, ~10 sentences)\n",
    "- **Measurement:** Flesch-Kincaid Grade Level\n",
    "\n",
    "**Hypothesis:** Grade level should increase monotonically with α, showing linear or near-linear relationship in some range."
   ]
  },
  {
   "cell_type": "markdown",
   "metadata": {},
   "source": [
    "## Configuration"
   ]
  },
  {
   "cell_type": "code",
   "execution_count": null,
   "metadata": {},
   "outputs": [],
   "source": [
    "# Model configuration\n",
    "MODEL_NAME = 'Qwen/Qwen3-4B-Instruct-2507'\n",
    "DEVICE = 'auto'  # 'auto', 'cuda', 'mps', or 'cpu'\n",
    "\n",
    "# Steering configuration\n",
    "VECTOR_PATH = '../data/vectors/complexity_wikipedia.pt'\n",
    "STEERING_LAYER = 34  # Best layer from extraction\n",
    "\n",
    "# Experiment configuration\n",
    "PROMPT = \"Please explain quantum mechanics. Please do not use Markdown.\"\n",
    "ALPHA_MIN = -1.0\n",
    "ALPHA_MAX = 1.0\n",
    "ALPHA_STEP = 0.1\n",
    "MAX_NEW_TOKENS = 250  # Target ~175 words, ~10 sentences\n",
    "\n",
    "# Generation parameters\n",
    "TEMPERATURE = 0.0  # Standard sampling\n",
    "TOP_P = 0.9       # Nucleus sampling\n",
    "DO_SAMPLE = False  # Enable sampling (set False for deterministic)"
   ]
  },
  {
   "cell_type": "markdown",
   "metadata": {},
   "source": [
    "## Setup"
   ]
  },
  {
   "cell_type": "code",
   "execution_count": 51,
   "metadata": {},
   "outputs": [
    {
     "name": "stdout",
     "output_type": "stream",
     "text": [
      "✓ Using Apple Silicon GPU (MPS)\n"
     ]
    }
   ],
   "source": [
    "import torch\n",
    "import numpy as np\n",
    "import pandas as pd\n",
    "import matplotlib.pyplot as plt\n",
    "from transformers import AutoModelForCausalLM, AutoTokenizer\n",
    "from tqdm.auto import tqdm\n",
    "import textstat\n",
    "\n",
    "# Determine device\n",
    "if DEVICE == 'auto':\n",
    "    if torch.cuda.is_available():\n",
    "        device = torch.device('cuda')\n",
    "        print(f\"✓ Using CUDA: {torch.cuda.get_device_name(0)}\")\n",
    "    elif torch.backends.mps.is_available():\n",
    "        device = torch.device('mps')\n",
    "        print(\"✓ Using Apple Silicon GPU (MPS)\")\n",
    "    else:\n",
    "        device = torch.device('cpu')\n",
    "        print(\"⚠ Using CPU (this will be slow)\")\n",
    "else:\n",
    "    device = torch.device(DEVICE)\n",
    "    print(f\"✓ Using device: {device}\")"
   ]
  },
  {
   "cell_type": "markdown",
   "metadata": {},
   "source": [
    "## Load Model and Tokenizer"
   ]
  },
  {
   "cell_type": "code",
   "execution_count": 52,
   "metadata": {},
   "outputs": [
    {
     "name": "stdout",
     "output_type": "stream",
     "text": [
      "Loading model: Qwen/Qwen3-4B-Instruct-2507...\n"
     ]
    },
    {
     "data": {
      "application/vnd.jupyter.widget-view+json": {
       "model_id": "771814f522844b558916c9bfa6fd1c34",
       "version_major": 2,
       "version_minor": 0
      },
      "text/plain": [
       "Loading checkpoint shards:   0%|          | 0/3 [00:00<?, ?it/s]"
      ]
     },
     "metadata": {},
     "output_type": "display_data"
    },
    {
     "name": "stdout",
     "output_type": "stream",
     "text": [
      "✓ Model loaded\n",
      "  Layers: 36\n",
      "  Hidden dim: 2560\n"
     ]
    }
   ],
   "source": [
    "print(f\"Loading model: {MODEL_NAME}...\")\n",
    "\n",
    "tokenizer = AutoTokenizer.from_pretrained(MODEL_NAME)\n",
    "model = AutoModelForCausalLM.from_pretrained(\n",
    "    MODEL_NAME,\n",
    "    torch_dtype=torch.bfloat16,\n",
    "    device_map=device,\n",
    ")\n",
    "model.eval()\n",
    "\n",
    "print(f\"✓ Model loaded\")\n",
    "print(f\"  Layers: {model.config.num_hidden_layers}\")\n",
    "print(f\"  Hidden dim: {model.config.hidden_size}\")"
   ]
  },
  {
   "cell_type": "markdown",
   "metadata": {},
   "source": [
    "## Load Steering Vector"
   ]
  },
  {
   "cell_type": "code",
   "execution_count": 53,
   "metadata": {},
   "outputs": [
    {
     "name": "stdout",
     "output_type": "stream",
     "text": [
      "Loading steering vector from ../data/vectors/complexity_wikipedia.pt...\n",
      "✓ Loaded steering vector\n",
      "  Layer: 34\n",
      "  Shape: torch.Size([2560])\n",
      "  Euclidean norm: 62.43\n",
      "  Dataset: wikipedia\n",
      "  Extracted: 2025-10-26\n"
     ]
    }
   ],
   "source": [
    "print(f\"Loading steering vector from {VECTOR_PATH}...\")\n",
    "vector_data = torch.load(VECTOR_PATH, weights_only=False)\n",
    "\n",
    "# Extract the steering vector for the specified layer\n",
    "steering_vector = vector_data['vectors'][STEERING_LAYER].to(device).to(torch.bfloat16)\n",
    "\n",
    "print(f\"✓ Loaded steering vector\")\n",
    "print(f\"  Layer: {STEERING_LAYER}\")\n",
    "print(f\"  Shape: {steering_vector.shape}\")\n",
    "print(f\"  Euclidean norm: {vector_data['layer_norms'][STEERING_LAYER]:.2f}\")\n",
    "print(f\"  Dataset: {vector_data['metadata']['dataset']}\")\n",
    "print(f\"  Extracted: {vector_data['metadata']['extraction_date'][:10]}\")"
   ]
  },
  {
   "cell_type": "markdown",
   "metadata": {},
   "source": [
    "## Steering Hook Implementation\n",
    "\n",
    "We'll use a forward hook to add `α·v` to the hidden states at the specified layer during generation."
   ]
  },
  {
   "cell_type": "code",
   "execution_count": 54,
   "metadata": {},
   "outputs": [
    {
     "name": "stdout",
     "output_type": "stream",
     "text": [
      "✓ Steering hook registered on layer 34\n"
     ]
    }
   ],
   "source": [
    "# Global variable to hold current α value\n",
    "current_alpha = 0.0\n",
    "\n",
    "def steering_hook(module, input, output):\n",
    "    \"\"\"\n",
    "    Forward hook that adds α·v to hidden states.\n",
    "    \n",
    "    Args:\n",
    "        module: The layer module\n",
    "        input: Tuple of input tensors\n",
    "        output: Tuple of (hidden_states, ...) or just hidden_states\n",
    "    \n",
    "    Returns:\n",
    "        Modified output with steering applied\n",
    "    \"\"\"\n",
    "    # Extract hidden states (first element if tuple)\n",
    "    if isinstance(output, tuple):\n",
    "        hidden_states = output[0]\n",
    "    else:\n",
    "        hidden_states = output\n",
    "    \n",
    "    # Apply steering: h_new = h_old + α·v\n",
    "    # v is [hidden_dim], broadcast across batch and sequence dimensions\n",
    "    steered = hidden_states + current_alpha * steering_vector\n",
    "    \n",
    "    # Return in same format as input\n",
    "    if isinstance(output, tuple):\n",
    "        return (steered,) + output[1:]\n",
    "    else:\n",
    "        return steered\n",
    "\n",
    "# Register hook on the specified layer\n",
    "target_layer = model.model.layers[STEERING_LAYER]\n",
    "hook_handle = target_layer.register_forward_hook(steering_hook)\n",
    "\n",
    "print(f\"✓ Steering hook registered on layer {STEERING_LAYER}\")"
   ]
  },
  {
   "cell_type": "markdown",
   "metadata": {},
   "source": [
    "## Generation Function"
   ]
  },
  {
   "cell_type": "code",
   "execution_count": 55,
   "metadata": {},
   "outputs": [
    {
     "name": "stderr",
     "output_type": "stream",
     "text": [
      "The following generation flags are not valid and may be ignored: ['temperature', 'top_p', 'top_k']. Set `TRANSFORMERS_VERBOSITY=info` for more details.\n"
     ]
    },
    {
     "name": "stdout",
     "output_type": "stream",
     "text": [
      "Testing generation at α=0 with chat template...\n",
      "\n",
      "✓ Generated 197 words\n",
      "\n",
      "Preview:\n",
      "Quantum mechanics is a fundamental theory in physics that describes the behavior of matter and energy at the smallest scales—such as atoms, subatomic particles, and photons. Unlike classical physics, ...\n"
     ]
    }
   ],
   "source": [
    "def generate_with_steering(prompt, alpha):\n",
    "    \"\"\"\n",
    "    Generate text with specified steering coefficient.\n",
    "    \n",
    "    Args:\n",
    "        prompt: Input text (will be formatted as user message)\n",
    "        alpha: Steering coefficient\n",
    "    \n",
    "    Returns:\n",
    "        Generated text (assistant response only, prompt removed)\n",
    "    \"\"\"\n",
    "    global current_alpha\n",
    "    current_alpha = alpha\n",
    "    \n",
    "    # Format prompt using chat template\n",
    "    messages = [{\"role\": \"user\", \"content\": prompt}]\n",
    "    formatted_prompt = tokenizer.apply_chat_template(\n",
    "        messages,\n",
    "        tokenize=False,\n",
    "        add_generation_prompt=True\n",
    "    )\n",
    "    \n",
    "    # Tokenize formatted prompt\n",
    "    inputs = tokenizer(formatted_prompt, return_tensors='pt').to(device)\n",
    "    \n",
    "    # Generate\n",
    "    with torch.no_grad():\n",
    "        outputs = model.generate(\n",
    "            **inputs,\n",
    "            max_new_tokens=MAX_NEW_TOKENS,\n",
    "            temperature=TEMPERATURE,\n",
    "            top_p=TOP_P,\n",
    "            do_sample=DO_SAMPLE,\n",
    "            pad_token_id=tokenizer.pad_token_id or tokenizer.eos_token_id,\n",
    "        )\n",
    "    \n",
    "    # Decode full output\n",
    "    full_text = tokenizer.decode(outputs[0], skip_special_tokens=True)\n",
    "    \n",
    "    # Extract just the assistant's response (remove the formatted prompt)\n",
    "    # The chat template adds special tokens, we want just the completion\n",
    "    assistant_response = full_text.split(\"assistant\\n\")[-1].strip()\n",
    "    \n",
    "    return assistant_response\n",
    "\n",
    "# Test generation at α=0 (no steering)\n",
    "print(\"Testing generation at α=0 with chat template...\")\n",
    "test_output = generate_with_steering(PROMPT, alpha=0.0)\n",
    "print(f\"\\n✓ Generated {len(test_output.split())} words\")\n",
    "print(f\"\\nPreview:\\n{test_output[:200]}...\")"
   ]
  },
  {
   "cell_type": "markdown",
   "metadata": {},
   "source": [
    "## Run Steering Sweep"
   ]
  },
  {
   "cell_type": "code",
   "execution_count": 56,
   "metadata": {},
   "outputs": [
    {
     "name": "stdout",
     "output_type": "stream",
     "text": [
      "Running steering sweep: 21 α values from -1.0 to 1.0\n",
      "Generating 250 tokens per α value\n",
      "\n"
     ]
    },
    {
     "data": {
      "application/vnd.jupyter.widget-view+json": {
       "model_id": "d88830cdcba24746ac877efb256979ac",
       "version_major": 2,
       "version_minor": 0
      },
      "text/plain": [
       "Steering sweep:   0%|          | 0/21 [00:00<?, ?it/s]"
      ]
     },
     "metadata": {},
     "output_type": "display_data"
    },
    {
     "name": "stdout",
     "output_type": "stream",
     "text": [
      "\n",
      "✓ Completed 21 generations\n",
      "\n",
      "Grade level range: 10.3 to 15.0\n",
      "Mean words per generation: 204.7\n"
     ]
    }
   ],
   "source": [
    "# Generate α values\n",
    "alphas = np.arange(ALPHA_MIN, ALPHA_MAX + ALPHA_STEP/2, ALPHA_STEP)\n",
    "print(f\"Running steering sweep: {len(alphas)} α values from {ALPHA_MIN} to {ALPHA_MAX}\")\n",
    "print(f\"Generating {MAX_NEW_TOKENS} tokens per α value\\n\")\n",
    "\n",
    "# Store results\n",
    "results = []\n",
    "\n",
    "for alpha in tqdm(alphas, desc=\"Steering sweep\"):\n",
    "    # Generate (now returns just assistant response)\n",
    "    completion = generate_with_steering(PROMPT, alpha)\n",
    "    \n",
    "    # Compute grade level\n",
    "    try:\n",
    "        grade_level = textstat.flesch_kincaid_grade(completion)\n",
    "    except:\n",
    "        grade_level = np.nan  # Handle edge cases\n",
    "    \n",
    "    # Count words and sentences\n",
    "    n_words = len(completion.split())\n",
    "    n_sentences = completion.count('.') + completion.count('!') + completion.count('?')\n",
    "    \n",
    "    # Store\n",
    "    results.append({\n",
    "        'alpha': float(alpha),\n",
    "        'grade_level': grade_level,\n",
    "        'n_words': n_words,\n",
    "        'n_sentences': n_sentences,\n",
    "        'completion': completion,\n",
    "    })\n",
    "\n",
    "# Convert to DataFrame\n",
    "df = pd.DataFrame(results)\n",
    "\n",
    "print(f\"\\n✓ Completed {len(df)} generations\")\n",
    "print(f\"\\nGrade level range: {df['grade_level'].min():.1f} to {df['grade_level'].max():.1f}\")\n",
    "print(f\"Mean words per generation: {df['n_words'].mean():.1f}\")"
   ]
  },
  {
   "cell_type": "markdown",
   "metadata": {},
   "source": [
    "## Analyze Results"
   ]
  },
  {
   "cell_type": "code",
   "execution_count": 57,
   "metadata": {},
   "outputs": [
    {
     "name": "stdout",
     "output_type": "stream",
     "text": [
      "Summary by α:\n",
      "        alpha  grade_level  n_words  n_sentences\n",
      "-1.000000e+00    10.345000      208           11\n",
      "-9.000000e-01    11.241169      210           10\n",
      "-8.000000e-01    12.234884      204           10\n",
      "-7.000000e-01    12.234884      204           10\n",
      "-6.000000e-01    12.234884      204           10\n",
      "-5.000000e-01    12.169889      205           10\n",
      "-4.000000e-01    10.608925      214           11\n",
      "-3.000000e-01    10.608925      214           11\n",
      "-2.000000e-01    11.220941      197           11\n",
      "-1.000000e-01    11.340738      197           11\n",
      "-2.220446e-16    11.220941      197           11\n",
      " 1.000000e-01    11.220941      197           11\n",
      " 2.000000e-01    12.675477      199           12\n",
      " 3.000000e-01    12.552569      201           13\n",
      " 4.000000e-01    12.161393      201           12\n",
      " 5.000000e-01    13.414756      205            9\n",
      " 6.000000e-01    13.414756      205            9\n",
      " 7.000000e-01    13.671429      210           10\n",
      " 8.000000e-01    13.739308      208           10\n",
      " 9.000000e-01    13.739308      208           10\n",
      " 1.000000e+00    14.974762      210            8\n"
     ]
    }
   ],
   "source": [
    "# Summary statistics\n",
    "print(\"Summary by α:\")\n",
    "print(df[['alpha', 'grade_level', 'n_words', 'n_sentences']].to_string(index=False))"
   ]
  },
  {
   "cell_type": "markdown",
   "metadata": {},
   "source": [
    "## Visualize Grade Level vs α"
   ]
  },
  {
   "cell_type": "code",
   "execution_count": 58,
   "metadata": {},
   "outputs": [
    {
     "data": {
      "image/png": "[encoded data removed]",
      "text/plain": [
       "<Figure size 1200x600 with 1 Axes>"
      ]
     },
     "metadata": {},
     "output_type": "display_data"
    },
    {
     "name": "stdout",
     "output_type": "stream",
     "text": [
      "\n",
      "Linear regression:\n",
      "  Grade Level = 12.24 + 1.55·α\n",
      "  R² = 0.5949\n",
      "  p-value = 4.25e-05\n",
      "\n",
      "Interpretation:\n",
      "  Each α unit changes grade level by 1.55 grades\n",
      "  α=-1 to α=+1 spans 3.1 grade levels\n"
     ]
    }
   ],
   "source": [
    "fig, ax = plt.subplots(figsize=(12, 6))\n",
    "\n",
    "# Plot grade level vs alpha\n",
    "ax.plot(df['alpha'], df['grade_level'], 'o-', linewidth=2, markersize=8, color='steelblue')\n",
    "\n",
    "# Mark α=0 (baseline) - use tolerance for floating point comparison\n",
    "baseline_idx = (df['alpha'].abs()).idxmin()  # Find closest to 0\n",
    "baseline_grade = df.loc[baseline_idx, 'grade_level']\n",
    "ax.axvline(0, color='gray', linestyle='--', alpha=0.5, linewidth=1.5, label='α=0 (no steering)')\n",
    "ax.axhline(baseline_grade, color='gray', linestyle=':', alpha=0.5, linewidth=1)\n",
    "\n",
    "# Labels and formatting\n",
    "ax.set_xlabel('Steering Coefficient (α)', fontsize=13)\n",
    "ax.set_ylabel('Flesch-Kincaid Grade Level', fontsize=13)\n",
    "ax.set_title(f'Grade Level as Function of α\\nPrompt: \"{PROMPT}\"', fontsize=14, fontweight='bold')\n",
    "ax.grid(True, alpha=0.3)\n",
    "ax.legend(fontsize=11)\n",
    "\n",
    "# Add annotation for baseline\n",
    "ax.annotate(f'Baseline: {baseline_grade:.1f}', \n",
    "            xy=(0, baseline_grade), \n",
    "            xytext=(0.3, baseline_grade - 1),\n",
    "            fontsize=11,\n",
    "            bbox=dict(boxstyle='round', facecolor='white', alpha=0.8),\n",
    "            arrowprops=dict(arrowstyle='->', color='gray'))\n",
    "\n",
    "plt.tight_layout()\n",
    "plt.show()\n",
    "\n",
    "# Report linear fit\n",
    "from scipy.stats import linregress\n",
    "slope, intercept, r_value, p_value, std_err = linregress(df['alpha'], df['grade_level'])\n",
    "\n",
    "print(f\"\\nLinear regression:\")\n",
    "print(f\"  Grade Level = {intercept:.2f} + {slope:.2f}·α\")\n",
    "print(f\"  R² = {r_value**2:.4f}\")\n",
    "print(f\"  p-value = {p_value:.2e}\")\n",
    "print(f\"\\nInterpretation:\")\n",
    "print(f\"  Each α unit changes grade level by {slope:.2f} grades\")\n",
    "print(f\"  α=-1 to α=+1 spans {2*slope:.1f} grade levels\")"
   ]
  },
  {
   "cell_type": "markdown",
   "metadata": {},
   "source": [
    "## Sample Outputs"
   ]
  },
  {
   "cell_type": "code",
   "execution_count": 59,
   "metadata": {},
   "outputs": [
    {
     "name": "stdout",
     "output_type": "stream",
     "text": [
      "\n",
      "================================================================================\n",
      "α = -1.0 | Grade Level = 10.3 | Words = 208\n",
      "================================================================================\n",
      "Quantum mechanics is a fundamental theory in physics that describes the behavior of matter and energy at the smallest scales—like atoms, electrons, and photons. Unlike classical physics, which works well for everyday objects, quantum mechanics explains how things behave when they are extremely small and move at very high speeds.\n",
      "\n",
      "One of the key ideas in quantum mechanics is that particles don't have definite positions or speeds until they are measured. Instead, they exist in a kind of \"superposition,\" meaning they can be in multiple states at once. For example, an electron can be in many places at the same time until you observe it, at which point it \"collapses\" into one specific state.\n",
      "\n",
      "Another strange but true idea is wave-particle duality. This means that things like electrons or light can behave like both particles and waves depending on how you look at them. In some experiments, they act like tiny balls; in others, they act like waves that spread out and interfere with themselves.\n",
      "\n",
      "Quantum mechanics also introduces the concept of quantization. This means that certain physical properties, like energy, can only take on specific, discrete values. For instance, electrons in an atom can only have certain energy levels, not any value in between.\n",
      "\n",
      "There’s also the\n",
      "\n",
      "================================================================================\n",
      "α = -0.0 | Grade Level = 11.2 | Words = 197\n",
      "================================================================================\n",
      "Quantum mechanics is a fundamental theory in physics that describes the behavior of matter and energy at the smallest scales—such as atoms, subatomic particles, and photons. Unlike classical physics, which works well for everyday objects like balls or cars, quantum mechanics governs the world of the very small, where things behave in ways that seem strange or counterintuitive.\n",
      "\n",
      "One of the key ideas in quantum mechanics is wave-particle duality. This means that particles like electrons or photons can act both as particles (like tiny balls) and as waves (like ripples in water), depending on how they are observed. For example, in a double-slit experiment, electrons fired one at a time still create an interference pattern—like waves—suggesting they pass through both slits at once.\n",
      "\n",
      "Another important concept is superposition. In classical physics, an object has a definite state—like being in one place or spinning one way. In quantum mechanics, a particle can exist in multiple states at the same time until it is measured. For instance, an electron can be in a superposition of spinning up and spinning down simultaneously. Only when we measure it does it \"choose\" one state.\n",
      "\n",
      "Quantum entanglement is another strange phenomenon. When two\n",
      "\n",
      "================================================================================\n",
      "α = 1.0 | Grade Level = 15.0 | Words = 210\n",
      "================================================================================\n",
      "Quantum mechanics is a fundamental theory in physics that describes the behavior of matter and energy at the smallest scales—such as atoms, subatomic particles, and photons. Unlike classical physics, which predicts precise outcomes based on deterministic laws, quantum mechanics introduces a probabilistic framework. This means that we cannot predict exactly where a particle will be or what its momentum will be, only the probabilities of various outcomes.\n",
      "\n",
      "One of the core ideas in quantum mechanics is superposition, which means that a particle can exist in multiple states simultaneously until it is observed or measured. For example, an electron in an atom can be in a superposition of different energy levels until a measurement forces it into one specific state.\n",
      "\n",
      "Another key concept is wave-particle duality, which states that particles like electrons or photons exhibit both wave-like and particle-like properties depending on how they are observed. In some experiments, they behave like waves—spreading out and interfering with themselves—while in others, they act like discrete particles.\n",
      "\n",
      "Quantum entanglement is another fascinating phenomenon where two or more particles become linked in such a way that the state of one instantly influences the state of the other, no matter how far apart they are. This connection defies classical intuition and has been confirmed through\n"
     ]
    }
   ],
   "source": [
    "# Show outputs at α = -1, 0, +1\n",
    "sample_alphas = [-1.0, 0.0, 1.0]\n",
    "\n",
    "for target_alpha in sample_alphas:\n",
    "    # Find closest α to target (handles floating point issues)\n",
    "    idx = (df['alpha'] - target_alpha).abs().idxmin()\n",
    "    row = df.loc[idx]\n",
    "    print(f\"\\n{'='*80}\")\n",
    "    print(f\"α = {row['alpha']:.1f} | Grade Level = {row['grade_level']:.1f} | Words = {row['n_words']}\")\n",
    "    print(f\"{'='*80}\")\n",
    "    print(row['completion'])"
   ]
  },
  {
   "cell_type": "markdown",
   "metadata": {},
   "source": [
    "## Save Results"
   ]
  },
  {
   "cell_type": "code",
   "execution_count": 60,
   "metadata": {},
   "outputs": [
    {
     "name": "stdout",
     "output_type": "stream",
     "text": [
      "✓ Saved results to ../data/results/steering_sweep_quantum_mechanics.csv\n",
      "✓ Saved metadata to ../data/results/steering_sweep_quantum_mechanics_metadata.json\n"
     ]
    }
   ],
   "source": [
    "import json\n",
    "from datetime import datetime\n",
    "\n",
    "# Save DataFrame\n",
    "output_csv = '../data/results/steering_sweep_quantum_mechanics.csv'\n",
    "df.to_csv(output_csv, index=False)\n",
    "print(f\"✓ Saved results to {output_csv}\")\n",
    "\n",
    "# Save metadata\n",
    "metadata = {\n",
    "    'model': MODEL_NAME,\n",
    "    'prompt': PROMPT,\n",
    "    'vector_path': VECTOR_PATH,\n",
    "    'steering_layer': STEERING_LAYER,\n",
    "    'alpha_range': [float(ALPHA_MIN), float(ALPHA_MAX)],\n",
    "    'alpha_step': float(ALPHA_STEP),\n",
    "    'max_new_tokens': MAX_NEW_TOKENS,\n",
    "    'temperature': TEMPERATURE,\n",
    "    'top_p': TOP_P,\n",
    "    'do_sample': DO_SAMPLE,\n",
    "    'linear_regression': {\n",
    "        'slope': float(slope),\n",
    "        'intercept': float(intercept),\n",
    "        'r_squared': float(r_value**2),\n",
    "        'p_value': float(p_value),\n",
    "    },\n",
    "    'timestamp': datetime.now().isoformat(),\n",
    "}\n",
    "\n",
    "output_json = '../data/results/steering_sweep_quantum_mechanics_metadata.json'\n",
    "with open(output_json, 'w') as f:\n",
    "    json.dump(metadata, f, indent=2)\n",
    "print(f\"✓ Saved metadata to {output_json}\")"
   ]
  },
  {
   "cell_type": "markdown",
   "metadata": {},
   "source": [
    "## Cleanup"
   ]
  },
  {
   "cell_type": "code",
   "execution_count": 61,
   "metadata": {},
   "outputs": [
    {
     "name": "stdout",
     "output_type": "stream",
     "text": [
      "✓ Removed steering hook\n"
     ]
    }
   ],
   "source": [
    "# Remove steering hook\n",
    "hook_handle.remove()\n",
    "print(\"✓ Removed steering hook\")"
   ]
  },
  {
   "cell_type": "markdown",
   "metadata": {},
   "source": [
    "## Summary\n",
    "\n",
    "Steering sweep complete! 🎉\n",
    "\n",
    "**Next steps:**\n",
    "1. Examine sample outputs for qualitative assessment\n",
    "2. Check for off-manifold behavior at extreme α\n",
    "3. Try different prompts to test generalization\n",
    "4. Explore nonlinear effects beyond α ∈ [-1, 1]"
   ]
  }
 ],
 "metadata": {
  "kernelspec": {
   "display_name": "azimuth",
   "language": "python",
   "name": "python3"
  },
  "language_info": {
   "codemirror_mode": {
    "name": "ipython",
    "version": 3
   },
   "file_extension": ".py",
   "mimetype": "text/x-python",
   "name": "python",
   "nbconvert_exporter": "python",
   "pygments_lexer": "ipython3",
   "version": "3.12.11"
  }
 },
 "nbformat": 4,
 "nbformat_minor": 4
}
