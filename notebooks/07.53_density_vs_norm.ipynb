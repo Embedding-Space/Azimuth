{
 "cells": [
  {
   "cell_type": "markdown",
   "metadata": {},
   "source": [
    "# Local Density vs Causal Norm\n",
    "\n",
    "**Goal:** Determine if the \"void\" at the core is a true void (low density) or just low count.\n",
    "\n",
    "**Method:**\n",
    "- Use precomputed 32k×32k distance matrix\n",
    "- For each token: compute local density via k-nearest-neighbor distances\n",
    "- For each token: compute causal norm ||γᵢ||_M\n",
    "- Plot density vs norm to see radial density profile\n",
    "\n",
    "**Key question:** Are core tokens (small norm) actually dense or sparse?\n",
    "\n",
    "**Inputs:**\n",
    "- `data/vectors/distances_causal_32000_full.npy` - Distance matrix\n",
    "- `data/vectors/distances_causal_32000.pt` - Token indices\n",
    "- Model for token embeddings + metric tensor\n",
    "\n",
    "**Expected runtime:** ~1-2 minutes"
   ]
  },
  {
   "cell_type": "markdown",
   "metadata": {},
   "source": [
    "## Configuration"
   ]
  },
  {
   "cell_type": "code",
   "execution_count": 24,
   "metadata": {},
   "outputs": [
    {
     "name": "stdout",
     "output_type": "stream",
     "text": [
      "Configuration:\n",
      "  Distance matrix: ../data/vectors/distances_causal_32000_full.npy\n",
      "  k-NN: 20 neighbors\n",
      "  Model: Qwen/Qwen3-4B-Instruct-2507\n"
     ]
    }
   ],
   "source": [
    "# Input files\n",
    "INPUT_DISTANCES = '../data/vectors/distances_causal_32000_full.npy'\n",
    "INPUT_METADATA = '../data/vectors/distances_causal_32000.pt'\n",
    "METRIC_TENSOR_PATH = '../data/vectors/causal_metric_tensor_qwen3_4b.pt'\n",
    "\n",
    "# Model configuration\n",
    "MODEL_NAME = 'Qwen/Qwen3-4B-Instruct-2507'\n",
    "DEVICE = 'cpu'  # Local analysis, no GPU needed\n",
    "\n",
    "# Density parameters\n",
    "K_NEIGHBORS = 20  # Number of nearest neighbors for density estimate\n",
    "\n",
    "print(f\"Configuration:\")\n",
    "print(f\"  Distance matrix: {INPUT_DISTANCES}\")\n",
    "print(f\"  k-NN: {K_NEIGHBORS} neighbors\")\n",
    "print(f\"  Model: {MODEL_NAME}\")"
   ]
  },
  {
   "cell_type": "markdown",
   "metadata": {},
   "source": [
    "## Setup"
   ]
  },
  {
   "cell_type": "code",
   "execution_count": 25,
   "metadata": {},
   "outputs": [
    {
     "name": "stdout",
     "output_type": "stream",
     "text": [
      "✓ Imports complete\n"
     ]
    }
   ],
   "source": [
    "import torch\n",
    "import numpy as np\n",
    "import matplotlib.pyplot as plt\n",
    "from transformers import AutoModelForCausalLM\n",
    "\n",
    "print(\"✓ Imports complete\")"
   ]
  },
  {
   "cell_type": "markdown",
   "metadata": {},
   "source": [
    "## Load Distance Matrix"
   ]
  },
  {
   "cell_type": "code",
   "execution_count": 26,
   "metadata": {},
   "outputs": [
    {
     "name": "stdout",
     "output_type": "stream",
     "text": [
      "Loading distance matrix from ../data/vectors/distances_causal_32000_full.npy...\n",
      "✓ Loaded distance matrix\n",
      "  Shape: (32000, 32000)\n",
      "  N tokens: 32,000\n",
      "  Memory: 4.10 GB\n"
     ]
    }
   ],
   "source": [
    "print(f\"Loading distance matrix from {INPUT_DISTANCES}...\")\n",
    "distances = np.load(INPUT_DISTANCES)\n",
    "\n",
    "N = distances.shape[0]\n",
    "\n",
    "print(f\"✓ Loaded distance matrix\")\n",
    "print(f\"  Shape: {distances.shape}\")\n",
    "print(f\"  N tokens: {N:,}\")\n",
    "print(f\"  Memory: {distances.nbytes / 1e9:.2f} GB\")"
   ]
  },
  {
   "cell_type": "markdown",
   "metadata": {},
   "source": [
    "## Load Token Indices"
   ]
  },
  {
   "cell_type": "code",
   "execution_count": 27,
   "metadata": {},
   "outputs": [
    {
     "name": "stdout",
     "output_type": "stream",
     "text": [
      "\n",
      "Loading token indices from ../data/vectors/distances_causal_32000.pt...\n",
      "✓ Loaded token indices\n",
      "  Mapping 32,000 rows/cols → vocabulary indices\n",
      "  Range: [5, 151930]\n"
     ]
    }
   ],
   "source": [
    "print(f\"\\nLoading token indices from {INPUT_METADATA}...\")\n",
    "metadata = torch.load(INPUT_METADATA, weights_only=False)\n",
    "\n",
    "token_indices = metadata['token_indices'].numpy()\n",
    "\n",
    "print(f\"✓ Loaded token indices\")\n",
    "print(f\"  Mapping {N:,} rows/cols → vocabulary indices\")\n",
    "print(f\"  Range: [{token_indices.min()}, {token_indices.max()}]\")"
   ]
  },
  {
   "cell_type": "markdown",
   "metadata": {},
   "source": [
    "## Compute k-NN Density\n",
    "\n",
    "For each token, density = 1 / (mean distance to k nearest neighbors)\n",
    "\n",
    "High density = neighbors are close  \n",
    "Low density = neighbors are far away"
   ]
  },
  {
   "cell_type": "code",
   "execution_count": 28,
   "metadata": {},
   "outputs": [
    {
     "name": "stdout",
     "output_type": "stream",
     "text": [
      "\n",
      "Computing k-NN density (k=20)...\n"
     ]
    },
    {
     "name": "stderr",
     "output_type": "stream",
     "text": [
      "/var/folders/k5/44vd1ct56xj4y9h7x213kvjr0000gn/T/ipykernel_94387/215823279.py:17: RuntimeWarning: Mean of empty slice.\n",
      "  mean_dist = k_nearest_dists.mean()\n"
     ]
    },
    {
     "name": "stdout",
     "output_type": "stream",
     "text": [
      "✓ Computed densities\n",
      "\n",
      "Density statistics:\n",
      "  Min: 0.000000\n",
      "  Max: 2413.602051\n",
      "  Mean: 0.595077\n",
      "  Median: 0.019493\n"
     ]
    }
   ],
   "source": [
    "print(f\"\\nComputing k-NN density (k={K_NEIGHBORS})...\")\n",
    "\n",
    "densities = np.zeros(N)\n",
    "\n",
    "for i in range(N):\n",
    "    # Get distances from token i to all others\n",
    "    dists_i = distances[i]\n",
    "    \n",
    "    # Sort to find k nearest (excluding self at distance 0)\n",
    "    # Use partition for efficiency (O(N) instead of O(N log N))\n",
    "    k_nearest_dists = np.partition(dists_i, K_NEIGHBORS)[:K_NEIGHBORS+1]\n",
    "    \n",
    "    # Remove self-distance (should be 0)\n",
    "    k_nearest_dists = k_nearest_dists[k_nearest_dists > 0][:K_NEIGHBORS]\n",
    "    \n",
    "    # Density = 1 / mean distance\n",
    "    mean_dist = k_nearest_dists.mean()\n",
    "    densities[i] = 1.0 / mean_dist if mean_dist > 0 else 0\n",
    "\n",
    "print(f\"✓ Computed densities\")\n",
    "print(f\"\\nDensity statistics:\")\n",
    "print(f\"  Min: {densities.min():.6f}\")\n",
    "print(f\"  Max: {densities.max():.6f}\")\n",
    "print(f\"  Mean: {densities.mean():.6f}\")\n",
    "print(f\"  Median: {np.median(densities):.6f}\")"
   ]
  },
  {
   "cell_type": "markdown",
   "metadata": {},
   "source": [
    "## Convert to Volumetric Density\n",
    "\n",
    "k-NN density measures \"how close are neighbors\" but doesn't account for high-dimensional geometry.\n",
    "\n",
    "True volumetric density = points per unit hypervolume\n",
    "\n",
    "For k neighbors at mean distance r:\n",
    "- Volume of d-ball: V_d(r) ∝ r^d\n",
    "- Volumetric density: ρ_vol ≈ k / V_d(r)\n",
    "\n",
    "We use effective dimensionality d ≈ 1333 (from participation ratio analysis)."
   ]
  },
  {
   "cell_type": "code",
   "execution_count": 29,
   "metadata": {},
   "outputs": [
    {
     "name": "stdout",
     "output_type": "stream",
     "text": [
      "\n",
      "Computing volumetric density...\n",
      "  Effective dimensionality: 1333\n",
      "\n",
      "✓ Computed volumetric densities\n",
      "  Valid entries: 0 / 32,000\n",
      "\n",
      "⚠️  No valid volumetric densities computed!\n",
      "  This suggests numerical overflow/underflow issues.\n",
      "  Volumes at r^1333 are astronomically large!\n"
     ]
    }
   ],
   "source": [
    "from scipy.special import gamma as gamma_func\n",
    "\n",
    "# Effective dimensionality from participation ratio (notebook 04.1)\n",
    "D_EFF = 1333\n",
    "\n",
    "print(f\"\\nComputing volumetric density...\")\n",
    "print(f\"  Effective dimensionality: {D_EFF}\")\n",
    "\n",
    "# For each token, we have k-NN density = 1 / mean_distance\n",
    "# We need to recover mean_distance and compute volume\n",
    "\n",
    "mean_distances = np.zeros(N)\n",
    "for i in range(N):\n",
    "    if densities[i] > 0:\n",
    "        mean_distances[i] = 1.0 / densities[i]\n",
    "    else:\n",
    "        mean_distances[i] = np.nan\n",
    "\n",
    "# For numerical stability, compute log(volumetric_density) instead\n",
    "# log(ρ_vol) = log(k) - log(V_d(r))\n",
    "#            = log(k) - [(d/2)*log(π) - log(Γ(d/2+1)) + d*log(r)]\n",
    "\n",
    "log_volumetric_densities = np.zeros(N)\n",
    "\n",
    "for i in range(N):\n",
    "    if mean_distances[i] > 0 and not np.isnan(mean_distances[i]):\n",
    "        r = mean_distances[i]\n",
    "        \n",
    "        # log(V_d(r)) = (d/2)*log(π) - log(Γ(d/2+1)) + d*log(r)\n",
    "        log_vol = (D_EFF/2) * np.log(np.pi) - np.log(gamma_func(D_EFF/2 + 1)) + D_EFF * np.log(r)\n",
    "        \n",
    "        # log(ρ_vol) = log(k) - log(V_d(r))\n",
    "        log_volumetric_densities[i] = np.log(K_NEIGHBORS) - log_vol\n",
    "    else:\n",
    "        log_volumetric_densities[i] = -np.inf\n",
    "\n",
    "# Convert back to linear scale for valid entries\n",
    "volumetric_densities = np.exp(log_volumetric_densities)\n",
    "\n",
    "# Filter for statistics\n",
    "valid_mask = np.isfinite(volumetric_densities) & (volumetric_densities > 0)\n",
    "n_valid = valid_mask.sum()\n",
    "\n",
    "print(f\"\\n✓ Computed volumetric densities\")\n",
    "print(f\"  Valid entries: {n_valid:,} / {N:,}\")\n",
    "\n",
    "if n_valid > 0:\n",
    "    print(f\"\\nVolumetric density statistics:\")\n",
    "    print(f\"  Min: {volumetric_densities[valid_mask].min():.6e} tokens/logometer^{D_EFF}\")\n",
    "    print(f\"  Max: {volumetric_densities[valid_mask].max():.6e} tokens/logometer^{D_EFF}\")\n",
    "    print(f\"  Mean: {volumetric_densities[valid_mask].mean():.6e} tokens/logometer^{D_EFF}\")\n",
    "    print(f\"  Median: {np.median(volumetric_densities[valid_mask]):.6e} tokens/logometer^{D_EFF}\")\n",
    "    \n",
    "    print(f\"\\nLog-space statistics (for reference):\")\n",
    "    print(f\"  Log min: {log_volumetric_densities[valid_mask].min():.2f}\")\n",
    "    print(f\"  Log max: {log_volumetric_densities[valid_mask].max():.2f}\")\n",
    "    print(f\"  Log mean: {log_volumetric_densities[valid_mask].mean():.2f}\")\n",
    "else:\n",
    "    print(\"\\n⚠️  No valid volumetric densities computed!\")\n",
    "    print(\"  This suggests numerical overflow/underflow issues.\")\n",
    "    print(\"  Volumes at r^1333 are astronomically large!\")"
   ]
  },
  {
   "cell_type": "markdown",
   "metadata": {},
   "source": [
    "## Volumetric Density vs Causal Norm\n",
    "\n",
    "This shows true points per unit hypervolume, accounting for high-dimensional geometry."
   ]
  },
  {
   "cell_type": "code",
   "execution_count": 30,
   "metadata": {},
   "outputs": [
    {
     "name": "stdout",
     "output_type": "stream",
     "text": [
      "\n",
      "Loading model and computing causal norms...\n"
     ]
    },
    {
     "data": {
      "application/vnd.jupyter.widget-view+json": {
       "model_id": "9846140dea9243b98939a2be0998bf2f",
       "version_major": 2,
       "version_minor": 0
      },
      "text/plain": [
       "Loading checkpoint shards:   0%|          | 0/3 [00:00<?, ?it/s]"
      ]
     },
     "metadata": {},
     "output_type": "display_data"
    },
    {
     "name": "stdout",
     "output_type": "stream",
     "text": [
      "✓ Computed causal norms for volumetric plot\n"
     ]
    },
    {
     "ename": "ValueError",
     "evalue": "Invalid vmin or vmax",
     "output_type": "error",
     "traceback": [
      "\u001b[31m---------------------------------------------------------------------------\u001b[39m",
      "\u001b[31mValueError\u001b[39m                                Traceback (most recent call last)",
      "\u001b[36mCell\u001b[39m\u001b[36m \u001b[39m\u001b[32mIn[30]\u001b[39m\u001b[32m, line 42\u001b[39m\n\u001b[32m     29\u001b[39m valid_mask = volumetric_densities > \u001b[32m0\u001b[39m\n\u001b[32m     31\u001b[39m scatter = ax.scatter(\n\u001b[32m     32\u001b[39m     causal_norms[valid_mask],\n\u001b[32m     33\u001b[39m     volumetric_densities[valid_mask],\n\u001b[32m   (...)\u001b[39m\u001b[32m     39\u001b[39m     norm=plt.matplotlib.colors.LogNorm()  \u001b[38;5;66;03m# Log color scale\u001b[39;00m\n\u001b[32m     40\u001b[39m )\n\u001b[32m---> \u001b[39m\u001b[32m42\u001b[39m \u001b[43mplt\u001b[49m\u001b[43m.\u001b[49m\u001b[43mcolorbar\u001b[49m\u001b[43m(\u001b[49m\u001b[43mscatter\u001b[49m\u001b[43m,\u001b[49m\u001b[43m \u001b[49m\u001b[43max\u001b[49m\u001b[43m=\u001b[49m\u001b[43max\u001b[49m\u001b[43m,\u001b[49m\u001b[43m \u001b[49m\u001b[43mlabel\u001b[49m\u001b[43m=\u001b[49m\u001b[33;43mf\u001b[39;49m\u001b[33;43m'\u001b[39;49m\u001b[33;43mVolumetric Density (tokens/logometer^\u001b[39;49m\u001b[38;5;132;43;01m{\u001b[39;49;00m\u001b[43mD_EFF\u001b[49m\u001b[38;5;132;43;01m}\u001b[39;49;00m\u001b[33;43m)\u001b[39;49m\u001b[33;43m'\u001b[39;49m\u001b[43m)\u001b[49m\n\u001b[32m     44\u001b[39m ax.set_xlabel(\u001b[33m'\u001b[39m\u001b[33mCausal Norm (logometers)\u001b[39m\u001b[33m'\u001b[39m, fontsize=\u001b[32m12\u001b[39m)\n\u001b[32m     45\u001b[39m ax.set_ylabel(\u001b[33mf\u001b[39m\u001b[33m'\u001b[39m\u001b[33mVolumetric Density (tokens/logometer^\u001b[39m\u001b[38;5;132;01m{\u001b[39;00mD_EFF\u001b[38;5;132;01m}\u001b[39;00m\u001b[33m)\u001b[39m\u001b[33m'\u001b[39m, fontsize=\u001b[32m12\u001b[39m)\n",
      "\u001b[36mFile \u001b[39m\u001b[32m~/Projects/Azimuth/.venv/lib/python3.12/site-packages/matplotlib/pyplot.py:2533\u001b[39m, in \u001b[36mcolorbar\u001b[39m\u001b[34m(mappable, cax, ax, **kwargs)\u001b[39m\n\u001b[32m   2528\u001b[39m     \u001b[38;5;28;01mif\u001b[39;00m mappable \u001b[38;5;129;01mis\u001b[39;00m \u001b[38;5;28;01mNone\u001b[39;00m:\n\u001b[32m   2529\u001b[39m         \u001b[38;5;28;01mraise\u001b[39;00m \u001b[38;5;167;01mRuntimeError\u001b[39;00m(\u001b[33m'\u001b[39m\u001b[33mNo mappable was found to use for colorbar \u001b[39m\u001b[33m'\u001b[39m\n\u001b[32m   2530\u001b[39m                            \u001b[33m'\u001b[39m\u001b[33mcreation. First define a mappable such as \u001b[39m\u001b[33m'\u001b[39m\n\u001b[32m   2531\u001b[39m                            \u001b[33m'\u001b[39m\u001b[33man image (with imshow) or a contour set (\u001b[39m\u001b[33m'\u001b[39m\n\u001b[32m   2532\u001b[39m                            \u001b[33m'\u001b[39m\u001b[33mwith contourf).\u001b[39m\u001b[33m'\u001b[39m)\n\u001b[32m-> \u001b[39m\u001b[32m2533\u001b[39m ret = \u001b[43mgcf\u001b[49m\u001b[43m(\u001b[49m\u001b[43m)\u001b[49m\u001b[43m.\u001b[49m\u001b[43mcolorbar\u001b[49m\u001b[43m(\u001b[49m\u001b[43mmappable\u001b[49m\u001b[43m,\u001b[49m\u001b[43m \u001b[49m\u001b[43mcax\u001b[49m\u001b[43m=\u001b[49m\u001b[43mcax\u001b[49m\u001b[43m,\u001b[49m\u001b[43m \u001b[49m\u001b[43max\u001b[49m\u001b[43m=\u001b[49m\u001b[43max\u001b[49m\u001b[43m,\u001b[49m\u001b[43m \u001b[49m\u001b[43m*\u001b[49m\u001b[43m*\u001b[49m\u001b[43mkwargs\u001b[49m\u001b[43m)\u001b[49m\n\u001b[32m   2534\u001b[39m \u001b[38;5;28;01mreturn\u001b[39;00m ret\n",
      "\u001b[36mFile \u001b[39m\u001b[32m~/Projects/Azimuth/.venv/lib/python3.12/site-packages/matplotlib/figure.py:1308\u001b[39m, in \u001b[36mFigureBase.colorbar\u001b[39m\u001b[34m(self, mappable, cax, ax, use_gridspec, **kwargs)\u001b[39m\n\u001b[32m   1300\u001b[39m         _api.warn_external(\n\u001b[32m   1301\u001b[39m                 \u001b[33mf\u001b[39m\u001b[33m'\u001b[39m\u001b[33mAdding colorbar to a different Figure \u001b[39m\u001b[33m'\u001b[39m\n\u001b[32m   1302\u001b[39m                 \u001b[33mf\u001b[39m\u001b[33m'\u001b[39m\u001b[38;5;132;01m{\u001b[39;00m\u001b[38;5;28mrepr\u001b[39m(mappable_host_fig)\u001b[38;5;132;01m}\u001b[39;00m\u001b[33m than \u001b[39m\u001b[33m'\u001b[39m\n\u001b[32m   1303\u001b[39m                 \u001b[33mf\u001b[39m\u001b[33m'\u001b[39m\u001b[38;5;132;01m{\u001b[39;00m\u001b[38;5;28mrepr\u001b[39m(\u001b[38;5;28mself\u001b[39m._root_figure)\u001b[38;5;132;01m}\u001b[39;00m\u001b[33m which \u001b[39m\u001b[33m'\u001b[39m\n\u001b[32m   1304\u001b[39m                 \u001b[33mf\u001b[39m\u001b[33m'\u001b[39m\u001b[33mfig.colorbar is called on.\u001b[39m\u001b[33m'\u001b[39m)\n\u001b[32m   1306\u001b[39m NON_COLORBAR_KEYS = [  \u001b[38;5;66;03m# remove kws that cannot be passed to Colorbar\u001b[39;00m\n\u001b[32m   1307\u001b[39m     \u001b[33m'\u001b[39m\u001b[33mfraction\u001b[39m\u001b[33m'\u001b[39m, \u001b[33m'\u001b[39m\u001b[33mpad\u001b[39m\u001b[33m'\u001b[39m, \u001b[33m'\u001b[39m\u001b[33mshrink\u001b[39m\u001b[33m'\u001b[39m, \u001b[33m'\u001b[39m\u001b[33maspect\u001b[39m\u001b[33m'\u001b[39m, \u001b[33m'\u001b[39m\u001b[33manchor\u001b[39m\u001b[33m'\u001b[39m, \u001b[33m'\u001b[39m\u001b[33mpanchor\u001b[39m\u001b[33m'\u001b[39m]\n\u001b[32m-> \u001b[39m\u001b[32m1308\u001b[39m cb = \u001b[43mcbar\u001b[49m\u001b[43m.\u001b[49m\u001b[43mColorbar\u001b[49m\u001b[43m(\u001b[49m\u001b[43mcax\u001b[49m\u001b[43m,\u001b[49m\u001b[43m \u001b[49m\u001b[43mmappable\u001b[49m\u001b[43m,\u001b[49m\u001b[43m \u001b[49m\u001b[43m*\u001b[49m\u001b[43m*\u001b[49m\u001b[43m{\u001b[49m\n\u001b[32m   1309\u001b[39m \u001b[43m    \u001b[49m\u001b[43mk\u001b[49m\u001b[43m:\u001b[49m\u001b[43m \u001b[49m\u001b[43mv\u001b[49m\u001b[43m \u001b[49m\u001b[38;5;28;43;01mfor\u001b[39;49;00m\u001b[43m \u001b[49m\u001b[43mk\u001b[49m\u001b[43m,\u001b[49m\u001b[43m \u001b[49m\u001b[43mv\u001b[49m\u001b[43m \u001b[49m\u001b[38;5;129;43;01min\u001b[39;49;00m\u001b[43m \u001b[49m\u001b[43mkwargs\u001b[49m\u001b[43m.\u001b[49m\u001b[43mitems\u001b[49m\u001b[43m(\u001b[49m\u001b[43m)\u001b[49m\u001b[43m \u001b[49m\u001b[38;5;28;43;01mif\u001b[39;49;00m\u001b[43m \u001b[49m\u001b[43mk\u001b[49m\u001b[43m \u001b[49m\u001b[38;5;129;43;01mnot\u001b[39;49;00m\u001b[43m \u001b[49m\u001b[38;5;129;43;01min\u001b[39;49;00m\u001b[43m \u001b[49m\u001b[43mNON_COLORBAR_KEYS\u001b[49m\u001b[43m}\u001b[49m\u001b[43m)\u001b[49m\n\u001b[32m   1310\u001b[39m cax.get_figure(root=\u001b[38;5;28;01mFalse\u001b[39;00m).stale = \u001b[38;5;28;01mTrue\u001b[39;00m\n\u001b[32m   1311\u001b[39m \u001b[38;5;28;01mreturn\u001b[39;00m cb\n",
      "\u001b[36mFile \u001b[39m\u001b[32m~/Projects/Azimuth/.venv/lib/python3.12/site-packages/matplotlib/colorbar.py:387\u001b[39m, in \u001b[36mColorbar.__init__\u001b[39m\u001b[34m(self, ax, mappable, alpha, location, extend, extendfrac, extendrect, ticks, format, values, boundaries, spacing, drawedges, label, cmap, norm, orientation, ticklocation)\u001b[39m\n\u001b[32m    384\u001b[39m \u001b[38;5;28mself\u001b[39m.ticklocation = ticklocation\n\u001b[32m    386\u001b[39m \u001b[38;5;28mself\u001b[39m.set_label(label)\n\u001b[32m--> \u001b[39m\u001b[32m387\u001b[39m \u001b[38;5;28;43mself\u001b[39;49m\u001b[43m.\u001b[49m\u001b[43m_reset_locator_formatter_scale\u001b[49m\u001b[43m(\u001b[49m\u001b[43m)\u001b[49m\n\u001b[32m    389\u001b[39m \u001b[38;5;28;01mif\u001b[39;00m np.iterable(ticks):\n\u001b[32m    390\u001b[39m     \u001b[38;5;28mself\u001b[39m._locator = ticker.FixedLocator(ticks, nbins=\u001b[38;5;28mlen\u001b[39m(ticks))\n",
      "\u001b[36mFile \u001b[39m\u001b[32m~/Projects/Azimuth/.venv/lib/python3.12/site-packages/matplotlib/colorbar.py:1163\u001b[39m, in \u001b[36mColorbar._reset_locator_formatter_scale\u001b[39m\u001b[34m(self)\u001b[39m\n\u001b[32m   1157\u001b[39m \u001b[38;5;28;01mdef\u001b[39;00m\u001b[38;5;250m \u001b[39m\u001b[34m_reset_locator_formatter_scale\u001b[39m(\u001b[38;5;28mself\u001b[39m):\n\u001b[32m   1158\u001b[39m \u001b[38;5;250m    \u001b[39m\u001b[33;03m\"\"\"\u001b[39;00m\n\u001b[32m   1159\u001b[39m \u001b[33;03m    Reset the locator et al to defaults.  Any user-hardcoded changes\u001b[39;00m\n\u001b[32m   1160\u001b[39m \u001b[33;03m    need to be re-entered if this gets called (either at init, or when\u001b[39;00m\n\u001b[32m   1161\u001b[39m \u001b[33;03m    the mappable normal gets changed: Colorbar.update_normal)\u001b[39;00m\n\u001b[32m   1162\u001b[39m \u001b[33;03m    \"\"\"\u001b[39;00m\n\u001b[32m-> \u001b[39m\u001b[32m1163\u001b[39m     \u001b[38;5;28;43mself\u001b[39;49m\u001b[43m.\u001b[49m\u001b[43m_process_values\u001b[49m\u001b[43m(\u001b[49m\u001b[43m)\u001b[49m\n\u001b[32m   1164\u001b[39m     \u001b[38;5;28mself\u001b[39m._locator = \u001b[38;5;28;01mNone\u001b[39;00m\n\u001b[32m   1165\u001b[39m     \u001b[38;5;28mself\u001b[39m._minorlocator = \u001b[38;5;28;01mNone\u001b[39;00m\n",
      "\u001b[36mFile \u001b[39m\u001b[32m~/Projects/Azimuth/.venv/lib/python3.12/site-packages/matplotlib/colorbar.py:1099\u001b[39m, in \u001b[36mColorbar._process_values\u001b[39m\u001b[34m(self)\u001b[39m\n\u001b[32m   1097\u001b[39m     \u001b[38;5;28mself\u001b[39m.norm.vmin = \u001b[32m0\u001b[39m\n\u001b[32m   1098\u001b[39m     \u001b[38;5;28mself\u001b[39m.norm.vmax = \u001b[32m1\u001b[39m\n\u001b[32m-> \u001b[39m\u001b[32m1099\u001b[39m \u001b[38;5;28;43mself\u001b[39;49m\u001b[43m.\u001b[49m\u001b[43mnorm\u001b[49m\u001b[43m.\u001b[49m\u001b[43mvmin\u001b[49m, \u001b[38;5;28mself\u001b[39m.norm.vmax = mtransforms.nonsingular(\n\u001b[32m   1100\u001b[39m     \u001b[38;5;28mself\u001b[39m.norm.vmin, \u001b[38;5;28mself\u001b[39m.norm.vmax, expander=\u001b[32m0.1\u001b[39m)\n\u001b[32m   1101\u001b[39m \u001b[38;5;28;01mif\u001b[39;00m (\u001b[38;5;129;01mnot\u001b[39;00m \u001b[38;5;28misinstance\u001b[39m(\u001b[38;5;28mself\u001b[39m.norm, colors.BoundaryNorm) \u001b[38;5;129;01mand\u001b[39;00m\n\u001b[32m   1102\u001b[39m         (\u001b[38;5;28mself\u001b[39m.boundaries \u001b[38;5;129;01mis\u001b[39;00m \u001b[38;5;28;01mNone\u001b[39;00m)):\n\u001b[32m   1103\u001b[39m     b = \u001b[38;5;28mself\u001b[39m.norm.inverse(b)\n",
      "\u001b[36mFile \u001b[39m\u001b[32m~/Projects/Azimuth/.venv/lib/python3.12/site-packages/matplotlib/colors.py:2184\u001b[39m, in \u001b[36mNormalize.vmin\u001b[39m\u001b[34m(self, value)\u001b[39m\n\u001b[32m   2182\u001b[39m \u001b[38;5;28;01mif\u001b[39;00m value != \u001b[38;5;28mself\u001b[39m._vmin:\n\u001b[32m   2183\u001b[39m     \u001b[38;5;28mself\u001b[39m._vmin = value\n\u001b[32m-> \u001b[39m\u001b[32m2184\u001b[39m     \u001b[38;5;28;43mself\u001b[39;49m\u001b[43m.\u001b[49m\u001b[43m_changed\u001b[49m\u001b[43m(\u001b[49m\u001b[43m)\u001b[49m\n",
      "\u001b[36mFile \u001b[39m\u001b[32m~/Projects/Azimuth/.venv/lib/python3.12/site-packages/matplotlib/colors.py:2212\u001b[39m, in \u001b[36mNormalize._changed\u001b[39m\u001b[34m(self)\u001b[39m\n\u001b[32m   2207\u001b[39m \u001b[38;5;28;01mdef\u001b[39;00m\u001b[38;5;250m \u001b[39m\u001b[34m_changed\u001b[39m(\u001b[38;5;28mself\u001b[39m):\n\u001b[32m   2208\u001b[39m \u001b[38;5;250m    \u001b[39m\u001b[33;03m\"\"\"\u001b[39;00m\n\u001b[32m   2209\u001b[39m \u001b[33;03m    Call this whenever the norm is changed to notify all the\u001b[39;00m\n\u001b[32m   2210\u001b[39m \u001b[33;03m    callback listeners to the 'changed' signal.\u001b[39;00m\n\u001b[32m   2211\u001b[39m \u001b[33;03m    \"\"\"\u001b[39;00m\n\u001b[32m-> \u001b[39m\u001b[32m2212\u001b[39m     \u001b[38;5;28;43mself\u001b[39;49m\u001b[43m.\u001b[49m\u001b[43mcallbacks\u001b[49m\u001b[43m.\u001b[49m\u001b[43mprocess\u001b[49m\u001b[43m(\u001b[49m\u001b[33;43m'\u001b[39;49m\u001b[33;43mchanged\u001b[39;49m\u001b[33;43m'\u001b[39;49m\u001b[43m)\u001b[49m\n",
      "\u001b[36mFile \u001b[39m\u001b[32m~/Projects/Azimuth/.venv/lib/python3.12/site-packages/matplotlib/cbook.py:366\u001b[39m, in \u001b[36mCallbackRegistry.process\u001b[39m\u001b[34m(self, s, *args, **kwargs)\u001b[39m\n\u001b[32m    364\u001b[39m \u001b[38;5;28;01mexcept\u001b[39;00m \u001b[38;5;167;01mException\u001b[39;00m \u001b[38;5;28;01mas\u001b[39;00m exc:\n\u001b[32m    365\u001b[39m     \u001b[38;5;28;01mif\u001b[39;00m \u001b[38;5;28mself\u001b[39m.exception_handler \u001b[38;5;129;01mis\u001b[39;00m \u001b[38;5;129;01mnot\u001b[39;00m \u001b[38;5;28;01mNone\u001b[39;00m:\n\u001b[32m--> \u001b[39m\u001b[32m366\u001b[39m         \u001b[38;5;28;43mself\u001b[39;49m\u001b[43m.\u001b[49m\u001b[43mexception_handler\u001b[49m\u001b[43m(\u001b[49m\u001b[43mexc\u001b[49m\u001b[43m)\u001b[49m\n\u001b[32m    367\u001b[39m     \u001b[38;5;28;01melse\u001b[39;00m:\n\u001b[32m    368\u001b[39m         \u001b[38;5;28;01mraise\u001b[39;00m\n",
      "\u001b[36mFile \u001b[39m\u001b[32m~/Projects/Azimuth/.venv/lib/python3.12/site-packages/matplotlib/cbook.py:110\u001b[39m, in \u001b[36m_exception_printer\u001b[39m\u001b[34m(exc)\u001b[39m\n\u001b[32m    108\u001b[39m \u001b[38;5;28;01mdef\u001b[39;00m\u001b[38;5;250m \u001b[39m\u001b[34m_exception_printer\u001b[39m(exc):\n\u001b[32m    109\u001b[39m     \u001b[38;5;28;01mif\u001b[39;00m _get_running_interactive_framework() \u001b[38;5;129;01min\u001b[39;00m [\u001b[33m\"\u001b[39m\u001b[33mheadless\u001b[39m\u001b[33m\"\u001b[39m, \u001b[38;5;28;01mNone\u001b[39;00m]:\n\u001b[32m--> \u001b[39m\u001b[32m110\u001b[39m         \u001b[38;5;28;01mraise\u001b[39;00m exc\n\u001b[32m    111\u001b[39m     \u001b[38;5;28;01melse\u001b[39;00m:\n\u001b[32m    112\u001b[39m         traceback.print_exc()\n",
      "\u001b[36mFile \u001b[39m\u001b[32m~/Projects/Azimuth/.venv/lib/python3.12/site-packages/matplotlib/cbook.py:361\u001b[39m, in \u001b[36mCallbackRegistry.process\u001b[39m\u001b[34m(self, s, *args, **kwargs)\u001b[39m\n\u001b[32m    359\u001b[39m \u001b[38;5;28;01mif\u001b[39;00m func \u001b[38;5;129;01mis\u001b[39;00m \u001b[38;5;129;01mnot\u001b[39;00m \u001b[38;5;28;01mNone\u001b[39;00m:\n\u001b[32m    360\u001b[39m     \u001b[38;5;28;01mtry\u001b[39;00m:\n\u001b[32m--> \u001b[39m\u001b[32m361\u001b[39m         \u001b[43mfunc\u001b[49m\u001b[43m(\u001b[49m\u001b[43m*\u001b[49m\u001b[43margs\u001b[49m\u001b[43m,\u001b[49m\u001b[43m \u001b[49m\u001b[43m*\u001b[49m\u001b[43m*\u001b[49m\u001b[43mkwargs\u001b[49m\u001b[43m)\u001b[49m\n\u001b[32m    362\u001b[39m     \u001b[38;5;66;03m# this does not capture KeyboardInterrupt, SystemExit,\u001b[39;00m\n\u001b[32m    363\u001b[39m     \u001b[38;5;66;03m# and GeneratorExit\u001b[39;00m\n\u001b[32m    364\u001b[39m     \u001b[38;5;28;01mexcept\u001b[39;00m \u001b[38;5;167;01mException\u001b[39;00m \u001b[38;5;28;01mas\u001b[39;00m exc:\n",
      "\u001b[36mFile \u001b[39m\u001b[32m~/Projects/Azimuth/.venv/lib/python3.12/site-packages/matplotlib/colorizer.py:297\u001b[39m, in \u001b[36mColorizer.changed\u001b[39m\u001b[34m(self)\u001b[39m\n\u001b[32m    292\u001b[39m \u001b[38;5;28;01mdef\u001b[39;00m\u001b[38;5;250m \u001b[39m\u001b[34mchanged\u001b[39m(\u001b[38;5;28mself\u001b[39m):\n\u001b[32m    293\u001b[39m \u001b[38;5;250m    \u001b[39m\u001b[33;03m\"\"\"\u001b[39;00m\n\u001b[32m    294\u001b[39m \u001b[33;03m    Call this whenever the mappable is changed to notify all the\u001b[39;00m\n\u001b[32m    295\u001b[39m \u001b[33;03m    callbackSM listeners to the 'changed' signal.\u001b[39;00m\n\u001b[32m    296\u001b[39m \u001b[33;03m    \"\"\"\u001b[39;00m\n\u001b[32m--> \u001b[39m\u001b[32m297\u001b[39m     \u001b[38;5;28;43mself\u001b[39;49m\u001b[43m.\u001b[49m\u001b[43mcallbacks\u001b[49m\u001b[43m.\u001b[49m\u001b[43mprocess\u001b[49m\u001b[43m(\u001b[49m\u001b[33;43m'\u001b[39;49m\u001b[33;43mchanged\u001b[39;49m\u001b[33;43m'\u001b[39;49m\u001b[43m)\u001b[49m\n\u001b[32m    298\u001b[39m     \u001b[38;5;28mself\u001b[39m.stale = \u001b[38;5;28;01mTrue\u001b[39;00m\n",
      "\u001b[36mFile \u001b[39m\u001b[32m~/Projects/Azimuth/.venv/lib/python3.12/site-packages/matplotlib/cbook.py:366\u001b[39m, in \u001b[36mCallbackRegistry.process\u001b[39m\u001b[34m(self, s, *args, **kwargs)\u001b[39m\n\u001b[32m    364\u001b[39m \u001b[38;5;28;01mexcept\u001b[39;00m \u001b[38;5;167;01mException\u001b[39;00m \u001b[38;5;28;01mas\u001b[39;00m exc:\n\u001b[32m    365\u001b[39m     \u001b[38;5;28;01mif\u001b[39;00m \u001b[38;5;28mself\u001b[39m.exception_handler \u001b[38;5;129;01mis\u001b[39;00m \u001b[38;5;129;01mnot\u001b[39;00m \u001b[38;5;28;01mNone\u001b[39;00m:\n\u001b[32m--> \u001b[39m\u001b[32m366\u001b[39m         \u001b[38;5;28;43mself\u001b[39;49m\u001b[43m.\u001b[49m\u001b[43mexception_handler\u001b[49m\u001b[43m(\u001b[49m\u001b[43mexc\u001b[49m\u001b[43m)\u001b[49m\n\u001b[32m    367\u001b[39m     \u001b[38;5;28;01melse\u001b[39;00m:\n\u001b[32m    368\u001b[39m         \u001b[38;5;28;01mraise\u001b[39;00m\n",
      "\u001b[36mFile \u001b[39m\u001b[32m~/Projects/Azimuth/.venv/lib/python3.12/site-packages/matplotlib/cbook.py:110\u001b[39m, in \u001b[36m_exception_printer\u001b[39m\u001b[34m(exc)\u001b[39m\n\u001b[32m    108\u001b[39m \u001b[38;5;28;01mdef\u001b[39;00m\u001b[38;5;250m \u001b[39m\u001b[34m_exception_printer\u001b[39m(exc):\n\u001b[32m    109\u001b[39m     \u001b[38;5;28;01mif\u001b[39;00m _get_running_interactive_framework() \u001b[38;5;129;01min\u001b[39;00m [\u001b[33m\"\u001b[39m\u001b[33mheadless\u001b[39m\u001b[33m\"\u001b[39m, \u001b[38;5;28;01mNone\u001b[39;00m]:\n\u001b[32m--> \u001b[39m\u001b[32m110\u001b[39m         \u001b[38;5;28;01mraise\u001b[39;00m exc\n\u001b[32m    111\u001b[39m     \u001b[38;5;28;01melse\u001b[39;00m:\n\u001b[32m    112\u001b[39m         traceback.print_exc()\n",
      "\u001b[36mFile \u001b[39m\u001b[32m~/Projects/Azimuth/.venv/lib/python3.12/site-packages/matplotlib/cbook.py:361\u001b[39m, in \u001b[36mCallbackRegistry.process\u001b[39m\u001b[34m(self, s, *args, **kwargs)\u001b[39m\n\u001b[32m    359\u001b[39m \u001b[38;5;28;01mif\u001b[39;00m func \u001b[38;5;129;01mis\u001b[39;00m \u001b[38;5;129;01mnot\u001b[39;00m \u001b[38;5;28;01mNone\u001b[39;00m:\n\u001b[32m    360\u001b[39m     \u001b[38;5;28;01mtry\u001b[39;00m:\n\u001b[32m--> \u001b[39m\u001b[32m361\u001b[39m         \u001b[43mfunc\u001b[49m\u001b[43m(\u001b[49m\u001b[43m*\u001b[49m\u001b[43margs\u001b[49m\u001b[43m,\u001b[49m\u001b[43m \u001b[49m\u001b[43m*\u001b[49m\u001b[43m*\u001b[49m\u001b[43mkwargs\u001b[49m\u001b[43m)\u001b[49m\n\u001b[32m    362\u001b[39m     \u001b[38;5;66;03m# this does not capture KeyboardInterrupt, SystemExit,\u001b[39;00m\n\u001b[32m    363\u001b[39m     \u001b[38;5;66;03m# and GeneratorExit\u001b[39;00m\n\u001b[32m    364\u001b[39m     \u001b[38;5;28;01mexcept\u001b[39;00m \u001b[38;5;167;01mException\u001b[39;00m \u001b[38;5;28;01mas\u001b[39;00m exc:\n",
      "\u001b[36mFile \u001b[39m\u001b[32m~/Projects/Azimuth/.venv/lib/python3.12/site-packages/matplotlib/colorizer.py:589\u001b[39m, in \u001b[36m_ScalarMappable.changed\u001b[39m\u001b[34m(self)\u001b[39m\n\u001b[32m    584\u001b[39m \u001b[38;5;28;01mdef\u001b[39;00m\u001b[38;5;250m \u001b[39m\u001b[34mchanged\u001b[39m(\u001b[38;5;28mself\u001b[39m):\n\u001b[32m    585\u001b[39m \u001b[38;5;250m    \u001b[39m\u001b[33;03m\"\"\"\u001b[39;00m\n\u001b[32m    586\u001b[39m \u001b[33;03m    Call this whenever the mappable is changed to notify all the\u001b[39;00m\n\u001b[32m    587\u001b[39m \u001b[33;03m    callbackSM listeners to the 'changed' signal.\u001b[39;00m\n\u001b[32m    588\u001b[39m \u001b[33;03m    \"\"\"\u001b[39;00m\n\u001b[32m--> \u001b[39m\u001b[32m589\u001b[39m     \u001b[38;5;28;43mself\u001b[39;49m\u001b[43m.\u001b[49m\u001b[43mcallbacks\u001b[49m\u001b[43m.\u001b[49m\u001b[43mprocess\u001b[49m\u001b[43m(\u001b[49m\u001b[33;43m'\u001b[39;49m\u001b[33;43mchanged\u001b[39;49m\u001b[33;43m'\u001b[39;49m\u001b[43m,\u001b[49m\u001b[43m \u001b[49m\u001b[38;5;28;43mself\u001b[39;49m\u001b[43m)\u001b[49m\n\u001b[32m    590\u001b[39m     \u001b[38;5;28mself\u001b[39m.stale = \u001b[38;5;28;01mTrue\u001b[39;00m\n",
      "\u001b[36mFile \u001b[39m\u001b[32m~/Projects/Azimuth/.venv/lib/python3.12/site-packages/matplotlib/cbook.py:366\u001b[39m, in \u001b[36mCallbackRegistry.process\u001b[39m\u001b[34m(self, s, *args, **kwargs)\u001b[39m\n\u001b[32m    364\u001b[39m \u001b[38;5;28;01mexcept\u001b[39;00m \u001b[38;5;167;01mException\u001b[39;00m \u001b[38;5;28;01mas\u001b[39;00m exc:\n\u001b[32m    365\u001b[39m     \u001b[38;5;28;01mif\u001b[39;00m \u001b[38;5;28mself\u001b[39m.exception_handler \u001b[38;5;129;01mis\u001b[39;00m \u001b[38;5;129;01mnot\u001b[39;00m \u001b[38;5;28;01mNone\u001b[39;00m:\n\u001b[32m--> \u001b[39m\u001b[32m366\u001b[39m         \u001b[38;5;28;43mself\u001b[39;49m\u001b[43m.\u001b[49m\u001b[43mexception_handler\u001b[49m\u001b[43m(\u001b[49m\u001b[43mexc\u001b[49m\u001b[43m)\u001b[49m\n\u001b[32m    367\u001b[39m     \u001b[38;5;28;01melse\u001b[39;00m:\n\u001b[32m    368\u001b[39m         \u001b[38;5;28;01mraise\u001b[39;00m\n",
      "\u001b[36mFile \u001b[39m\u001b[32m~/Projects/Azimuth/.venv/lib/python3.12/site-packages/matplotlib/cbook.py:110\u001b[39m, in \u001b[36m_exception_printer\u001b[39m\u001b[34m(exc)\u001b[39m\n\u001b[32m    108\u001b[39m \u001b[38;5;28;01mdef\u001b[39;00m\u001b[38;5;250m \u001b[39m\u001b[34m_exception_printer\u001b[39m(exc):\n\u001b[32m    109\u001b[39m     \u001b[38;5;28;01mif\u001b[39;00m _get_running_interactive_framework() \u001b[38;5;129;01min\u001b[39;00m [\u001b[33m\"\u001b[39m\u001b[33mheadless\u001b[39m\u001b[33m\"\u001b[39m, \u001b[38;5;28;01mNone\u001b[39;00m]:\n\u001b[32m--> \u001b[39m\u001b[32m110\u001b[39m         \u001b[38;5;28;01mraise\u001b[39;00m exc\n\u001b[32m    111\u001b[39m     \u001b[38;5;28;01melse\u001b[39;00m:\n\u001b[32m    112\u001b[39m         traceback.print_exc()\n",
      "\u001b[36mFile \u001b[39m\u001b[32m~/Projects/Azimuth/.venv/lib/python3.12/site-packages/matplotlib/cbook.py:361\u001b[39m, in \u001b[36mCallbackRegistry.process\u001b[39m\u001b[34m(self, s, *args, **kwargs)\u001b[39m\n\u001b[32m    359\u001b[39m \u001b[38;5;28;01mif\u001b[39;00m func \u001b[38;5;129;01mis\u001b[39;00m \u001b[38;5;129;01mnot\u001b[39;00m \u001b[38;5;28;01mNone\u001b[39;00m:\n\u001b[32m    360\u001b[39m     \u001b[38;5;28;01mtry\u001b[39;00m:\n\u001b[32m--> \u001b[39m\u001b[32m361\u001b[39m         \u001b[43mfunc\u001b[49m\u001b[43m(\u001b[49m\u001b[43m*\u001b[49m\u001b[43margs\u001b[49m\u001b[43m,\u001b[49m\u001b[43m \u001b[49m\u001b[43m*\u001b[49m\u001b[43m*\u001b[49m\u001b[43mkwargs\u001b[49m\u001b[43m)\u001b[49m\n\u001b[32m    362\u001b[39m     \u001b[38;5;66;03m# this does not capture KeyboardInterrupt, SystemExit,\u001b[39;00m\n\u001b[32m    363\u001b[39m     \u001b[38;5;66;03m# and GeneratorExit\u001b[39;00m\n\u001b[32m    364\u001b[39m     \u001b[38;5;28;01mexcept\u001b[39;00m \u001b[38;5;167;01mException\u001b[39;00m \u001b[38;5;28;01mas\u001b[39;00m exc:\n",
      "\u001b[36mFile \u001b[39m\u001b[32m~/Projects/Azimuth/.venv/lib/python3.12/site-packages/matplotlib/colorbar.py:513\u001b[39m, in \u001b[36mColorbar.update_normal\u001b[39m\u001b[34m(self, mappable)\u001b[39m\n\u001b[32m    510\u001b[39m     \u001b[38;5;28mself\u001b[39m.norm = \u001b[38;5;28mself\u001b[39m.mappable.norm\n\u001b[32m    511\u001b[39m     \u001b[38;5;28mself\u001b[39m._reset_locator_formatter_scale()\n\u001b[32m--> \u001b[39m\u001b[32m513\u001b[39m \u001b[38;5;28;43mself\u001b[39;49m\u001b[43m.\u001b[49m\u001b[43m_draw_all\u001b[49m\u001b[43m(\u001b[49m\u001b[43m)\u001b[49m\n\u001b[32m    514\u001b[39m \u001b[38;5;28;01mif\u001b[39;00m \u001b[38;5;28misinstance\u001b[39m(\u001b[38;5;28mself\u001b[39m.mappable, contour.ContourSet):\n\u001b[32m    515\u001b[39m     CS = \u001b[38;5;28mself\u001b[39m.mappable\n",
      "\u001b[36mFile \u001b[39m\u001b[32m~/Projects/Azimuth/.venv/lib/python3.12/site-packages/matplotlib/colorbar.py:540\u001b[39m, in \u001b[36mColorbar._draw_all\u001b[39m\u001b[34m(self)\u001b[39m\n\u001b[32m    534\u001b[39m \u001b[38;5;28mself\u001b[39m._short_axis().set_ticks([], minor=\u001b[38;5;28;01mTrue\u001b[39;00m)\n\u001b[32m    536\u001b[39m \u001b[38;5;66;03m# Set self._boundaries and self._values, including extensions.\u001b[39;00m\n\u001b[32m    537\u001b[39m \u001b[38;5;66;03m# self._boundaries are the edges of each square of color, and\u001b[39;00m\n\u001b[32m    538\u001b[39m \u001b[38;5;66;03m# self._values are the value to map into the norm to get the\u001b[39;00m\n\u001b[32m    539\u001b[39m \u001b[38;5;66;03m# color:\u001b[39;00m\n\u001b[32m--> \u001b[39m\u001b[32m540\u001b[39m \u001b[38;5;28;43mself\u001b[39;49m\u001b[43m.\u001b[49m\u001b[43m_process_values\u001b[49m\u001b[43m(\u001b[49m\u001b[43m)\u001b[49m\n\u001b[32m    541\u001b[39m \u001b[38;5;66;03m# Set self.vmin and self.vmax to first and last boundary, excluding\u001b[39;00m\n\u001b[32m    542\u001b[39m \u001b[38;5;66;03m# extensions:\u001b[39;00m\n\u001b[32m    543\u001b[39m \u001b[38;5;28mself\u001b[39m.vmin, \u001b[38;5;28mself\u001b[39m.vmax = \u001b[38;5;28mself\u001b[39m._boundaries[\u001b[38;5;28mself\u001b[39m._inside][[\u001b[32m0\u001b[39m, -\u001b[32m1\u001b[39m]]\n",
      "\u001b[36mFile \u001b[39m\u001b[32m~/Projects/Azimuth/.venv/lib/python3.12/site-packages/matplotlib/colorbar.py:1103\u001b[39m, in \u001b[36mColorbar._process_values\u001b[39m\u001b[34m(self)\u001b[39m\n\u001b[32m   1099\u001b[39m \u001b[38;5;28mself\u001b[39m.norm.vmin, \u001b[38;5;28mself\u001b[39m.norm.vmax = mtransforms.nonsingular(\n\u001b[32m   1100\u001b[39m     \u001b[38;5;28mself\u001b[39m.norm.vmin, \u001b[38;5;28mself\u001b[39m.norm.vmax, expander=\u001b[32m0.1\u001b[39m)\n\u001b[32m   1101\u001b[39m \u001b[38;5;28;01mif\u001b[39;00m (\u001b[38;5;129;01mnot\u001b[39;00m \u001b[38;5;28misinstance\u001b[39m(\u001b[38;5;28mself\u001b[39m.norm, colors.BoundaryNorm) \u001b[38;5;129;01mand\u001b[39;00m\n\u001b[32m   1102\u001b[39m         (\u001b[38;5;28mself\u001b[39m.boundaries \u001b[38;5;129;01mis\u001b[39;00m \u001b[38;5;28;01mNone\u001b[39;00m)):\n\u001b[32m-> \u001b[39m\u001b[32m1103\u001b[39m     b = \u001b[38;5;28;43mself\u001b[39;49m\u001b[43m.\u001b[49m\u001b[43mnorm\u001b[49m\u001b[43m.\u001b[49m\u001b[43minverse\u001b[49m\u001b[43m(\u001b[49m\u001b[43mb\u001b[49m\u001b[43m)\u001b[49m\n\u001b[32m   1105\u001b[39m \u001b[38;5;28mself\u001b[39m._boundaries = np.asarray(b, dtype=\u001b[38;5;28mfloat\u001b[39m)\n\u001b[32m   1106\u001b[39m \u001b[38;5;28mself\u001b[39m._values = \u001b[32m0.5\u001b[39m * (\u001b[38;5;28mself\u001b[39m._boundaries[:-\u001b[32m1\u001b[39m] + \u001b[38;5;28mself\u001b[39m._boundaries[\u001b[32m1\u001b[39m:])\n",
      "\u001b[36mFile \u001b[39m\u001b[32m~/Projects/Azimuth/.venv/lib/python3.12/site-packages/matplotlib/colors.py:2692\u001b[39m, in \u001b[36m_make_norm_from_scale.<locals>.Norm.inverse\u001b[39m\u001b[34m(self, value)\u001b[39m\n\u001b[32m   2690\u001b[39m t_vmin, t_vmax = \u001b[38;5;28mself\u001b[39m._trf.transform([\u001b[38;5;28mself\u001b[39m.vmin, \u001b[38;5;28mself\u001b[39m.vmax])\n\u001b[32m   2691\u001b[39m \u001b[38;5;28;01mif\u001b[39;00m \u001b[38;5;129;01mnot\u001b[39;00m np.isfinite([t_vmin, t_vmax]).all():\n\u001b[32m-> \u001b[39m\u001b[32m2692\u001b[39m     \u001b[38;5;28;01mraise\u001b[39;00m \u001b[38;5;167;01mValueError\u001b[39;00m(\u001b[33m\"\u001b[39m\u001b[33mInvalid vmin or vmax\u001b[39m\u001b[33m\"\u001b[39m)\n\u001b[32m   2693\u001b[39m value, is_scalar = \u001b[38;5;28mself\u001b[39m.process_value(value)\n\u001b[32m   2694\u001b[39m rescaled = value * (t_vmax - t_vmin)\n",
      "\u001b[31mValueError\u001b[39m: Invalid vmin or vmax"
     ]
    },
    {
     "name": "stdout",
     "output_type": "stream",
     "text": [
      "Error in callback <function _draw_all_if_interactive at 0x123ea1440> (for post_execute), with arguments args (),kwargs {}:\n"
     ]
    },
    {
     "ename": "ValueError",
     "evalue": "Invalid vmin or vmax",
     "output_type": "error",
     "traceback": [
      "\u001b[31m---------------------------------------------------------------------------\u001b[39m",
      "\u001b[31mValueError\u001b[39m                                Traceback (most recent call last)",
      "\u001b[36mFile \u001b[39m\u001b[32m~/Projects/Azimuth/.venv/lib/python3.12/site-packages/matplotlib/pyplot.py:278\u001b[39m, in \u001b[36m_draw_all_if_interactive\u001b[39m\u001b[34m()\u001b[39m\n\u001b[32m    276\u001b[39m \u001b[38;5;28;01mdef\u001b[39;00m\u001b[38;5;250m \u001b[39m\u001b[34m_draw_all_if_interactive\u001b[39m() -> \u001b[38;5;28;01mNone\u001b[39;00m:\n\u001b[32m    277\u001b[39m     \u001b[38;5;28;01mif\u001b[39;00m matplotlib.is_interactive():\n\u001b[32m--> \u001b[39m\u001b[32m278\u001b[39m         \u001b[43mdraw_all\u001b[49m\u001b[43m(\u001b[49m\u001b[43m)\u001b[49m\n",
      "\u001b[36mFile \u001b[39m\u001b[32m~/Projects/Azimuth/.venv/lib/python3.12/site-packages/matplotlib/_pylab_helpers.py:131\u001b[39m, in \u001b[36mGcf.draw_all\u001b[39m\u001b[34m(cls, force)\u001b[39m\n\u001b[32m    129\u001b[39m \u001b[38;5;28;01mfor\u001b[39;00m manager \u001b[38;5;129;01min\u001b[39;00m \u001b[38;5;28mcls\u001b[39m.get_all_fig_managers():\n\u001b[32m    130\u001b[39m     \u001b[38;5;28;01mif\u001b[39;00m force \u001b[38;5;129;01mor\u001b[39;00m manager.canvas.figure.stale:\n\u001b[32m--> \u001b[39m\u001b[32m131\u001b[39m         \u001b[43mmanager\u001b[49m\u001b[43m.\u001b[49m\u001b[43mcanvas\u001b[49m\u001b[43m.\u001b[49m\u001b[43mdraw_idle\u001b[49m\u001b[43m(\u001b[49m\u001b[43m)\u001b[49m\n",
      "\u001b[36mFile \u001b[39m\u001b[32m~/Projects/Azimuth/.venv/lib/python3.12/site-packages/matplotlib/backend_bases.py:1893\u001b[39m, in \u001b[36mFigureCanvasBase.draw_idle\u001b[39m\u001b[34m(self, *args, **kwargs)\u001b[39m\n\u001b[32m   1891\u001b[39m \u001b[38;5;28;01mif\u001b[39;00m \u001b[38;5;129;01mnot\u001b[39;00m \u001b[38;5;28mself\u001b[39m._is_idle_drawing:\n\u001b[32m   1892\u001b[39m     \u001b[38;5;28;01mwith\u001b[39;00m \u001b[38;5;28mself\u001b[39m._idle_draw_cntx():\n\u001b[32m-> \u001b[39m\u001b[32m1893\u001b[39m         \u001b[38;5;28;43mself\u001b[39;49m\u001b[43m.\u001b[49m\u001b[43mdraw\u001b[49m\u001b[43m(\u001b[49m\u001b[43m*\u001b[49m\u001b[43margs\u001b[49m\u001b[43m,\u001b[49m\u001b[43m \u001b[49m\u001b[43m*\u001b[49m\u001b[43m*\u001b[49m\u001b[43mkwargs\u001b[49m\u001b[43m)\u001b[49m\n",
      "\u001b[36mFile \u001b[39m\u001b[32m~/Projects/Azimuth/.venv/lib/python3.12/site-packages/matplotlib/backends/backend_agg.py:382\u001b[39m, in \u001b[36mFigureCanvasAgg.draw\u001b[39m\u001b[34m(self)\u001b[39m\n\u001b[32m    379\u001b[39m \u001b[38;5;66;03m# Acquire a lock on the shared font cache.\u001b[39;00m\n\u001b[32m    380\u001b[39m \u001b[38;5;28;01mwith\u001b[39;00m (\u001b[38;5;28mself\u001b[39m.toolbar._wait_cursor_for_draw_cm() \u001b[38;5;28;01mif\u001b[39;00m \u001b[38;5;28mself\u001b[39m.toolbar\n\u001b[32m    381\u001b[39m       \u001b[38;5;28;01melse\u001b[39;00m nullcontext()):\n\u001b[32m--> \u001b[39m\u001b[32m382\u001b[39m     \u001b[38;5;28;43mself\u001b[39;49m\u001b[43m.\u001b[49m\u001b[43mfigure\u001b[49m\u001b[43m.\u001b[49m\u001b[43mdraw\u001b[49m\u001b[43m(\u001b[49m\u001b[38;5;28;43mself\u001b[39;49m\u001b[43m.\u001b[49m\u001b[43mrenderer\u001b[49m\u001b[43m)\u001b[49m\n\u001b[32m    383\u001b[39m     \u001b[38;5;66;03m# A GUI class may be need to update a window using this draw, so\u001b[39;00m\n\u001b[32m    384\u001b[39m     \u001b[38;5;66;03m# don't forget to call the superclass.\u001b[39;00m\n\u001b[32m    385\u001b[39m     \u001b[38;5;28msuper\u001b[39m().draw()\n",
      "\u001b[36mFile \u001b[39m\u001b[32m~/Projects/Azimuth/.venv/lib/python3.12/site-packages/matplotlib/artist.py:94\u001b[39m, in \u001b[36m_finalize_rasterization.<locals>.draw_wrapper\u001b[39m\u001b[34m(artist, renderer, *args, **kwargs)\u001b[39m\n\u001b[32m     92\u001b[39m \u001b[38;5;129m@wraps\u001b[39m(draw)\n\u001b[32m     93\u001b[39m \u001b[38;5;28;01mdef\u001b[39;00m\u001b[38;5;250m \u001b[39m\u001b[34mdraw_wrapper\u001b[39m(artist, renderer, *args, **kwargs):\n\u001b[32m---> \u001b[39m\u001b[32m94\u001b[39m     result = \u001b[43mdraw\u001b[49m\u001b[43m(\u001b[49m\u001b[43martist\u001b[49m\u001b[43m,\u001b[49m\u001b[43m \u001b[49m\u001b[43mrenderer\u001b[49m\u001b[43m,\u001b[49m\u001b[43m \u001b[49m\u001b[43m*\u001b[49m\u001b[43margs\u001b[49m\u001b[43m,\u001b[49m\u001b[43m \u001b[49m\u001b[43m*\u001b[49m\u001b[43m*\u001b[49m\u001b[43mkwargs\u001b[49m\u001b[43m)\u001b[49m\n\u001b[32m     95\u001b[39m     \u001b[38;5;28;01mif\u001b[39;00m renderer._rasterizing:\n\u001b[32m     96\u001b[39m         renderer.stop_rasterizing()\n",
      "\u001b[36mFile \u001b[39m\u001b[32m~/Projects/Azimuth/.venv/lib/python3.12/site-packages/matplotlib/artist.py:71\u001b[39m, in \u001b[36mallow_rasterization.<locals>.draw_wrapper\u001b[39m\u001b[34m(artist, renderer)\u001b[39m\n\u001b[32m     68\u001b[39m     \u001b[38;5;28;01mif\u001b[39;00m artist.get_agg_filter() \u001b[38;5;129;01mis\u001b[39;00m \u001b[38;5;129;01mnot\u001b[39;00m \u001b[38;5;28;01mNone\u001b[39;00m:\n\u001b[32m     69\u001b[39m         renderer.start_filter()\n\u001b[32m---> \u001b[39m\u001b[32m71\u001b[39m     \u001b[38;5;28;01mreturn\u001b[39;00m \u001b[43mdraw\u001b[49m\u001b[43m(\u001b[49m\u001b[43martist\u001b[49m\u001b[43m,\u001b[49m\u001b[43m \u001b[49m\u001b[43mrenderer\u001b[49m\u001b[43m)\u001b[49m\n\u001b[32m     72\u001b[39m \u001b[38;5;28;01mfinally\u001b[39;00m:\n\u001b[32m     73\u001b[39m     \u001b[38;5;28;01mif\u001b[39;00m artist.get_agg_filter() \u001b[38;5;129;01mis\u001b[39;00m \u001b[38;5;129;01mnot\u001b[39;00m \u001b[38;5;28;01mNone\u001b[39;00m:\n",
      "\u001b[36mFile \u001b[39m\u001b[32m~/Projects/Azimuth/.venv/lib/python3.12/site-packages/matplotlib/figure.py:3257\u001b[39m, in \u001b[36mFigure.draw\u001b[39m\u001b[34m(self, renderer)\u001b[39m\n\u001b[32m   3254\u001b[39m             \u001b[38;5;66;03m# ValueError can occur when resizing a window.\u001b[39;00m\n\u001b[32m   3256\u001b[39m     \u001b[38;5;28mself\u001b[39m.patch.draw(renderer)\n\u001b[32m-> \u001b[39m\u001b[32m3257\u001b[39m     \u001b[43mmimage\u001b[49m\u001b[43m.\u001b[49m\u001b[43m_draw_list_compositing_images\u001b[49m\u001b[43m(\u001b[49m\n\u001b[32m   3258\u001b[39m \u001b[43m        \u001b[49m\u001b[43mrenderer\u001b[49m\u001b[43m,\u001b[49m\u001b[43m \u001b[49m\u001b[38;5;28;43mself\u001b[39;49m\u001b[43m,\u001b[49m\u001b[43m \u001b[49m\u001b[43martists\u001b[49m\u001b[43m,\u001b[49m\u001b[43m \u001b[49m\u001b[38;5;28;43mself\u001b[39;49m\u001b[43m.\u001b[49m\u001b[43msuppressComposite\u001b[49m\u001b[43m)\u001b[49m\n\u001b[32m   3260\u001b[39m     renderer.close_group(\u001b[33m'\u001b[39m\u001b[33mfigure\u001b[39m\u001b[33m'\u001b[39m)\n\u001b[32m   3261\u001b[39m \u001b[38;5;28;01mfinally\u001b[39;00m:\n",
      "\u001b[36mFile \u001b[39m\u001b[32m~/Projects/Azimuth/.venv/lib/python3.12/site-packages/matplotlib/image.py:134\u001b[39m, in \u001b[36m_draw_list_compositing_images\u001b[39m\u001b[34m(renderer, parent, artists, suppress_composite)\u001b[39m\n\u001b[32m    132\u001b[39m \u001b[38;5;28;01mif\u001b[39;00m not_composite \u001b[38;5;129;01mor\u001b[39;00m \u001b[38;5;129;01mnot\u001b[39;00m has_images:\n\u001b[32m    133\u001b[39m     \u001b[38;5;28;01mfor\u001b[39;00m a \u001b[38;5;129;01min\u001b[39;00m artists:\n\u001b[32m--> \u001b[39m\u001b[32m134\u001b[39m         \u001b[43ma\u001b[49m\u001b[43m.\u001b[49m\u001b[43mdraw\u001b[49m\u001b[43m(\u001b[49m\u001b[43mrenderer\u001b[49m\u001b[43m)\u001b[49m\n\u001b[32m    135\u001b[39m \u001b[38;5;28;01melse\u001b[39;00m:\n\u001b[32m    136\u001b[39m     \u001b[38;5;66;03m# Composite any adjacent images together\u001b[39;00m\n\u001b[32m    137\u001b[39m     image_group = []\n",
      "\u001b[36mFile \u001b[39m\u001b[32m~/Projects/Azimuth/.venv/lib/python3.12/site-packages/matplotlib/artist.py:71\u001b[39m, in \u001b[36mallow_rasterization.<locals>.draw_wrapper\u001b[39m\u001b[34m(artist, renderer)\u001b[39m\n\u001b[32m     68\u001b[39m     \u001b[38;5;28;01mif\u001b[39;00m artist.get_agg_filter() \u001b[38;5;129;01mis\u001b[39;00m \u001b[38;5;129;01mnot\u001b[39;00m \u001b[38;5;28;01mNone\u001b[39;00m:\n\u001b[32m     69\u001b[39m         renderer.start_filter()\n\u001b[32m---> \u001b[39m\u001b[32m71\u001b[39m     \u001b[38;5;28;01mreturn\u001b[39;00m \u001b[43mdraw\u001b[49m\u001b[43m(\u001b[49m\u001b[43martist\u001b[49m\u001b[43m,\u001b[49m\u001b[43m \u001b[49m\u001b[43mrenderer\u001b[49m\u001b[43m)\u001b[49m\n\u001b[32m     72\u001b[39m \u001b[38;5;28;01mfinally\u001b[39;00m:\n\u001b[32m     73\u001b[39m     \u001b[38;5;28;01mif\u001b[39;00m artist.get_agg_filter() \u001b[38;5;129;01mis\u001b[39;00m \u001b[38;5;129;01mnot\u001b[39;00m \u001b[38;5;28;01mNone\u001b[39;00m:\n",
      "\u001b[36mFile \u001b[39m\u001b[32m~/Projects/Azimuth/.venv/lib/python3.12/site-packages/matplotlib/axes/_base.py:3226\u001b[39m, in \u001b[36m_AxesBase.draw\u001b[39m\u001b[34m(self, renderer)\u001b[39m\n\u001b[32m   3223\u001b[39m \u001b[38;5;28;01mif\u001b[39;00m artists_rasterized:\n\u001b[32m   3224\u001b[39m     _draw_rasterized(\u001b[38;5;28mself\u001b[39m.get_figure(root=\u001b[38;5;28;01mTrue\u001b[39;00m), artists_rasterized, renderer)\n\u001b[32m-> \u001b[39m\u001b[32m3226\u001b[39m \u001b[43mmimage\u001b[49m\u001b[43m.\u001b[49m\u001b[43m_draw_list_compositing_images\u001b[49m\u001b[43m(\u001b[49m\n\u001b[32m   3227\u001b[39m \u001b[43m    \u001b[49m\u001b[43mrenderer\u001b[49m\u001b[43m,\u001b[49m\u001b[43m \u001b[49m\u001b[38;5;28;43mself\u001b[39;49m\u001b[43m,\u001b[49m\u001b[43m \u001b[49m\u001b[43martists\u001b[49m\u001b[43m,\u001b[49m\u001b[43m \u001b[49m\u001b[38;5;28;43mself\u001b[39;49m\u001b[43m.\u001b[49m\u001b[43mget_figure\u001b[49m\u001b[43m(\u001b[49m\u001b[43mroot\u001b[49m\u001b[43m=\u001b[49m\u001b[38;5;28;43;01mTrue\u001b[39;49;00m\u001b[43m)\u001b[49m\u001b[43m.\u001b[49m\u001b[43msuppressComposite\u001b[49m\u001b[43m)\u001b[49m\n\u001b[32m   3229\u001b[39m renderer.close_group(\u001b[33m'\u001b[39m\u001b[33maxes\u001b[39m\u001b[33m'\u001b[39m)\n\u001b[32m   3230\u001b[39m \u001b[38;5;28mself\u001b[39m.stale = \u001b[38;5;28;01mFalse\u001b[39;00m\n",
      "\u001b[36mFile \u001b[39m\u001b[32m~/Projects/Azimuth/.venv/lib/python3.12/site-packages/matplotlib/image.py:134\u001b[39m, in \u001b[36m_draw_list_compositing_images\u001b[39m\u001b[34m(renderer, parent, artists, suppress_composite)\u001b[39m\n\u001b[32m    132\u001b[39m \u001b[38;5;28;01mif\u001b[39;00m not_composite \u001b[38;5;129;01mor\u001b[39;00m \u001b[38;5;129;01mnot\u001b[39;00m has_images:\n\u001b[32m    133\u001b[39m     \u001b[38;5;28;01mfor\u001b[39;00m a \u001b[38;5;129;01min\u001b[39;00m artists:\n\u001b[32m--> \u001b[39m\u001b[32m134\u001b[39m         \u001b[43ma\u001b[49m\u001b[43m.\u001b[49m\u001b[43mdraw\u001b[49m\u001b[43m(\u001b[49m\u001b[43mrenderer\u001b[49m\u001b[43m)\u001b[49m\n\u001b[32m    135\u001b[39m \u001b[38;5;28;01melse\u001b[39;00m:\n\u001b[32m    136\u001b[39m     \u001b[38;5;66;03m# Composite any adjacent images together\u001b[39;00m\n\u001b[32m    137\u001b[39m     image_group = []\n",
      "\u001b[36mFile \u001b[39m\u001b[32m~/Projects/Azimuth/.venv/lib/python3.12/site-packages/matplotlib/artist.py:71\u001b[39m, in \u001b[36mallow_rasterization.<locals>.draw_wrapper\u001b[39m\u001b[34m(artist, renderer)\u001b[39m\n\u001b[32m     68\u001b[39m     \u001b[38;5;28;01mif\u001b[39;00m artist.get_agg_filter() \u001b[38;5;129;01mis\u001b[39;00m \u001b[38;5;129;01mnot\u001b[39;00m \u001b[38;5;28;01mNone\u001b[39;00m:\n\u001b[32m     69\u001b[39m         renderer.start_filter()\n\u001b[32m---> \u001b[39m\u001b[32m71\u001b[39m     \u001b[38;5;28;01mreturn\u001b[39;00m \u001b[43mdraw\u001b[49m\u001b[43m(\u001b[49m\u001b[43martist\u001b[49m\u001b[43m,\u001b[49m\u001b[43m \u001b[49m\u001b[43mrenderer\u001b[49m\u001b[43m)\u001b[49m\n\u001b[32m     72\u001b[39m \u001b[38;5;28;01mfinally\u001b[39;00m:\n\u001b[32m     73\u001b[39m     \u001b[38;5;28;01mif\u001b[39;00m artist.get_agg_filter() \u001b[38;5;129;01mis\u001b[39;00m \u001b[38;5;129;01mnot\u001b[39;00m \u001b[38;5;28;01mNone\u001b[39;00m:\n",
      "\u001b[36mFile \u001b[39m\u001b[32m~/Projects/Azimuth/.venv/lib/python3.12/site-packages/matplotlib/collections.py:1008\u001b[39m, in \u001b[36m_CollectionWithSizes.draw\u001b[39m\u001b[34m(self, renderer)\u001b[39m\n\u001b[32m   1005\u001b[39m \u001b[38;5;129m@artist\u001b[39m.allow_rasterization\n\u001b[32m   1006\u001b[39m \u001b[38;5;28;01mdef\u001b[39;00m\u001b[38;5;250m \u001b[39m\u001b[34mdraw\u001b[39m(\u001b[38;5;28mself\u001b[39m, renderer):\n\u001b[32m   1007\u001b[39m     \u001b[38;5;28mself\u001b[39m.set_sizes(\u001b[38;5;28mself\u001b[39m._sizes, \u001b[38;5;28mself\u001b[39m.get_figure(root=\u001b[38;5;28;01mTrue\u001b[39;00m).dpi)\n\u001b[32m-> \u001b[39m\u001b[32m1008\u001b[39m     \u001b[38;5;28;43msuper\u001b[39;49m\u001b[43m(\u001b[49m\u001b[43m)\u001b[49m\u001b[43m.\u001b[49m\u001b[43mdraw\u001b[49m\u001b[43m(\u001b[49m\u001b[43mrenderer\u001b[49m\u001b[43m)\u001b[49m\n",
      "\u001b[36mFile \u001b[39m\u001b[32m~/Projects/Azimuth/.venv/lib/python3.12/site-packages/matplotlib/artist.py:71\u001b[39m, in \u001b[36mallow_rasterization.<locals>.draw_wrapper\u001b[39m\u001b[34m(artist, renderer)\u001b[39m\n\u001b[32m     68\u001b[39m     \u001b[38;5;28;01mif\u001b[39;00m artist.get_agg_filter() \u001b[38;5;129;01mis\u001b[39;00m \u001b[38;5;129;01mnot\u001b[39;00m \u001b[38;5;28;01mNone\u001b[39;00m:\n\u001b[32m     69\u001b[39m         renderer.start_filter()\n\u001b[32m---> \u001b[39m\u001b[32m71\u001b[39m     \u001b[38;5;28;01mreturn\u001b[39;00m \u001b[43mdraw\u001b[49m\u001b[43m(\u001b[49m\u001b[43martist\u001b[49m\u001b[43m,\u001b[49m\u001b[43m \u001b[49m\u001b[43mrenderer\u001b[49m\u001b[43m)\u001b[49m\n\u001b[32m     72\u001b[39m \u001b[38;5;28;01mfinally\u001b[39;00m:\n\u001b[32m     73\u001b[39m     \u001b[38;5;28;01mif\u001b[39;00m artist.get_agg_filter() \u001b[38;5;129;01mis\u001b[39;00m \u001b[38;5;129;01mnot\u001b[39;00m \u001b[38;5;28;01mNone\u001b[39;00m:\n",
      "\u001b[36mFile \u001b[39m\u001b[32m~/Projects/Azimuth/.venv/lib/python3.12/site-packages/matplotlib/collections.py:358\u001b[39m, in \u001b[36mCollection.draw\u001b[39m\u001b[34m(self, renderer)\u001b[39m\n\u001b[32m    355\u001b[39m     \u001b[38;5;28;01mreturn\u001b[39;00m\n\u001b[32m    356\u001b[39m renderer.open_group(\u001b[38;5;28mself\u001b[39m.\u001b[34m__class__\u001b[39m.\u001b[34m__name__\u001b[39m, \u001b[38;5;28mself\u001b[39m.get_gid())\n\u001b[32m--> \u001b[39m\u001b[32m358\u001b[39m \u001b[38;5;28;43mself\u001b[39;49m\u001b[43m.\u001b[49m\u001b[43mupdate_scalarmappable\u001b[49m\u001b[43m(\u001b[49m\u001b[43m)\u001b[49m\n\u001b[32m    360\u001b[39m transform, offset_trf, offsets, paths = \u001b[38;5;28mself\u001b[39m._prepare_points()\n\u001b[32m    362\u001b[39m gc = renderer.new_gc()\n",
      "\u001b[36mFile \u001b[39m\u001b[32m~/Projects/Azimuth/.venv/lib/python3.12/site-packages/matplotlib/collections.py:923\u001b[39m, in \u001b[36mCollection.update_scalarmappable\u001b[39m\u001b[34m(self)\u001b[39m\n\u001b[32m    921\u001b[39m         \u001b[38;5;66;03m# pcolormesh, scatter, maybe others flatten their _A\u001b[39;00m\n\u001b[32m    922\u001b[39m         \u001b[38;5;28mself\u001b[39m._alpha = \u001b[38;5;28mself\u001b[39m._alpha.reshape(\u001b[38;5;28mself\u001b[39m._A.shape)\n\u001b[32m--> \u001b[39m\u001b[32m923\u001b[39m     \u001b[38;5;28mself\u001b[39m._mapped_colors = \u001b[38;5;28;43mself\u001b[39;49m\u001b[43m.\u001b[49m\u001b[43mto_rgba\u001b[49m\u001b[43m(\u001b[49m\u001b[38;5;28;43mself\u001b[39;49m\u001b[43m.\u001b[49m\u001b[43m_A\u001b[49m\u001b[43m,\u001b[49m\u001b[43m \u001b[49m\u001b[38;5;28;43mself\u001b[39;49m\u001b[43m.\u001b[49m\u001b[43m_alpha\u001b[49m\u001b[43m)\u001b[49m\n\u001b[32m    925\u001b[39m \u001b[38;5;28;01mif\u001b[39;00m \u001b[38;5;28mself\u001b[39m._face_is_mapped:\n\u001b[32m    926\u001b[39m     \u001b[38;5;28mself\u001b[39m._facecolors = \u001b[38;5;28mself\u001b[39m._mapped_colors\n",
      "\u001b[36mFile \u001b[39m\u001b[32m~/Projects/Azimuth/.venv/lib/python3.12/site-packages/matplotlib/colorizer.py:367\u001b[39m, in \u001b[36m_ColorizerInterface.to_rgba\u001b[39m\u001b[34m(self, x, alpha, bytes, norm)\u001b[39m\n\u001b[32m    337\u001b[39m \u001b[38;5;28;01mdef\u001b[39;00m\u001b[38;5;250m \u001b[39m\u001b[34mto_rgba\u001b[39m(\u001b[38;5;28mself\u001b[39m, x, alpha=\u001b[38;5;28;01mNone\u001b[39;00m, \u001b[38;5;28mbytes\u001b[39m=\u001b[38;5;28;01mFalse\u001b[39;00m, norm=\u001b[38;5;28;01mTrue\u001b[39;00m):\n\u001b[32m    338\u001b[39m \u001b[38;5;250m    \u001b[39m\u001b[33;03m\"\"\"\u001b[39;00m\n\u001b[32m    339\u001b[39m \u001b[33;03m    Return a normalized RGBA array corresponding to *x*.\u001b[39;00m\n\u001b[32m    340\u001b[39m \n\u001b[32m   (...)\u001b[39m\u001b[32m    365\u001b[39m \n\u001b[32m    366\u001b[39m \u001b[33;03m    \"\"\"\u001b[39;00m\n\u001b[32m--> \u001b[39m\u001b[32m367\u001b[39m     \u001b[38;5;28;01mreturn\u001b[39;00m \u001b[38;5;28;43mself\u001b[39;49m\u001b[43m.\u001b[49m\u001b[43m_colorizer\u001b[49m\u001b[43m.\u001b[49m\u001b[43mto_rgba\u001b[49m\u001b[43m(\u001b[49m\u001b[43mx\u001b[49m\u001b[43m,\u001b[49m\u001b[43m \u001b[49m\u001b[43malpha\u001b[49m\u001b[43m=\u001b[49m\u001b[43malpha\u001b[49m\u001b[43m,\u001b[49m\u001b[43m \u001b[49m\u001b[38;5;28;43mbytes\u001b[39;49m\u001b[43m=\u001b[49m\u001b[38;5;28;43mbytes\u001b[39;49m\u001b[43m,\u001b[49m\u001b[43m \u001b[49m\u001b[43mnorm\u001b[49m\u001b[43m=\u001b[49m\u001b[43mnorm\u001b[49m\u001b[43m)\u001b[49m\n",
      "\u001b[36mFile \u001b[39m\u001b[32m~/Projects/Azimuth/.venv/lib/python3.12/site-packages/matplotlib/colorizer.py:157\u001b[39m, in \u001b[36mColorizer.to_rgba\u001b[39m\u001b[34m(self, x, alpha, bytes, norm)\u001b[39m\n\u001b[32m    155\u001b[39m x = ma.asarray(x)\n\u001b[32m    156\u001b[39m \u001b[38;5;28;01mif\u001b[39;00m norm:\n\u001b[32m--> \u001b[39m\u001b[32m157\u001b[39m     x = \u001b[38;5;28;43mself\u001b[39;49m\u001b[43m.\u001b[49m\u001b[43mnorm\u001b[49m\u001b[43m(\u001b[49m\u001b[43mx\u001b[49m\u001b[43m)\u001b[49m\n\u001b[32m    158\u001b[39m rgba = \u001b[38;5;28mself\u001b[39m.cmap(x, alpha=alpha, \u001b[38;5;28mbytes\u001b[39m=\u001b[38;5;28mbytes\u001b[39m)\n\u001b[32m    159\u001b[39m \u001b[38;5;28;01mreturn\u001b[39;00m rgba\n",
      "\u001b[36mFile \u001b[39m\u001b[32m~/Projects/Azimuth/.venv/lib/python3.12/site-packages/matplotlib/colors.py:2679\u001b[39m, in \u001b[36m_make_norm_from_scale.<locals>.Norm.__call__\u001b[39m\u001b[34m(self, value, clip)\u001b[39m\n\u001b[32m   2677\u001b[39m t_vmin, t_vmax = \u001b[38;5;28mself\u001b[39m._trf.transform([\u001b[38;5;28mself\u001b[39m.vmin, \u001b[38;5;28mself\u001b[39m.vmax])\n\u001b[32m   2678\u001b[39m \u001b[38;5;28;01mif\u001b[39;00m \u001b[38;5;129;01mnot\u001b[39;00m np.isfinite([t_vmin, t_vmax]).all():\n\u001b[32m-> \u001b[39m\u001b[32m2679\u001b[39m     \u001b[38;5;28;01mraise\u001b[39;00m \u001b[38;5;167;01mValueError\u001b[39;00m(\u001b[33m\"\u001b[39m\u001b[33mInvalid vmin or vmax\u001b[39m\u001b[33m\"\u001b[39m)\n\u001b[32m   2680\u001b[39m t_value -= t_vmin\n\u001b[32m   2681\u001b[39m t_value /= (t_vmax - t_vmin)\n",
      "\u001b[31mValueError\u001b[39m: Invalid vmin or vmax"
     ]
    },
    {
     "ename": "ValueError",
     "evalue": "Invalid vmin or vmax",
     "output_type": "error",
     "traceback": [
      "\u001b[31m---------------------------------------------------------------------------\u001b[39m",
      "\u001b[31mValueError\u001b[39m                                Traceback (most recent call last)",
      "\u001b[36mFile \u001b[39m\u001b[32m~/Projects/Azimuth/.venv/lib/python3.12/site-packages/IPython/core/formatters.py:402\u001b[39m, in \u001b[36mBaseFormatter.__call__\u001b[39m\u001b[34m(self, obj)\u001b[39m\n\u001b[32m    400\u001b[39m     \u001b[38;5;28;01mpass\u001b[39;00m\n\u001b[32m    401\u001b[39m \u001b[38;5;28;01melse\u001b[39;00m:\n\u001b[32m--> \u001b[39m\u001b[32m402\u001b[39m     \u001b[38;5;28;01mreturn\u001b[39;00m \u001b[43mprinter\u001b[49m\u001b[43m(\u001b[49m\u001b[43mobj\u001b[49m\u001b[43m)\u001b[49m\n\u001b[32m    403\u001b[39m \u001b[38;5;66;03m# Finally look for special method names\u001b[39;00m\n\u001b[32m    404\u001b[39m method = get_real_method(obj, \u001b[38;5;28mself\u001b[39m.print_method)\n",
      "\u001b[36mFile \u001b[39m\u001b[32m~/Projects/Azimuth/.venv/lib/python3.12/site-packages/IPython/core/pylabtools.py:170\u001b[39m, in \u001b[36mprint_figure\u001b[39m\u001b[34m(fig, fmt, bbox_inches, base64, **kwargs)\u001b[39m\n\u001b[32m    167\u001b[39m     \u001b[38;5;28;01mfrom\u001b[39;00m\u001b[38;5;250m \u001b[39m\u001b[34;01mmatplotlib\u001b[39;00m\u001b[34;01m.\u001b[39;00m\u001b[34;01mbackend_bases\u001b[39;00m\u001b[38;5;250m \u001b[39m\u001b[38;5;28;01mimport\u001b[39;00m FigureCanvasBase\n\u001b[32m    168\u001b[39m     FigureCanvasBase(fig)\n\u001b[32m--> \u001b[39m\u001b[32m170\u001b[39m \u001b[43mfig\u001b[49m\u001b[43m.\u001b[49m\u001b[43mcanvas\u001b[49m\u001b[43m.\u001b[49m\u001b[43mprint_figure\u001b[49m\u001b[43m(\u001b[49m\u001b[43mbytes_io\u001b[49m\u001b[43m,\u001b[49m\u001b[43m \u001b[49m\u001b[43m*\u001b[49m\u001b[43m*\u001b[49m\u001b[43mkw\u001b[49m\u001b[43m)\u001b[49m\n\u001b[32m    171\u001b[39m data = bytes_io.getvalue()\n\u001b[32m    172\u001b[39m \u001b[38;5;28;01mif\u001b[39;00m fmt == \u001b[33m'\u001b[39m\u001b[33msvg\u001b[39m\u001b[33m'\u001b[39m:\n",
      "\u001b[36mFile \u001b[39m\u001b[32m~/Projects/Azimuth/.venv/lib/python3.12/site-packages/matplotlib/backend_bases.py:2157\u001b[39m, in \u001b[36mFigureCanvasBase.print_figure\u001b[39m\u001b[34m(self, filename, dpi, facecolor, edgecolor, orientation, format, bbox_inches, pad_inches, bbox_extra_artists, backend, **kwargs)\u001b[39m\n\u001b[32m   2154\u001b[39m     \u001b[38;5;66;03m# we do this instead of `self.figure.draw_without_rendering`\u001b[39;00m\n\u001b[32m   2155\u001b[39m     \u001b[38;5;66;03m# so that we can inject the orientation\u001b[39;00m\n\u001b[32m   2156\u001b[39m     \u001b[38;5;28;01mwith\u001b[39;00m \u001b[38;5;28mgetattr\u001b[39m(renderer, \u001b[33m\"\u001b[39m\u001b[33m_draw_disabled\u001b[39m\u001b[33m\"\u001b[39m, nullcontext)():\n\u001b[32m-> \u001b[39m\u001b[32m2157\u001b[39m         \u001b[38;5;28;43mself\u001b[39;49m\u001b[43m.\u001b[49m\u001b[43mfigure\u001b[49m\u001b[43m.\u001b[49m\u001b[43mdraw\u001b[49m\u001b[43m(\u001b[49m\u001b[43mrenderer\u001b[49m\u001b[43m)\u001b[49m\n\u001b[32m   2158\u001b[39m \u001b[38;5;28;01mif\u001b[39;00m bbox_inches:\n\u001b[32m   2159\u001b[39m     \u001b[38;5;28;01mif\u001b[39;00m bbox_inches == \u001b[33m\"\u001b[39m\u001b[33mtight\u001b[39m\u001b[33m\"\u001b[39m:\n",
      "\u001b[36mFile \u001b[39m\u001b[32m~/Projects/Azimuth/.venv/lib/python3.12/site-packages/matplotlib/artist.py:94\u001b[39m, in \u001b[36m_finalize_rasterization.<locals>.draw_wrapper\u001b[39m\u001b[34m(artist, renderer, *args, **kwargs)\u001b[39m\n\u001b[32m     92\u001b[39m \u001b[38;5;129m@wraps\u001b[39m(draw)\n\u001b[32m     93\u001b[39m \u001b[38;5;28;01mdef\u001b[39;00m\u001b[38;5;250m \u001b[39m\u001b[34mdraw_wrapper\u001b[39m(artist, renderer, *args, **kwargs):\n\u001b[32m---> \u001b[39m\u001b[32m94\u001b[39m     result = \u001b[43mdraw\u001b[49m\u001b[43m(\u001b[49m\u001b[43martist\u001b[49m\u001b[43m,\u001b[49m\u001b[43m \u001b[49m\u001b[43mrenderer\u001b[49m\u001b[43m,\u001b[49m\u001b[43m \u001b[49m\u001b[43m*\u001b[49m\u001b[43margs\u001b[49m\u001b[43m,\u001b[49m\u001b[43m \u001b[49m\u001b[43m*\u001b[49m\u001b[43m*\u001b[49m\u001b[43mkwargs\u001b[49m\u001b[43m)\u001b[49m\n\u001b[32m     95\u001b[39m     \u001b[38;5;28;01mif\u001b[39;00m renderer._rasterizing:\n\u001b[32m     96\u001b[39m         renderer.stop_rasterizing()\n",
      "\u001b[36mFile \u001b[39m\u001b[32m~/Projects/Azimuth/.venv/lib/python3.12/site-packages/matplotlib/artist.py:71\u001b[39m, in \u001b[36mallow_rasterization.<locals>.draw_wrapper\u001b[39m\u001b[34m(artist, renderer)\u001b[39m\n\u001b[32m     68\u001b[39m     \u001b[38;5;28;01mif\u001b[39;00m artist.get_agg_filter() \u001b[38;5;129;01mis\u001b[39;00m \u001b[38;5;129;01mnot\u001b[39;00m \u001b[38;5;28;01mNone\u001b[39;00m:\n\u001b[32m     69\u001b[39m         renderer.start_filter()\n\u001b[32m---> \u001b[39m\u001b[32m71\u001b[39m     \u001b[38;5;28;01mreturn\u001b[39;00m \u001b[43mdraw\u001b[49m\u001b[43m(\u001b[49m\u001b[43martist\u001b[49m\u001b[43m,\u001b[49m\u001b[43m \u001b[49m\u001b[43mrenderer\u001b[49m\u001b[43m)\u001b[49m\n\u001b[32m     72\u001b[39m \u001b[38;5;28;01mfinally\u001b[39;00m:\n\u001b[32m     73\u001b[39m     \u001b[38;5;28;01mif\u001b[39;00m artist.get_agg_filter() \u001b[38;5;129;01mis\u001b[39;00m \u001b[38;5;129;01mnot\u001b[39;00m \u001b[38;5;28;01mNone\u001b[39;00m:\n",
      "\u001b[36mFile \u001b[39m\u001b[32m~/Projects/Azimuth/.venv/lib/python3.12/site-packages/matplotlib/figure.py:3257\u001b[39m, in \u001b[36mFigure.draw\u001b[39m\u001b[34m(self, renderer)\u001b[39m\n\u001b[32m   3254\u001b[39m             \u001b[38;5;66;03m# ValueError can occur when resizing a window.\u001b[39;00m\n\u001b[32m   3256\u001b[39m     \u001b[38;5;28mself\u001b[39m.patch.draw(renderer)\n\u001b[32m-> \u001b[39m\u001b[32m3257\u001b[39m     \u001b[43mmimage\u001b[49m\u001b[43m.\u001b[49m\u001b[43m_draw_list_compositing_images\u001b[49m\u001b[43m(\u001b[49m\n\u001b[32m   3258\u001b[39m \u001b[43m        \u001b[49m\u001b[43mrenderer\u001b[49m\u001b[43m,\u001b[49m\u001b[43m \u001b[49m\u001b[38;5;28;43mself\u001b[39;49m\u001b[43m,\u001b[49m\u001b[43m \u001b[49m\u001b[43martists\u001b[49m\u001b[43m,\u001b[49m\u001b[43m \u001b[49m\u001b[38;5;28;43mself\u001b[39;49m\u001b[43m.\u001b[49m\u001b[43msuppressComposite\u001b[49m\u001b[43m)\u001b[49m\n\u001b[32m   3260\u001b[39m     renderer.close_group(\u001b[33m'\u001b[39m\u001b[33mfigure\u001b[39m\u001b[33m'\u001b[39m)\n\u001b[32m   3261\u001b[39m \u001b[38;5;28;01mfinally\u001b[39;00m:\n",
      "\u001b[36mFile \u001b[39m\u001b[32m~/Projects/Azimuth/.venv/lib/python3.12/site-packages/matplotlib/image.py:134\u001b[39m, in \u001b[36m_draw_list_compositing_images\u001b[39m\u001b[34m(renderer, parent, artists, suppress_composite)\u001b[39m\n\u001b[32m    132\u001b[39m \u001b[38;5;28;01mif\u001b[39;00m not_composite \u001b[38;5;129;01mor\u001b[39;00m \u001b[38;5;129;01mnot\u001b[39;00m has_images:\n\u001b[32m    133\u001b[39m     \u001b[38;5;28;01mfor\u001b[39;00m a \u001b[38;5;129;01min\u001b[39;00m artists:\n\u001b[32m--> \u001b[39m\u001b[32m134\u001b[39m         \u001b[43ma\u001b[49m\u001b[43m.\u001b[49m\u001b[43mdraw\u001b[49m\u001b[43m(\u001b[49m\u001b[43mrenderer\u001b[49m\u001b[43m)\u001b[49m\n\u001b[32m    135\u001b[39m \u001b[38;5;28;01melse\u001b[39;00m:\n\u001b[32m    136\u001b[39m     \u001b[38;5;66;03m# Composite any adjacent images together\u001b[39;00m\n\u001b[32m    137\u001b[39m     image_group = []\n",
      "\u001b[36mFile \u001b[39m\u001b[32m~/Projects/Azimuth/.venv/lib/python3.12/site-packages/matplotlib/artist.py:71\u001b[39m, in \u001b[36mallow_rasterization.<locals>.draw_wrapper\u001b[39m\u001b[34m(artist, renderer)\u001b[39m\n\u001b[32m     68\u001b[39m     \u001b[38;5;28;01mif\u001b[39;00m artist.get_agg_filter() \u001b[38;5;129;01mis\u001b[39;00m \u001b[38;5;129;01mnot\u001b[39;00m \u001b[38;5;28;01mNone\u001b[39;00m:\n\u001b[32m     69\u001b[39m         renderer.start_filter()\n\u001b[32m---> \u001b[39m\u001b[32m71\u001b[39m     \u001b[38;5;28;01mreturn\u001b[39;00m \u001b[43mdraw\u001b[49m\u001b[43m(\u001b[49m\u001b[43martist\u001b[49m\u001b[43m,\u001b[49m\u001b[43m \u001b[49m\u001b[43mrenderer\u001b[49m\u001b[43m)\u001b[49m\n\u001b[32m     72\u001b[39m \u001b[38;5;28;01mfinally\u001b[39;00m:\n\u001b[32m     73\u001b[39m     \u001b[38;5;28;01mif\u001b[39;00m artist.get_agg_filter() \u001b[38;5;129;01mis\u001b[39;00m \u001b[38;5;129;01mnot\u001b[39;00m \u001b[38;5;28;01mNone\u001b[39;00m:\n",
      "\u001b[36mFile \u001b[39m\u001b[32m~/Projects/Azimuth/.venv/lib/python3.12/site-packages/matplotlib/axes/_base.py:3226\u001b[39m, in \u001b[36m_AxesBase.draw\u001b[39m\u001b[34m(self, renderer)\u001b[39m\n\u001b[32m   3223\u001b[39m \u001b[38;5;28;01mif\u001b[39;00m artists_rasterized:\n\u001b[32m   3224\u001b[39m     _draw_rasterized(\u001b[38;5;28mself\u001b[39m.get_figure(root=\u001b[38;5;28;01mTrue\u001b[39;00m), artists_rasterized, renderer)\n\u001b[32m-> \u001b[39m\u001b[32m3226\u001b[39m \u001b[43mmimage\u001b[49m\u001b[43m.\u001b[49m\u001b[43m_draw_list_compositing_images\u001b[49m\u001b[43m(\u001b[49m\n\u001b[32m   3227\u001b[39m \u001b[43m    \u001b[49m\u001b[43mrenderer\u001b[49m\u001b[43m,\u001b[49m\u001b[43m \u001b[49m\u001b[38;5;28;43mself\u001b[39;49m\u001b[43m,\u001b[49m\u001b[43m \u001b[49m\u001b[43martists\u001b[49m\u001b[43m,\u001b[49m\u001b[43m \u001b[49m\u001b[38;5;28;43mself\u001b[39;49m\u001b[43m.\u001b[49m\u001b[43mget_figure\u001b[49m\u001b[43m(\u001b[49m\u001b[43mroot\u001b[49m\u001b[43m=\u001b[49m\u001b[38;5;28;43;01mTrue\u001b[39;49;00m\u001b[43m)\u001b[49m\u001b[43m.\u001b[49m\u001b[43msuppressComposite\u001b[49m\u001b[43m)\u001b[49m\n\u001b[32m   3229\u001b[39m renderer.close_group(\u001b[33m'\u001b[39m\u001b[33maxes\u001b[39m\u001b[33m'\u001b[39m)\n\u001b[32m   3230\u001b[39m \u001b[38;5;28mself\u001b[39m.stale = \u001b[38;5;28;01mFalse\u001b[39;00m\n",
      "\u001b[36mFile \u001b[39m\u001b[32m~/Projects/Azimuth/.venv/lib/python3.12/site-packages/matplotlib/image.py:134\u001b[39m, in \u001b[36m_draw_list_compositing_images\u001b[39m\u001b[34m(renderer, parent, artists, suppress_composite)\u001b[39m\n\u001b[32m    132\u001b[39m \u001b[38;5;28;01mif\u001b[39;00m not_composite \u001b[38;5;129;01mor\u001b[39;00m \u001b[38;5;129;01mnot\u001b[39;00m has_images:\n\u001b[32m    133\u001b[39m     \u001b[38;5;28;01mfor\u001b[39;00m a \u001b[38;5;129;01min\u001b[39;00m artists:\n\u001b[32m--> \u001b[39m\u001b[32m134\u001b[39m         \u001b[43ma\u001b[49m\u001b[43m.\u001b[49m\u001b[43mdraw\u001b[49m\u001b[43m(\u001b[49m\u001b[43mrenderer\u001b[49m\u001b[43m)\u001b[49m\n\u001b[32m    135\u001b[39m \u001b[38;5;28;01melse\u001b[39;00m:\n\u001b[32m    136\u001b[39m     \u001b[38;5;66;03m# Composite any adjacent images together\u001b[39;00m\n\u001b[32m    137\u001b[39m     image_group = []\n",
      "\u001b[36mFile \u001b[39m\u001b[32m~/Projects/Azimuth/.venv/lib/python3.12/site-packages/matplotlib/artist.py:71\u001b[39m, in \u001b[36mallow_rasterization.<locals>.draw_wrapper\u001b[39m\u001b[34m(artist, renderer)\u001b[39m\n\u001b[32m     68\u001b[39m     \u001b[38;5;28;01mif\u001b[39;00m artist.get_agg_filter() \u001b[38;5;129;01mis\u001b[39;00m \u001b[38;5;129;01mnot\u001b[39;00m \u001b[38;5;28;01mNone\u001b[39;00m:\n\u001b[32m     69\u001b[39m         renderer.start_filter()\n\u001b[32m---> \u001b[39m\u001b[32m71\u001b[39m     \u001b[38;5;28;01mreturn\u001b[39;00m \u001b[43mdraw\u001b[49m\u001b[43m(\u001b[49m\u001b[43martist\u001b[49m\u001b[43m,\u001b[49m\u001b[43m \u001b[49m\u001b[43mrenderer\u001b[49m\u001b[43m)\u001b[49m\n\u001b[32m     72\u001b[39m \u001b[38;5;28;01mfinally\u001b[39;00m:\n\u001b[32m     73\u001b[39m     \u001b[38;5;28;01mif\u001b[39;00m artist.get_agg_filter() \u001b[38;5;129;01mis\u001b[39;00m \u001b[38;5;129;01mnot\u001b[39;00m \u001b[38;5;28;01mNone\u001b[39;00m:\n",
      "\u001b[36mFile \u001b[39m\u001b[32m~/Projects/Azimuth/.venv/lib/python3.12/site-packages/matplotlib/collections.py:1008\u001b[39m, in \u001b[36m_CollectionWithSizes.draw\u001b[39m\u001b[34m(self, renderer)\u001b[39m\n\u001b[32m   1005\u001b[39m \u001b[38;5;129m@artist\u001b[39m.allow_rasterization\n\u001b[32m   1006\u001b[39m \u001b[38;5;28;01mdef\u001b[39;00m\u001b[38;5;250m \u001b[39m\u001b[34mdraw\u001b[39m(\u001b[38;5;28mself\u001b[39m, renderer):\n\u001b[32m   1007\u001b[39m     \u001b[38;5;28mself\u001b[39m.set_sizes(\u001b[38;5;28mself\u001b[39m._sizes, \u001b[38;5;28mself\u001b[39m.get_figure(root=\u001b[38;5;28;01mTrue\u001b[39;00m).dpi)\n\u001b[32m-> \u001b[39m\u001b[32m1008\u001b[39m     \u001b[38;5;28;43msuper\u001b[39;49m\u001b[43m(\u001b[49m\u001b[43m)\u001b[49m\u001b[43m.\u001b[49m\u001b[43mdraw\u001b[49m\u001b[43m(\u001b[49m\u001b[43mrenderer\u001b[49m\u001b[43m)\u001b[49m\n",
      "\u001b[36mFile \u001b[39m\u001b[32m~/Projects/Azimuth/.venv/lib/python3.12/site-packages/matplotlib/artist.py:71\u001b[39m, in \u001b[36mallow_rasterization.<locals>.draw_wrapper\u001b[39m\u001b[34m(artist, renderer)\u001b[39m\n\u001b[32m     68\u001b[39m     \u001b[38;5;28;01mif\u001b[39;00m artist.get_agg_filter() \u001b[38;5;129;01mis\u001b[39;00m \u001b[38;5;129;01mnot\u001b[39;00m \u001b[38;5;28;01mNone\u001b[39;00m:\n\u001b[32m     69\u001b[39m         renderer.start_filter()\n\u001b[32m---> \u001b[39m\u001b[32m71\u001b[39m     \u001b[38;5;28;01mreturn\u001b[39;00m \u001b[43mdraw\u001b[49m\u001b[43m(\u001b[49m\u001b[43martist\u001b[49m\u001b[43m,\u001b[49m\u001b[43m \u001b[49m\u001b[43mrenderer\u001b[49m\u001b[43m)\u001b[49m\n\u001b[32m     72\u001b[39m \u001b[38;5;28;01mfinally\u001b[39;00m:\n\u001b[32m     73\u001b[39m     \u001b[38;5;28;01mif\u001b[39;00m artist.get_agg_filter() \u001b[38;5;129;01mis\u001b[39;00m \u001b[38;5;129;01mnot\u001b[39;00m \u001b[38;5;28;01mNone\u001b[39;00m:\n",
      "\u001b[36mFile \u001b[39m\u001b[32m~/Projects/Azimuth/.venv/lib/python3.12/site-packages/matplotlib/collections.py:358\u001b[39m, in \u001b[36mCollection.draw\u001b[39m\u001b[34m(self, renderer)\u001b[39m\n\u001b[32m    355\u001b[39m     \u001b[38;5;28;01mreturn\u001b[39;00m\n\u001b[32m    356\u001b[39m renderer.open_group(\u001b[38;5;28mself\u001b[39m.\u001b[34m__class__\u001b[39m.\u001b[34m__name__\u001b[39m, \u001b[38;5;28mself\u001b[39m.get_gid())\n\u001b[32m--> \u001b[39m\u001b[32m358\u001b[39m \u001b[38;5;28;43mself\u001b[39;49m\u001b[43m.\u001b[49m\u001b[43mupdate_scalarmappable\u001b[49m\u001b[43m(\u001b[49m\u001b[43m)\u001b[49m\n\u001b[32m    360\u001b[39m transform, offset_trf, offsets, paths = \u001b[38;5;28mself\u001b[39m._prepare_points()\n\u001b[32m    362\u001b[39m gc = renderer.new_gc()\n",
      "\u001b[36mFile \u001b[39m\u001b[32m~/Projects/Azimuth/.venv/lib/python3.12/site-packages/matplotlib/collections.py:923\u001b[39m, in \u001b[36mCollection.update_scalarmappable\u001b[39m\u001b[34m(self)\u001b[39m\n\u001b[32m    921\u001b[39m         \u001b[38;5;66;03m# pcolormesh, scatter, maybe others flatten their _A\u001b[39;00m\n\u001b[32m    922\u001b[39m         \u001b[38;5;28mself\u001b[39m._alpha = \u001b[38;5;28mself\u001b[39m._alpha.reshape(\u001b[38;5;28mself\u001b[39m._A.shape)\n\u001b[32m--> \u001b[39m\u001b[32m923\u001b[39m     \u001b[38;5;28mself\u001b[39m._mapped_colors = \u001b[38;5;28;43mself\u001b[39;49m\u001b[43m.\u001b[49m\u001b[43mto_rgba\u001b[49m\u001b[43m(\u001b[49m\u001b[38;5;28;43mself\u001b[39;49m\u001b[43m.\u001b[49m\u001b[43m_A\u001b[49m\u001b[43m,\u001b[49m\u001b[43m \u001b[49m\u001b[38;5;28;43mself\u001b[39;49m\u001b[43m.\u001b[49m\u001b[43m_alpha\u001b[49m\u001b[43m)\u001b[49m\n\u001b[32m    925\u001b[39m \u001b[38;5;28;01mif\u001b[39;00m \u001b[38;5;28mself\u001b[39m._face_is_mapped:\n\u001b[32m    926\u001b[39m     \u001b[38;5;28mself\u001b[39m._facecolors = \u001b[38;5;28mself\u001b[39m._mapped_colors\n",
      "\u001b[36mFile \u001b[39m\u001b[32m~/Projects/Azimuth/.venv/lib/python3.12/site-packages/matplotlib/colorizer.py:367\u001b[39m, in \u001b[36m_ColorizerInterface.to_rgba\u001b[39m\u001b[34m(self, x, alpha, bytes, norm)\u001b[39m\n\u001b[32m    337\u001b[39m \u001b[38;5;28;01mdef\u001b[39;00m\u001b[38;5;250m \u001b[39m\u001b[34mto_rgba\u001b[39m(\u001b[38;5;28mself\u001b[39m, x, alpha=\u001b[38;5;28;01mNone\u001b[39;00m, \u001b[38;5;28mbytes\u001b[39m=\u001b[38;5;28;01mFalse\u001b[39;00m, norm=\u001b[38;5;28;01mTrue\u001b[39;00m):\n\u001b[32m    338\u001b[39m \u001b[38;5;250m    \u001b[39m\u001b[33;03m\"\"\"\u001b[39;00m\n\u001b[32m    339\u001b[39m \u001b[33;03m    Return a normalized RGBA array corresponding to *x*.\u001b[39;00m\n\u001b[32m    340\u001b[39m \n\u001b[32m   (...)\u001b[39m\u001b[32m    365\u001b[39m \n\u001b[32m    366\u001b[39m \u001b[33;03m    \"\"\"\u001b[39;00m\n\u001b[32m--> \u001b[39m\u001b[32m367\u001b[39m     \u001b[38;5;28;01mreturn\u001b[39;00m \u001b[38;5;28;43mself\u001b[39;49m\u001b[43m.\u001b[49m\u001b[43m_colorizer\u001b[49m\u001b[43m.\u001b[49m\u001b[43mto_rgba\u001b[49m\u001b[43m(\u001b[49m\u001b[43mx\u001b[49m\u001b[43m,\u001b[49m\u001b[43m \u001b[49m\u001b[43malpha\u001b[49m\u001b[43m=\u001b[49m\u001b[43malpha\u001b[49m\u001b[43m,\u001b[49m\u001b[43m \u001b[49m\u001b[38;5;28;43mbytes\u001b[39;49m\u001b[43m=\u001b[49m\u001b[38;5;28;43mbytes\u001b[39;49m\u001b[43m,\u001b[49m\u001b[43m \u001b[49m\u001b[43mnorm\u001b[49m\u001b[43m=\u001b[49m\u001b[43mnorm\u001b[49m\u001b[43m)\u001b[49m\n",
      "\u001b[36mFile \u001b[39m\u001b[32m~/Projects/Azimuth/.venv/lib/python3.12/site-packages/matplotlib/colorizer.py:157\u001b[39m, in \u001b[36mColorizer.to_rgba\u001b[39m\u001b[34m(self, x, alpha, bytes, norm)\u001b[39m\n\u001b[32m    155\u001b[39m x = ma.asarray(x)\n\u001b[32m    156\u001b[39m \u001b[38;5;28;01mif\u001b[39;00m norm:\n\u001b[32m--> \u001b[39m\u001b[32m157\u001b[39m     x = \u001b[38;5;28;43mself\u001b[39;49m\u001b[43m.\u001b[49m\u001b[43mnorm\u001b[49m\u001b[43m(\u001b[49m\u001b[43mx\u001b[49m\u001b[43m)\u001b[49m\n\u001b[32m    158\u001b[39m rgba = \u001b[38;5;28mself\u001b[39m.cmap(x, alpha=alpha, \u001b[38;5;28mbytes\u001b[39m=\u001b[38;5;28mbytes\u001b[39m)\n\u001b[32m    159\u001b[39m \u001b[38;5;28;01mreturn\u001b[39;00m rgba\n",
      "\u001b[36mFile \u001b[39m\u001b[32m~/Projects/Azimuth/.venv/lib/python3.12/site-packages/matplotlib/colors.py:2679\u001b[39m, in \u001b[36m_make_norm_from_scale.<locals>.Norm.__call__\u001b[39m\u001b[34m(self, value, clip)\u001b[39m\n\u001b[32m   2677\u001b[39m t_vmin, t_vmax = \u001b[38;5;28mself\u001b[39m._trf.transform([\u001b[38;5;28mself\u001b[39m.vmin, \u001b[38;5;28mself\u001b[39m.vmax])\n\u001b[32m   2678\u001b[39m \u001b[38;5;28;01mif\u001b[39;00m \u001b[38;5;129;01mnot\u001b[39;00m np.isfinite([t_vmin, t_vmax]).all():\n\u001b[32m-> \u001b[39m\u001b[32m2679\u001b[39m     \u001b[38;5;28;01mraise\u001b[39;00m \u001b[38;5;167;01mValueError\u001b[39;00m(\u001b[33m\"\u001b[39m\u001b[33mInvalid vmin or vmax\u001b[39m\u001b[33m\"\u001b[39m)\n\u001b[32m   2680\u001b[39m t_value -= t_vmin\n\u001b[32m   2681\u001b[39m t_value /= (t_vmax - t_vmin)\n",
      "\u001b[31mValueError\u001b[39m: Invalid vmin or vmax"
     ]
    },
    {
     "data": {
      "text/plain": [
       "<Figure size 1200x600 with 2 Axes>"
      ]
     },
     "metadata": {},
     "output_type": "display_data"
    }
   ],
   "source": [
    "# We need causal norms first - load them if not already computed\n",
    "# This cell assumes causal_norms is available from later cells\n",
    "# For now, we'll compute them here to keep the flow logical\n",
    "\n",
    "print(f\"\\nLoading model and computing causal norms...\")\n",
    "\n",
    "model = AutoModelForCausalLM.from_pretrained(\n",
    "    MODEL_NAME,\n",
    "    torch_dtype=torch.float32,\n",
    "    device_map=DEVICE,\n",
    ")\n",
    "\n",
    "gamma = model.lm_head.weight.data\n",
    "del model\n",
    "\n",
    "metric_data = torch.load(METRIC_TENSOR_PATH, weights_only=False)\n",
    "M = metric_data['M']\n",
    "\n",
    "sampled_embeddings = gamma[token_indices]\n",
    "M_gamma = sampled_embeddings @ M.to(DEVICE)\n",
    "causal_norms = torch.sqrt((sampled_embeddings * M_gamma).sum(dim=-1)).numpy()\n",
    "\n",
    "print(f\"✓ Computed causal norms for volumetric plot\")\n",
    "\n",
    "# Now plot volumetric density vs norm\n",
    "fig, ax = plt.subplots(figsize=(12, 6))\n",
    "\n",
    "# Filter out zeros for log scale\n",
    "valid_mask = volumetric_densities > 0\n",
    "\n",
    "scatter = ax.scatter(\n",
    "    causal_norms[valid_mask],\n",
    "    volumetric_densities[valid_mask],\n",
    "    c=volumetric_densities[valid_mask],\n",
    "    cmap='viridis',\n",
    "    alpha=0.5,\n",
    "    s=10,\n",
    "    rasterized=True,\n",
    "    norm=plt.matplotlib.colors.LogNorm()  # Log color scale\n",
    ")\n",
    "\n",
    "plt.colorbar(scatter, ax=ax, label=f'Volumetric Density (tokens/logometer^{D_EFF})')\n",
    "\n",
    "ax.set_xlabel('Causal Norm (logometers)', fontsize=12)\n",
    "ax.set_ylabel(f'Volumetric Density (tokens/logometer^{D_EFF})', fontsize=12)\n",
    "ax.set_yscale('log')\n",
    "ax.set_title(f'Volumetric Density vs Causal Norm (d={D_EFF})', fontsize=14, fontweight='bold')\n",
    "ax.grid(alpha=0.3)\n",
    "\n",
    "plt.tight_layout()\n",
    "plt.show()\n",
    "\n",
    "print(f\"\\n💡 This accounts for high-dimensional geometry:\")\n",
    "print(f\"  - Volume of d-ball grows as r^{D_EFF}\")\n",
    "print(f\"  - If tokens were uniformly distributed, volumetric density would be constant\")\n",
    "print(f\"  - Power-law decay in volumetric density = non-uniform distribution\")"
   ]
  },
  {
   "cell_type": "markdown",
   "metadata": {},
   "source": [
    "## Load Model and Compute Causal Norms"
   ]
  },
  {
   "cell_type": "code",
   "execution_count": null,
   "metadata": {},
   "outputs": [],
   "source": [
    "print(f\"\\nLoading model to extract token embeddings...\")\n",
    "\n",
    "model = AutoModelForCausalLM.from_pretrained(\n",
    "    MODEL_NAME,\n",
    "    torch_dtype=torch.float32,\n",
    "    device_map=DEVICE,\n",
    ")\n",
    "\n",
    "# Extract unembedding matrix γ\n",
    "gamma = model.lm_head.weight.data  # [vocab_size, hidden_dim]\n",
    "\n",
    "print(f\"✓ Extracted unembedding matrix\")\n",
    "print(f\"  Shape: {gamma.shape}\")\n",
    "\n",
    "# Free model memory\n",
    "del model\n",
    "print(f\"✓ Freed model memory\")"
   ]
  },
  {
   "cell_type": "code",
   "execution_count": null,
   "metadata": {},
   "outputs": [],
   "source": [
    "print(f\"\\nLoading metric tensor from {METRIC_TENSOR_PATH}...\")\n",
    "metric_data = torch.load(METRIC_TENSOR_PATH, weights_only=False)\n",
    "\n",
    "M = metric_data['M']  # [hidden_dim, hidden_dim]\n",
    "\n",
    "print(f\"✓ Loaded metric tensor\")\n",
    "print(f\"  Shape: {M.shape}\")"
   ]
  },
  {
   "cell_type": "code",
   "execution_count": null,
   "metadata": {},
   "outputs": [],
   "source": [
    "print(f\"\\nComputing causal norms for {N:,} sampled tokens...\")\n",
    "\n",
    "# Extract embeddings for sampled tokens\n",
    "sampled_embeddings = gamma[token_indices]  # [N, hidden_dim]\n",
    "\n",
    "# Compute causal norms: ||γᵢ||_M = sqrt(γᵢ^T M γᵢ)\n",
    "M_gamma = sampled_embeddings @ M.to(DEVICE)  # [N, hidden_dim]\n",
    "causal_norms = torch.sqrt((sampled_embeddings * M_gamma).sum(dim=-1))  # [N]\n",
    "causal_norms = causal_norms.numpy()\n",
    "\n",
    "print(f\"✓ Computed causal norms\")\n",
    "print(f\"\\nCausal norm statistics:\")\n",
    "print(f\"  Min: {causal_norms.min():.2f} logometers\")\n",
    "print(f\"  Max: {causal_norms.max():.2f} logometers\")\n",
    "print(f\"  Mean: {causal_norms.mean():.2f} logometers\")\n",
    "print(f\"  Median: {np.median(causal_norms):.2f} logometers\")"
   ]
  },
  {
   "cell_type": "markdown",
   "metadata": {},
   "source": [
    "## Density vs Norm Scatter Plot"
   ]
  },
  {
   "cell_type": "code",
   "execution_count": null,
   "metadata": {},
   "outputs": [],
   "source": [
    "fig, ax = plt.subplots(figsize=(12, 6))\n",
    "\n",
    "# Scatter plot colored by density\n",
    "scatter = ax.scatter(\n",
    "    causal_norms,\n",
    "    densities,\n",
    "    c=densities,\n",
    "    cmap='viridis',\n",
    "    alpha=0.5,\n",
    "    s=10,\n",
    "    rasterized=True  # Faster rendering for many points\n",
    ")\n",
    "\n",
    "plt.colorbar(scatter, ax=ax, label='Local Density (1/logometers)')\n",
    "\n",
    "ax.set_xlabel('Causal Norm (logometers)', fontsize=12)\n",
    "ax.set_ylabel('Local Density (1/logometers)', fontsize=12)\n",
    "ax.set_yscale('log')\n",
    "ax.set_title(f'Local Density vs Causal Norm (N={N:,}, k={K_NEIGHBORS})', fontsize=14, fontweight='bold')\n",
    "ax.grid(alpha=0.3)\n",
    "\n",
    "plt.tight_layout()\n",
    "plt.show()\n",
    "\n",
    "print(\"\\n💡 Interpretation:\")\n",
    "print(\"  - High density at small norm → Core is DENSE (tightly packed)\")\n",
    "print(\"  - Low density at small norm → Core is SPARSE (isolated tokens)\")\n",
    "print(\"  - Flat density across norms → Uniform distribution (no radial structure)\")"
   ]
  },
  {
   "cell_type": "markdown",
   "metadata": {},
   "source": [
    "## Radial Density Profile\n",
    "\n",
    "Bin by causal norm and compute mean density in each bin."
   ]
  },
  {
   "cell_type": "code",
   "execution_count": null,
   "metadata": {},
   "outputs": [],
   "source": [
    "# Create radial bins\n",
    "n_bins = 30\n",
    "norm_bins = np.linspace(causal_norms.min(), causal_norms.max(), n_bins + 1)\n",
    "bin_centers = (norm_bins[:-1] + norm_bins[1:]) / 2\n",
    "\n",
    "# Compute mean density in each bin\n",
    "bin_indices = np.digitize(causal_norms, norm_bins) - 1\n",
    "bin_indices = np.clip(bin_indices, 0, n_bins - 1)  # Handle edge cases\n",
    "\n",
    "mean_density_per_bin = np.zeros(n_bins)\n",
    "std_density_per_bin = np.zeros(n_bins)\n",
    "count_per_bin = np.zeros(n_bins)\n",
    "\n",
    "for i in range(n_bins):\n",
    "    mask = bin_indices == i\n",
    "    if mask.sum() > 0:\n",
    "        mean_density_per_bin[i] = densities[mask].mean()\n",
    "        std_density_per_bin[i] = densities[mask].std()\n",
    "        count_per_bin[i] = mask.sum()\n",
    "\n",
    "# Plot\n",
    "fig, (ax1, ax2) = plt.subplots(2, 1, figsize=(12, 10))\n",
    "\n",
    "# Top: Mean density vs norm\n",
    "ax1.plot(bin_centers, mean_density_per_bin, 'o-', color='blue', linewidth=2, markersize=6)\n",
    "ax1.fill_between(\n",
    "    bin_centers,\n",
    "    mean_density_per_bin - std_density_per_bin,\n",
    "    mean_density_per_bin + std_density_per_bin,\n",
    "    alpha=0.3,\n",
    "    color='blue'\n",
    ")\n",
    "ax1.set_xlabel('Causal Norm (logometers)', fontsize=12)\n",
    "ax1.set_ylabel('Mean Local Density (1/logometers)', fontsize=12)\n",
    "ax1.set_title('Radial Density Profile', fontsize=14, fontweight='bold')\n",
    "ax1.grid(alpha=0.3)\n",
    "\n",
    "# Bottom: Count histogram (for context)\n",
    "ax2.bar(bin_centers, count_per_bin, width=(norm_bins[1] - norm_bins[0]), alpha=0.7, color='gray', edgecolor='black')\n",
    "ax2.set_xlabel('Causal Norm (logometers)', fontsize=12)\n",
    "ax2.set_ylabel('Token Count', fontsize=12)\n",
    "ax2.set_title('Token Count by Norm (for reference)', fontsize=13)\n",
    "ax2.grid(alpha=0.3)\n",
    "\n",
    "plt.tight_layout()\n",
    "plt.show()\n",
    "\n",
    "print(\"\\n💡 Key questions:\")\n",
    "print(\"  - Does density INCREASE toward the core (small norm)?\")\n",
    "print(\"  - Does density DECREASE toward the core?\")\n",
    "print(\"  - Is density roughly FLAT across all norms?\")"
   ]
  },
  {
   "cell_type": "markdown",
   "metadata": {},
   "source": [
    "## Statistical Analysis: Core vs Shell"
   ]
  },
  {
   "cell_type": "code",
   "execution_count": null,
   "metadata": {},
   "outputs": [],
   "source": [
    "# Define core and shell regions based on norm distribution\n",
    "median_norm = np.median(causal_norms)\n",
    "\n",
    "# Core: bottom 10% by norm\n",
    "core_threshold = np.percentile(causal_norms, 10)\n",
    "core_mask = causal_norms < core_threshold\n",
    "\n",
    "# Shell: top 50% near the peak (around median)\n",
    "shell_mask = (causal_norms > np.percentile(causal_norms, 40)) & (causal_norms < np.percentile(causal_norms, 60))\n",
    "\n",
    "# Outer: top 10%\n",
    "outer_threshold = np.percentile(causal_norms, 90)\n",
    "outer_mask = causal_norms > outer_threshold\n",
    "\n",
    "print(\"\\n\" + \"=\" * 60)\n",
    "print(\"DENSITY COMPARISON: Core vs Shell vs Outer\")\n",
    "print(\"=\" * 60)\n",
    "\n",
    "print(f\"\\nCore (norm < {core_threshold:.2f}):\")\n",
    "print(f\"  N tokens: {core_mask.sum():,}\")\n",
    "print(f\"  Mean density: {densities[core_mask].mean():.6f}\")\n",
    "print(f\"  Std density: {densities[core_mask].std():.6f}\")\n",
    "\n",
    "print(f\"\\nShell (norm ≈ {median_norm:.2f}, middle 20%):\")\n",
    "print(f\"  N tokens: {shell_mask.sum():,}\")\n",
    "print(f\"  Mean density: {densities[shell_mask].mean():.6f}\")\n",
    "print(f\"  Std density: {densities[shell_mask].std():.6f}\")\n",
    "\n",
    "print(f\"\\nOuter (norm > {outer_threshold:.2f}):\")\n",
    "print(f\"  N tokens: {outer_mask.sum():,}\")\n",
    "print(f\"  Mean density: {densities[outer_mask].mean():.6f}\")\n",
    "print(f\"  Std density: {densities[outer_mask].std():.6f}\")\n",
    "\n",
    "# Ratio\n",
    "core_shell_ratio = densities[core_mask].mean() / densities[shell_mask].mean()\n",
    "print(f\"\\nCore/Shell density ratio: {core_shell_ratio:.2f}x\")\n",
    "\n",
    "if core_shell_ratio > 1.5:\n",
    "    print(\"\\n✅ Core is DENSER than shell (concentrated center)\")\n",
    "elif core_shell_ratio < 0.67:\n",
    "    print(\"\\n✅ Core is SPARSER than shell (hollow structure)\")\n",
    "else:\n",
    "    print(\"\\n⚠️  Core and shell have similar density (no strong radial gradient)\")"
   ]
  },
  {
   "cell_type": "markdown",
   "metadata": {},
   "source": [
    "## Summary\n",
    "\n",
    "**Question:** Is the \"void\" at small causal norms a true void (low density) or just low count?\n",
    "\n",
    "**Method:** k-NN density estimation on 32k token subsample\n",
    "\n",
    "**Answer:** Check the density vs norm plot and core/shell comparison above!\n",
    "\n",
    "---\n",
    "\n",
    "**Possible outcomes:**\n",
    "1. **High density at core:** Not a void - just rare tokens, but tightly packed when they exist\n",
    "2. **Low density at core:** True void - core region is genuinely sparse\n",
    "3. **Flat density:** No radial structure in density (only in count distribution)"
   ]
  }
 ],
 "metadata": {
  "kernelspec": {
   "display_name": "azimuth",
   "language": "python",
   "name": "python3"
  },
  "language_info": {
   "codemirror_mode": {
    "name": "ipython",
    "version": 3
   },
   "file_extension": ".py",
   "mimetype": "text/x-python",
   "name": "python",
   "nbconvert_exporter": "python",
   "pygments_lexer": "ipython3",
   "version": "3.12.11"
  }
 },
 "nbformat": 4,
 "nbformat_minor": 4
}
