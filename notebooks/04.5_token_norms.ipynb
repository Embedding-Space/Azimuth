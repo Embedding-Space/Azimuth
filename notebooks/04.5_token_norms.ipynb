{
 "cells": [
  {
   "cell_type": "markdown",
   "metadata": {},
   "source": [
    "# 04.5 Token Representation Analysis\n",
    "\n",
    "Analyze the distribution of token representations under the causal metric.\n",
    "\n",
    "**Key questions:**\n",
    "- What is the distribution of causal norms across all 152k tokens?\n",
    "- Are there distinct populations at different radii?\n",
    "- Does the distribution reveal training dynamics (\"energy landscape\")?\n",
    "\n",
    "**Method:**\n",
    "1. Load causal metric tensor M\n",
    "2. Load all token embeddings (γ from lm_head.weight)\n",
    "3. Compute causal norm for each token: ||v||_M = √(v^T M v)\n",
    "4. Visualize distribution with histogram\n",
    "5. Identify and decode extreme tokens"
   ]
  },
  {
   "cell_type": "markdown",
   "metadata": {},
   "source": [
    "## Configuration"
   ]
  },
  {
   "cell_type": "code",
   "execution_count": 5,
   "metadata": {},
   "outputs": [
    {
     "name": "stdout",
     "output_type": "stream",
     "text": [
      "Using device: mps\n"
     ]
    }
   ],
   "source": [
    "import torch\n",
    "import numpy as np\n",
    "import matplotlib.pyplot as plt\n",
    "from pathlib import Path\n",
    "from transformers import AutoModelForCausalLM, AutoTokenizer\n",
    "\n",
    "# Model and paths\n",
    "MODEL_NAME = 'Qwen/Qwen3-4B-Instruct-2507'\n",
    "METRIC_PATH = Path(\"../data/vectors/causal_metric_tensor_qwen3_4b.pt\")\n",
    "\n",
    "# Device\n",
    "device = torch.device(\"mps\" if torch.backends.mps.is_available() else \"cpu\")\n",
    "print(f\"Using device: {device}\")\n",
    "\n",
    "# Plot style\n",
    "plt.style.use('default')\n",
    "plt.rcParams['figure.figsize'] = (12, 6)\n",
    "plt.rcParams['font.size'] = 10"
   ]
  },
  {
   "cell_type": "markdown",
   "metadata": {},
   "source": [
    "## Load Metric Tensor and Model"
   ]
  },
  {
   "cell_type": "code",
   "execution_count": 6,
   "metadata": {},
   "outputs": [
    {
     "name": "stdout",
     "output_type": "stream",
     "text": [
      "Loading causal metric tensor...\n",
      "M shape: torch.Size([2560, 2560])\n",
      "M dtype: torch.float32\n",
      "\n",
      "Loading Qwen/Qwen3-4B-Instruct-2507...\n"
     ]
    },
    {
     "name": "stderr",
     "output_type": "stream",
     "text": [
      "`torch_dtype` is deprecated! Use `dtype` instead!\n"
     ]
    },
    {
     "data": {
      "application/vnd.jupyter.widget-view+json": {
       "model_id": "56f6938e9d474dd9a84de0b185cf1008",
       "version_major": 2,
       "version_minor": 0
      },
      "text/plain": [
       "Loading checkpoint shards:   0%|          | 0/3 [00:00<?, ?it/s]"
      ]
     },
     "metadata": {},
     "output_type": "display_data"
    },
    {
     "name": "stdout",
     "output_type": "stream",
     "text": [
      "Gamma shape: torch.Size([151936, 2560])\n",
      "Vocabulary size: 151,936 tokens\n",
      "Hidden dimension: 2560\n",
      "\n",
      "Tokenizer loaded.\n"
     ]
    }
   ],
   "source": [
    "# Load metric tensor\n",
    "print(\"Loading causal metric tensor...\")\n",
    "metric_data = torch.load(METRIC_PATH, map_location=device, weights_only=True)\n",
    "M = metric_data['M']\n",
    "print(f\"M shape: {M.shape}\")\n",
    "print(f\"M dtype: {M.dtype}\")\n",
    "print()\n",
    "\n",
    "# Load model for gamma matrix\n",
    "print(f\"Loading {MODEL_NAME}...\")\n",
    "model = AutoModelForCausalLM.from_pretrained(\n",
    "    MODEL_NAME,\n",
    "    torch_dtype=torch.bfloat16,\n",
    "    device_map=device,\n",
    ")\n",
    "model.eval()\n",
    "\n",
    "# Extract gamma (unembedding matrix)\n",
    "gamma = model.lm_head.weight.data.to(dtype=torch.float32, device=device)\n",
    "vocab_size, hidden_dim = gamma.shape\n",
    "print(f\"Gamma shape: {gamma.shape}\")\n",
    "print(f\"Vocabulary size: {vocab_size:,} tokens\")\n",
    "print(f\"Hidden dimension: {hidden_dim}\")\n",
    "print()\n",
    "\n",
    "# Load tokenizer for decoding\n",
    "tokenizer = AutoTokenizer.from_pretrained(MODEL_NAME)\n",
    "print(\"Tokenizer loaded.\")"
   ]
  },
  {
   "cell_type": "markdown",
   "metadata": {},
   "source": [
    "## Compute Causal Norms for All Tokens"
   ]
  },
  {
   "cell_type": "code",
   "execution_count": 7,
   "metadata": {},
   "outputs": [
    {
     "name": "stdout",
     "output_type": "stream",
     "text": [
      "Computing causal norms for all tokens...\n",
      "This is 151,936 quadratic forms: v^T M v\n",
      "\n",
      "Computed 151,936 causal norms.\n",
      "\n",
      "Causal Norm Distribution:\n",
      "  Min:    21.35\n",
      "  Mean:   54.13\n",
      "  Median: 55.26\n",
      "  Max:    85.29\n",
      "  Std:    7.90\n",
      "\n",
      "Coefficient of variation: 0.1460 (14.6%)\n"
     ]
    }
   ],
   "source": [
    "print(\"Computing causal norms for all tokens...\")\n",
    "print(f\"This is {vocab_size:,} quadratic forms: v^T M v\")\n",
    "print()\n",
    "\n",
    "# Compute all causal norms at once (batched)\n",
    "# ||v||_M = sqrt(v^T M v) for each row v of gamma\n",
    "# Shape: gamma is [vocab_size, hidden_dim], M is [hidden_dim, hidden_dim]\n",
    "# Result: gamma @ M is [vocab_size, hidden_dim]\n",
    "# Then element-wise multiply with gamma and sum over hidden_dim\n",
    "\n",
    "causal_norms_squared = (gamma @ M * gamma).sum(dim=1)  # [vocab_size]\n",
    "causal_norms = torch.sqrt(torch.clamp(causal_norms_squared, min=0))\n",
    "\n",
    "print(f\"Computed {len(causal_norms):,} causal norms.\")\n",
    "print()\n",
    "\n",
    "# Summary statistics\n",
    "print(\"Causal Norm Distribution:\")\n",
    "print(f\"  Min:    {causal_norms.min().item():.2f}\")\n",
    "print(f\"  Mean:   {causal_norms.mean().item():.2f}\")\n",
    "print(f\"  Median: {causal_norms.median().item():.2f}\")\n",
    "print(f\"  Max:    {causal_norms.max().item():.2f}\")\n",
    "print(f\"  Std:    {causal_norms.std().item():.2f}\")\n",
    "print()\n",
    "\n",
    "# Coefficient of variation\n",
    "cv = (causal_norms.std() / causal_norms.mean()).item()\n",
    "print(f\"Coefficient of variation: {cv:.4f} ({cv*100:.1f}%)\")"
   ]
  },
  {
   "cell_type": "markdown",
   "metadata": {},
   "source": [
    "## Visualize Distribution"
   ]
  },
  {
   "cell_type": "code",
   "execution_count": 8,
   "metadata": {},
   "outputs": [
    {
     "data": {
      "image/png": "[encoded data removed]",
      "text/plain": [
       "<Figure size 1400x500 with 2 Axes>"
      ]
     },
     "metadata": {},
     "output_type": "display_data"
    },
    {
     "name": "stdout",
     "output_type": "stream",
     "text": [
      "\n",
      "Histogram shows the full distribution across all 152k tokens.\n",
      "Left: Linear scale (shows main peak)\n",
      "Right: Log scale (emphasizes tails and secondary populations)\n"
     ]
    }
   ],
   "source": [
    "# Convert to numpy for plotting\n",
    "norms_np = causal_norms.cpu().numpy()\n",
    "\n",
    "# Create histogram\n",
    "fig, (ax1, ax2) = plt.subplots(1, 2, figsize=(14, 5))\n",
    "\n",
    "# Histogram with fine bins\n",
    "ax1.hist(norms_np, bins=100, color='steelblue', alpha=0.7, edgecolor='black', linewidth=0.5)\n",
    "ax1.axvline(norms_np.mean(), color='red', linestyle='--', linewidth=2, label=f'Mean: {norms_np.mean():.2f}')\n",
    "ax1.axvline(np.median(norms_np), color='orange', linestyle='--', linewidth=2, label=f'Median: {np.median(norms_np):.2f}')\n",
    "ax1.set_xlabel('Causal Norm (causal units)', fontsize=12)\n",
    "ax1.set_ylabel('Count (tokens)', fontsize=12)\n",
    "ax1.set_title(f'Distribution of Token Causal Norms (n={vocab_size:,})', fontsize=13, fontweight='bold')\n",
    "ax1.legend(fontsize=11)\n",
    "ax1.grid(True, alpha=0.3)\n",
    "\n",
    "# Log-scale histogram to see tails\n",
    "ax2.hist(norms_np, bins=100, color='steelblue', alpha=0.7, edgecolor='black', linewidth=0.5)\n",
    "ax2.set_yscale('log')\n",
    "ax2.axvline(norms_np.mean(), color='red', linestyle='--', linewidth=2, label=f'Mean: {norms_np.mean():.2f}')\n",
    "ax2.set_xlabel('Causal Norm (causal units)', fontsize=12)\n",
    "ax2.set_ylabel('Count (tokens, log scale)', fontsize=12)\n",
    "ax2.set_title('Distribution (Log Scale) - Emphasizes Tails', fontsize=13, fontweight='bold')\n",
    "ax2.legend(fontsize=11)\n",
    "ax2.grid(True, alpha=0.3)\n",
    "\n",
    "plt.tight_layout()\n",
    "plt.show()\n",
    "\n",
    "print(\"\\nHistogram shows the full distribution across all 152k tokens.\")\n",
    "print(\"Left: Linear scale (shows main peak)\")\n",
    "print(\"Right: Log scale (emphasizes tails and secondary populations)\")"
   ]
  },
  {
   "cell_type": "markdown",
   "metadata": {},
   "source": [
    "## Identify Extreme Tokens"
   ]
  },
  {
   "cell_type": "code",
   "execution_count": 9,
   "metadata": {},
   "outputs": [
    {
     "name": "stdout",
     "output_type": "stream",
     "text": [
      "\n",
      "============================================================\n",
      "TOKENS WITH SMALLEST CAUSAL NORMS (n=20)\n",
      "============================================================\n",
      "\n",
      " 1. Token 150904 | Norm:  21.35 | '듷'\n",
      " 2. Token 103909 | Norm:  21.43 | '�'\n",
      " 3. Token 149801 | Norm:  21.45 | '햑'\n",
      " 4. Token 121774 | Norm:  21.45 | '䦃'\n",
      " 5. Token 149961 | Norm:  21.45 | '�'\n",
      " 6. Token 150112 | Norm:  21.46 | '옼'\n",
      " 7. Token 151000 | Norm:  21.46 | '엃'\n",
      " 8. Token 149802 | Norm:  21.49 | '햤'\n",
      " 9. Token 150905 | Norm:  21.52 | '딮'\n",
      "10. Token 147930 | Norm:  21.52 | '🖏'\n",
      "11. Token 147895 | Norm:  21.53 | '꿴'\n",
      "12. Token 150900 | Norm:  21.54 | '됸'\n",
      "13. Token 151007 | Norm:  21.54 | '옾'\n",
      "14. Token 151017 | Norm:  21.54 | '잳'\n",
      "15. Token 148631 | Norm:  21.55 | '괞'\n",
      "16. Token 123642 | Norm:  21.56 | '𬶠'\n",
      "17. Token 150796 | Norm:  21.56 | '㫪'\n",
      "18. Token 149112 | Norm:  21.59 | '텦'\n",
      "19. Token 151078 | Norm:  21.59 | '튽'\n",
      "20. Token 122976 | Norm:  21.59 | '�'\n",
      "\n",
      "============================================================\n",
      "TOKENS WITH LARGEST CAUSAL NORMS (n=20)\n",
      "============================================================\n",
      "\n",
      " 1. Token 151643 | Norm:  85.29 | '<|endoftext|>'\n",
      " 2. Token    198 | Norm:  82.06 | '\n",
      "'\n",
      " 3. Token  72363 | Norm:  81.18 | ' ​​'\n",
      " 4. Token   4102 | Norm:  80.94 | ' '\n",
      " 5. Token 118174 | Norm:  80.07 | '或多'\n",
      " 6. Token     82 | Norm:  76.34 | 's'\n",
      " 7. Token 109553 | Norm:  75.65 | '和个人'\n",
      " 8. Token  52323 | Norm:  75.08 | 'edly'\n",
      " 9. Token  97322 | Norm:  74.70 | 'edBy'\n",
      "10. Token  38301 | Norm:  74.46 | 'edList'\n",
      "11. Token  18826 | Norm:  74.44 | 'edException'\n",
      "12. Token  50950 | Norm:  74.38 | ' \n",
      "'\n",
      "13. Token 106344 | Norm:  74.31 | '和发展'\n",
      "14. Token  34811 | Norm:  74.16 | '��'\n",
      "15. Token  11307 | Norm:  74.00 | 'ingly'\n",
      "16. Token   9238 | Norm:  73.32 | '  '\n",
      "17. Token 108800 | Norm:  73.31 | '和技术'\n",
      "18. Token 107184 | Norm:  73.28 | '后者'\n",
      "19. Token  44793 | Norm:  73.22 | '道'\n",
      "20. Token  36885 | Norm:  73.19 | '结'\n"
     ]
    }
   ],
   "source": [
    "# Find tokens with smallest and largest causal norms\n",
    "n_extremes = 20\n",
    "\n",
    "# Sort by causal norm\n",
    "sorted_indices = torch.argsort(causal_norms)\n",
    "\n",
    "# Smallest norms\n",
    "smallest_indices = sorted_indices[:n_extremes]\n",
    "smallest_norms = causal_norms[smallest_indices]\n",
    "\n",
    "# Largest norms  \n",
    "largest_indices = sorted_indices[-n_extremes:].flip(0)  # Reverse to show largest first\n",
    "largest_norms = causal_norms[largest_indices]\n",
    "\n",
    "print(f\"\\n{'='*60}\")\n",
    "print(f\"TOKENS WITH SMALLEST CAUSAL NORMS (n={n_extremes})\")\n",
    "print(f\"{'='*60}\\n\")\n",
    "\n",
    "for i, (idx, norm) in enumerate(zip(smallest_indices, smallest_norms), 1):\n",
    "    token_id = idx.item()\n",
    "    token_str = tokenizer.decode([token_id])\n",
    "    print(f\"{i:2d}. Token {token_id:6d} | Norm: {norm.item():6.2f} | '{token_str}'\")\n",
    "\n",
    "print(f\"\\n{'='*60}\")\n",
    "print(f\"TOKENS WITH LARGEST CAUSAL NORMS (n={n_extremes})\")\n",
    "print(f\"{'='*60}\\n\")\n",
    "\n",
    "for i, (idx, norm) in enumerate(zip(largest_indices, largest_norms), 1):\n",
    "    token_id = idx.item()\n",
    "    token_str = tokenizer.decode([token_id])\n",
    "    print(f\"{i:2d}. Token {token_id:6d} | Norm: {norm.item():6.2f} | '{token_str}'\")"
   ]
  },
  {
   "cell_type": "markdown",
   "metadata": {},
   "source": [
    "## Percentile Analysis"
   ]
  },
  {
   "cell_type": "code",
   "execution_count": 10,
   "metadata": {},
   "outputs": [
    {
     "name": "stdout",
     "output_type": "stream",
     "text": [
      "\n",
      "Percentile Analysis:\n",
      "Percentile    Causal Norm\n",
      "------------------------\n",
      "  1th               21.79\n",
      "  5th               39.06\n",
      " 10th               47.05\n",
      " 25th               51.88\n",
      " 50th               55.26\n",
      " 75th               58.53\n",
      " 90th               61.79\n",
      " 95th               63.73\n",
      " 99th               66.78\n",
      "\n",
      "Interquartile Range (IQR): 6.65\n",
      "50% of tokens lie within [51.88, 58.53]\n"
     ]
    }
   ],
   "source": [
    "# Compute percentiles\n",
    "percentiles = [1, 5, 10, 25, 50, 75, 90, 95, 99]\n",
    "percentile_values = np.percentile(norms_np, percentiles)\n",
    "\n",
    "print(\"\\nPercentile Analysis:\")\n",
    "print(f\"{'Percentile':<12} {'Causal Norm':>12}\")\n",
    "print(\"-\" * 24)\n",
    "for p, v in zip(percentiles, percentile_values):\n",
    "    print(f\"{p:>3d}th{' '*7} {v:>12.2f}\")\n",
    "\n",
    "# IQR (Interquartile Range)\n",
    "q1, q3 = percentile_values[3], percentile_values[5]  # 25th and 75th\n",
    "iqr = q3 - q1\n",
    "print(f\"\\nInterquartile Range (IQR): {iqr:.2f}\")\n",
    "print(f\"50% of tokens lie within [{q1:.2f}, {q3:.2f}]\")"
   ]
  },
  {
   "cell_type": "markdown",
   "metadata": {},
   "source": [
    "## Higher-Order Statistics"
   ]
  },
  {
   "cell_type": "code",
   "execution_count": 11,
   "metadata": {},
   "outputs": [
    {
     "name": "stdout",
     "output_type": "stream",
     "text": [
      "\n",
      "Higher-Order Statistics:\n",
      "  Skewness: -1.9678\n",
      "    → Left-skewed (heavy tail toward small values)\n",
      "\n",
      "  Kurtosis: 5.5690\n",
      "    → Heavy-tailed (more extreme values than normal distribution)\n",
      "\n",
      "Interpretation:\n",
      "  These statistics quantify departures from a simple Gaussian.\n",
      "  Large |skewness| or |kurtosis| suggest multiple populations\n",
      "  or non-random structure in the distribution.\n"
     ]
    }
   ],
   "source": [
    "from scipy import stats\n",
    "\n",
    "# Skewness and kurtosis\n",
    "skewness = stats.skew(norms_np)\n",
    "kurtosis = stats.kurtosis(norms_np)  # Excess kurtosis (normal = 0)\n",
    "\n",
    "print(\"\\nHigher-Order Statistics:\")\n",
    "print(f\"  Skewness: {skewness:.4f}\")\n",
    "if skewness < -0.5:\n",
    "    print(\"    → Left-skewed (heavy tail toward small values)\")\n",
    "elif skewness > 0.5:\n",
    "    print(\"    → Right-skewed (heavy tail toward large values)\")\n",
    "else:\n",
    "    print(\"    → Approximately symmetric\")\n",
    "\n",
    "print(f\"\\n  Kurtosis: {kurtosis:.4f}\")\n",
    "if kurtosis > 1:\n",
    "    print(\"    → Heavy-tailed (more extreme values than normal distribution)\")\n",
    "elif kurtosis < -1:\n",
    "    print(\"    → Light-tailed (fewer extreme values than normal)\")\n",
    "else:\n",
    "    print(\"    → Similar tail behavior to normal distribution\")\n",
    "\n",
    "print(\"\\nInterpretation:\")\n",
    "print(\"  These statistics quantify departures from a simple Gaussian.\")\n",
    "print(\"  Large |skewness| or |kurtosis| suggest multiple populations\")\n",
    "print(\"  or non-random structure in the distribution.\")"
   ]
  },
  {
   "cell_type": "markdown",
   "metadata": {},
   "source": [
    "## Summary\n",
    "\n",
    "This notebook computed the causal norm ||v||_M = √(v^T M v) for all 152,936 tokens in the vocabulary.\n",
    "\n",
    "**Key findings:**\n",
    "- Distribution shape (see histogram)\n",
    "- Extreme tokens (smallest/largest norms)\n",
    "- Statistical characterization (percentiles, skewness, kurtosis)\n",
    "\n",
    "**Interpretation:**\n",
    "The distribution reveals how tokens are arranged radially in causal space. Distinct populations at different radii may correspond to:\n",
    "- Undertrained/rare tokens (small norms)\n",
    "- Normal vocabulary (central peak)\n",
    "- Structural/special tokens (large norms)\n",
    "\n",
    "This \"energy landscape\" reflects training dynamics - where gradient descent pushed tokens during optimization."
   ]
  }
 ],
 "metadata": {
  "kernelspec": {
   "display_name": "azimuth",
   "language": "python",
   "name": "python3"
  },
  "language_info": {
   "codemirror_mode": {
    "name": "ipython",
    "version": 3
   },
   "file_extension": ".py",
   "mimetype": "text/x-python",
   "name": "python",
   "nbconvert_exporter": "python",
   "pygments_lexer": "ipython3",
   "version": "3.12.11"
  }
 },
 "nbformat": 4,
 "nbformat_minor": 4
}
