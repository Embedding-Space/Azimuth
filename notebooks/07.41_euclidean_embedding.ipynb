{
 "cells": [
  {
   "cell_type": "markdown",
   "metadata": {},
   "source": [
    "# 3D UMAP Embedding: Euclidean Metric\n",
    "\n",
    "Compute 3D UMAP embedding using Euclidean (L2) distances.\n",
    "\n",
    "**Method:**\n",
    "- Load token sample from causal distance file (for consistent token_indices)\n",
    "- Compute Euclidean pairwise distances: d(i,j) = ||γᵢ - γⱼ||₂\n",
    "- Run UMAP to reduce to 3D\n",
    "- Save embedding and metadata\n",
    "\n",
    "**Outputs:**\n",
    "- `data/vectors/umap_embedding_32k_3d_euclidean.npy` - 3D coordinates\n",
    "- `data/vectors/euclidean_norms_32k.npy` - Token norms for coloring\n",
    "\n",
    "**Expected runtime:** ~7-8 minutes (6-7 min for distances, ~1.5 min for UMAP)"
   ]
  },
  {
   "cell_type": "markdown",
   "metadata": {},
   "source": [
    "## Configuration"
   ]
  },
  {
   "cell_type": "code",
   "execution_count": 1,
   "metadata": {},
   "outputs": [
    {
     "name": "stdout",
     "output_type": "stream",
     "text": [
      "Configuration:\n",
      "  Model: Qwen/Qwen3-4B-Instruct-2507\n",
      "  Distance metric: Euclidean (L2)\n",
      "  Output embedding: ../data/vectors/umap_embedding_32k_3d_euclidean.npy\n",
      "  Output norms: ../data/vectors/euclidean_norms_32k.npy\n"
     ]
    }
   ],
   "source": [
    "# Input files\n",
    "DISTANCES_FILE = '../data/vectors/distances_causal_32000.pt'  # Just for token_indices\n",
    "MODEL_NAME = 'Qwen/Qwen3-4B-Instruct-2507'\n",
    "\n",
    "# UMAP parameters\n",
    "N_NEIGHBORS = 15\n",
    "MIN_DIST = 0.1\n",
    "RANDOM_SEED = 42\n",
    "\n",
    "# Output files\n",
    "OUTPUT_EMBEDDING = '../data/vectors/umap_embedding_32k_3d_euclidean.npy'\n",
    "OUTPUT_NORMS = '../data/vectors/euclidean_norms_32k.npy'\n",
    "\n",
    "print(f\"Configuration:\")\n",
    "print(f\"  Model: {MODEL_NAME}\")\n",
    "print(f\"  Distance metric: Euclidean (L2)\")\n",
    "print(f\"  Output embedding: {OUTPUT_EMBEDDING}\")\n",
    "print(f\"  Output norms: {OUTPUT_NORMS}\")"
   ]
  },
  {
   "cell_type": "markdown",
   "metadata": {},
   "source": [
    "## Setup"
   ]
  },
  {
   "cell_type": "code",
   "execution_count": 2,
   "metadata": {},
   "outputs": [
    {
     "name": "stdout",
     "output_type": "stream",
     "text": [
      "✓ Imports complete\n"
     ]
    }
   ],
   "source": [
    "import torch\n",
    "import numpy as np\n",
    "from umap import UMAP\n",
    "from transformers import AutoModelForCausalLM\n",
    "\n",
    "print(\"✓ Imports complete\")"
   ]
  },
  {
   "cell_type": "markdown",
   "metadata": {},
   "source": [
    "## Load Token Indices"
   ]
  },
  {
   "cell_type": "code",
   "execution_count": 3,
   "metadata": {},
   "outputs": [
    {
     "name": "stdout",
     "output_type": "stream",
     "text": [
      "Loading token indices from ../data/vectors/distances_causal_32000.pt...\n",
      "✓ Loaded token indices\n",
      "  N tokens: 32,000\n"
     ]
    }
   ],
   "source": [
    "print(f\"Loading token indices from {DISTANCES_FILE}...\")\n",
    "data = torch.load(DISTANCES_FILE, weights_only=False)\n",
    "token_indices = data['token_indices']\n",
    "N = data['N']\n",
    "\n",
    "print(f\"✓ Loaded token indices\")\n",
    "print(f\"  N tokens: {N:,}\")"
   ]
  },
  {
   "cell_type": "markdown",
   "metadata": {},
   "source": [
    "## Load Model and Extract Embeddings"
   ]
  },
  {
   "cell_type": "code",
   "execution_count": 4,
   "metadata": {},
   "outputs": [
    {
     "name": "stdout",
     "output_type": "stream",
     "text": [
      "\n",
      "Loading model Qwen/Qwen3-4B-Instruct-2507...\n"
     ]
    },
    {
     "name": "stderr",
     "output_type": "stream",
     "text": [
      "`torch_dtype` is deprecated! Use `dtype` instead!\n"
     ]
    },
    {
     "data": {
      "application/vnd.jupyter.widget-view+json": {
       "model_id": "e9fda83c163f4a6c8d92e7f4cffd2c1e",
       "version_major": 2,
       "version_minor": 0
      },
      "text/plain": [
       "Loading checkpoint shards:   0%|          | 0/3 [00:00<?, ?it/s]"
      ]
     },
     "metadata": {},
     "output_type": "display_data"
    },
    {
     "name": "stdout",
     "output_type": "stream",
     "text": [
      "✓ Extracted token embeddings\n",
      "  Shape: torch.Size([32000, 2560])\n",
      "  Dtype: torch.float16\n",
      "  Device: mps:0\n",
      "✓ Freed model memory\n"
     ]
    }
   ],
   "source": [
    "print(f\"\\nLoading model {MODEL_NAME}...\")\n",
    "model = AutoModelForCausalLM.from_pretrained(\n",
    "    MODEL_NAME,\n",
    "    torch_dtype=torch.float16,  # Use fp16 for speed and memory\n",
    "    device_map='mps',  # Use MPS (Apple GPU)\n",
    ")\n",
    "\n",
    "gamma = model.lm_head.weight.data.clone()  # [vocab_size, 2560]\n",
    "sampled_gamma = gamma[token_indices]  # [32000, 2560]\n",
    "\n",
    "print(f\"✓ Extracted token embeddings\")\n",
    "print(f\"  Shape: {sampled_gamma.shape}\")\n",
    "print(f\"  Dtype: {sampled_gamma.dtype}\")\n",
    "print(f\"  Device: {sampled_gamma.device}\")\n",
    "\n",
    "del model\n",
    "torch.mps.empty_cache()  # Clear MPS cache\n",
    "print(f\"✓ Freed model memory\")"
   ]
  },
  {
   "cell_type": "markdown",
   "metadata": {},
   "source": [
    "## Compute Euclidean Distance Matrix\n",
    "\n",
    "Using standard L2 norm: d(i,j) = ||γᵢ - γⱼ||₂\n",
    "\n",
    "Double-batching strategy to keep memory usage safe (~410 MB per iteration)."
   ]
  },
  {
   "cell_type": "code",
   "execution_count": 5,
   "metadata": {},
   "outputs": [
    {
     "name": "stdout",
     "output_type": "stream",
     "text": [
      "\n",
      "Computing Euclidean pairwise distances...\n",
      "  Using GPU (MPS) with fp16 and double-batching for memory safety!\n",
      "\n",
      "  Progress: 2,000 / 32,000 (6.2%)\n",
      "  Progress: 4,000 / 32,000 (12.5%)\n",
      "  Progress: 6,000 / 32,000 (18.8%)\n",
      "  Progress: 8,000 / 32,000 (25.0%)\n",
      "  Progress: 10,000 / 32,000 (31.2%)\n",
      "  Progress: 12,000 / 32,000 (37.5%)\n",
      "  Progress: 14,000 / 32,000 (43.8%)\n",
      "  Progress: 16,000 / 32,000 (50.0%)\n",
      "  Progress: 18,000 / 32,000 (56.2%)\n",
      "  Progress: 20,000 / 32,000 (62.5%)\n",
      "  Progress: 22,000 / 32,000 (68.8%)\n",
      "  Progress: 24,000 / 32,000 (75.0%)\n",
      "  Progress: 26,000 / 32,000 (81.2%)\n",
      "  Progress: 28,000 / 32,000 (87.5%)\n",
      "  Progress: 30,000 / 32,000 (93.8%)\n",
      "  Progress: 32,000 / 32,000 (100.0%)\n",
      "\n",
      "  Moving to CPU...\n",
      "\n",
      "✓ Computed 32000×32000 Euclidean distance matrix\n",
      "  Memory: 2.05 GB\n",
      "  Distance range: [0.01, 2.07]\n",
      "  Mean distance: 1.49\n"
     ]
    }
   ],
   "source": [
    "print(\"\\nComputing Euclidean pairwise distances...\")\n",
    "print(\"  Using GPU (MPS) with fp16 and double-batching for memory safety!\\n\")\n",
    "\n",
    "# Double-batching: batch over both i and j dimensions\n",
    "batch_i = 200  # Query batch\n",
    "batch_j = 200  # Target batch\n",
    "distances = torch.zeros(N, N, dtype=torch.float16, device='mps')\n",
    "\n",
    "n_batches = int(np.ceil(N / batch_i))\n",
    "for i in range(0, N, batch_i):\n",
    "    i_end = min(i + batch_i, N)\n",
    "    tokens_i = sampled_gamma[i:i_end]  # [batch_i, 2560]\n",
    "    \n",
    "    for j in range(0, N, batch_j):\n",
    "        j_end = min(j + batch_j, N)\n",
    "        tokens_j = sampled_gamma[j:j_end]  # [batch_j, 2560]\n",
    "        \n",
    "        # Broadcast: [batch_i, 1, 2560] - [1, batch_j, 2560]\n",
    "        # Memory: 200 × 200 × 2560 × 2 bytes = 410 MB (safe!)\n",
    "        diff = tokens_i[:, None, :] - tokens_j[None, :, :]\n",
    "        distances[i:i_end, j:j_end] = torch.sqrt((diff ** 2).sum(dim=2))\n",
    "    \n",
    "    if (i // batch_i + 1) % 10 == 0 or i_end == N:\n",
    "        print(f\"  Progress: {i_end:,} / {N:,} ({100*i_end/N:.1f}%)\")\n",
    "\n",
    "# Move to CPU and convert to numpy\n",
    "print(\"\\n  Moving to CPU...\")\n",
    "distances_np = distances.cpu().numpy()\n",
    "del distances\n",
    "torch.mps.empty_cache()\n",
    "\n",
    "print(f\"\\n✓ Computed {N}×{N} Euclidean distance matrix\")\n",
    "print(f\"  Memory: {distances_np.nbytes / 1e9:.2f} GB\")\n",
    "print(f\"  Distance range: [{distances_np[distances_np > 0].min():.2f}, {distances_np.max():.2f}]\")\n",
    "print(f\"  Mean distance: {distances_np[distances_np > 0].mean():.2f}\")"
   ]
  },
  {
   "cell_type": "markdown",
   "metadata": {},
   "source": [
    "## Compute Euclidean Norms\n",
    "\n",
    "For coloring points by their distance from origin."
   ]
  },
  {
   "cell_type": "code",
   "execution_count": 6,
   "metadata": {},
   "outputs": [
    {
     "name": "stdout",
     "output_type": "stream",
     "text": [
      "\n",
      "Computing Euclidean norms (distance from origin)...\n",
      "✓ Computed Euclidean norms\n",
      "  Min: 0.36\n",
      "  Max: 1.54\n",
      "  Mean: 1.09\n",
      "  Median: 1.11\n",
      "  CV: 15.6%\n"
     ]
    }
   ],
   "source": [
    "print(\"\\nComputing Euclidean norms (distance from origin)...\")\n",
    "euclidean_norms = torch.norm(sampled_gamma, dim=1).cpu().numpy()\n",
    "\n",
    "print(f\"✓ Computed Euclidean norms\")\n",
    "print(f\"  Min: {euclidean_norms.min():.2f}\")\n",
    "print(f\"  Max: {euclidean_norms.max():.2f}\")\n",
    "print(f\"  Mean: {euclidean_norms.mean():.2f}\")\n",
    "print(f\"  Median: {np.median(euclidean_norms):.2f}\")\n",
    "print(f\"  CV: {euclidean_norms.std() / euclidean_norms.mean() * 100:.1f}%\")"
   ]
  },
  {
   "cell_type": "markdown",
   "metadata": {},
   "source": [
    "## Run 3D UMAP"
   ]
  },
  {
   "cell_type": "code",
   "execution_count": 7,
   "metadata": {},
   "outputs": [
    {
     "name": "stdout",
     "output_type": "stream",
     "text": [
      "\n",
      "Running UMAP for 3D embedding (Euclidean distances)...\n",
      "  This should take ~1.5 minutes for 32,000 points...\n",
      "\n"
     ]
    },
    {
     "name": "stderr",
     "output_type": "stream",
     "text": [
      "/Users/jefferyharrell/Projects/Azimuth/.venv/lib/python3.12/site-packages/umap/umap_.py:1865: UserWarning: using precomputed metric; inverse_transform will be unavailable\n",
      "  warn(\"using precomputed metric; inverse_transform will be unavailable\")\n",
      "/Users/jefferyharrell/Projects/Azimuth/.venv/lib/python3.12/site-packages/umap/umap_.py:1952: UserWarning: n_jobs value 1 overridden to 1 by setting random_state. Use no seed for parallelism.\n",
      "  warn(\n"
     ]
    },
    {
     "name": "stdout",
     "output_type": "stream",
     "text": [
      "UMAP(metric='precomputed', n_components=3, n_jobs=1, random_state=42, verbose=True)\n",
      "Thu Oct 30 13:46:51 2025 Construct fuzzy simplicial set\n",
      "Thu Oct 30 13:46:51 2025 Finding Nearest Neighbors\n",
      "Thu Oct 30 13:47:38 2025 Finished Nearest Neighbor Search\n",
      "Thu Oct 30 13:47:39 2025 Construct embedding\n"
     ]
    },
    {
     "data": {
      "application/vnd.jupyter.widget-view+json": {
       "model_id": "cedc3267704e494aaa929adb8f69e1d3",
       "version_major": 2,
       "version_minor": 0
      },
      "text/plain": [
       "Epochs completed:   0%|            0/200 [00:00]"
      ]
     },
     "metadata": {},
     "output_type": "display_data"
    },
    {
     "name": "stdout",
     "output_type": "stream",
     "text": [
      "\tcompleted  0  /  200 epochs\n",
      "\tcompleted  20  /  200 epochs\n",
      "\tcompleted  40  /  200 epochs\n",
      "\tcompleted  60  /  200 epochs\n",
      "\tcompleted  80  /  200 epochs\n",
      "\tcompleted  100  /  200 epochs\n",
      "\tcompleted  120  /  200 epochs\n",
      "\tcompleted  140  /  200 epochs\n",
      "\tcompleted  160  /  200 epochs\n",
      "\tcompleted  180  /  200 epochs\n",
      "Thu Oct 30 13:47:51 2025 Finished embedding\n",
      "\n",
      "✓ 3D UMAP complete!\n",
      "  Embedding shape: (32000, 3)\n"
     ]
    }
   ],
   "source": [
    "print(\"\\nRunning UMAP for 3D embedding (Euclidean distances)...\")\n",
    "print(f\"  This should take ~1.5 minutes for {N:,} points...\\n\")\n",
    "\n",
    "reducer = UMAP(\n",
    "    n_components=3,\n",
    "    metric='precomputed',\n",
    "    n_neighbors=N_NEIGHBORS,\n",
    "    min_dist=MIN_DIST,\n",
    "    random_state=RANDOM_SEED,\n",
    "    verbose=True\n",
    ")\n",
    "\n",
    "embedding_3d = reducer.fit_transform(distances_np)\n",
    "\n",
    "print(f\"\\n✓ 3D UMAP complete!\")\n",
    "print(f\"  Embedding shape: {embedding_3d.shape}\")"
   ]
  },
  {
   "cell_type": "markdown",
   "metadata": {},
   "source": [
    "## Save Outputs"
   ]
  },
  {
   "cell_type": "code",
   "execution_count": 8,
   "metadata": {},
   "outputs": [
    {
     "name": "stdout",
     "output_type": "stream",
     "text": [
      "\n",
      "Saving outputs...\n",
      "✓ Saved embedding to ../data/vectors/umap_embedding_32k_3d_euclidean.npy\n",
      "  Shape: (32000, 3)\n",
      "  Size: 0.38 MB\n",
      "✓ Saved norms to ../data/vectors/euclidean_norms_32k.npy\n",
      "  Shape: (32000,)\n",
      "  Size: 0.06 MB\n"
     ]
    }
   ],
   "source": [
    "print(\"\\nSaving outputs...\")\n",
    "\n",
    "np.save(OUTPUT_EMBEDDING, embedding_3d)\n",
    "print(f\"✓ Saved embedding to {OUTPUT_EMBEDDING}\")\n",
    "print(f\"  Shape: {embedding_3d.shape}\")\n",
    "print(f\"  Size: {embedding_3d.nbytes / 1e6:.2f} MB\")\n",
    "\n",
    "np.save(OUTPUT_NORMS, euclidean_norms)\n",
    "print(f\"✓ Saved norms to {OUTPUT_NORMS}\")\n",
    "print(f\"  Shape: {euclidean_norms.shape}\")\n",
    "print(f\"  Size: {euclidean_norms.nbytes / 1e6:.2f} MB\")"
   ]
  },
  {
   "cell_type": "markdown",
   "metadata": {},
   "source": [
    "## Summary\n",
    "\n",
    "Created 3D UMAP embedding using Euclidean distances!\n",
    "\n",
    "**Outputs:**\n",
    "- `umap_embedding_32k_3d_euclidean.npy` - 3D UMAP coordinates\n",
    "- `euclidean_norms_32k.npy` - Token norms for visualization\n",
    "\n",
    "**Next:** Use notebook 07.42 to generate visualizations (HTML + GIF)."
   ]
  }
 ],
 "metadata": {
  "kernelspec": {
   "display_name": "azimuth",
   "language": "python",
   "name": "python3"
  },
  "language_info": {
   "codemirror_mode": {
    "name": "ipython",
    "version": 3
   },
   "file_extension": ".py",
   "mimetype": "text/x-python",
   "name": "python",
   "nbconvert_exporter": "python",
   "pygments_lexer": "ipython3",
   "version": "3.12.11"
  }
 },
 "nbformat": 4,
 "nbformat_minor": 4
}
