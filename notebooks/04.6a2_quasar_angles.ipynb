{
 "cells": [
  {
   "cell_type": "markdown",
   "id": "intro",
   "metadata": {},
   "source": [
    "# 04.6a2 Quasar Angles: Are They Clustered or Scattered?\n",
    "\n",
    "From 04.6a, we found the top 3 quasars:\n",
    "1. `<|endoftext|>` - 85.3 logometers\n",
    "2. `\\n` (newline) - 82.1 logometers\n",
    "3. `\\u200b\\u200b` (double zero-width space) - 81.2 logometers\n",
    "\n",
    "**Question:** Are these three quasars pointing in similar directions (angularly clustered), or are they scattered across different regions of the 2560D hypersphere?\n",
    "\n",
    "**Method:**\n",
    "- Compute pairwise angles between the three quasars\n",
    "- Measure in both Euclidean and causal metrics\n",
    "- Compare to typical token pair angles (~85° from 04.5c)\n",
    "\n",
    "**Interpretation:**\n",
    "- Small angles (< 30°) → quasars are clustered in same region (\"structural token constellation\")\n",
    "- Large angles (~90°) → quasars are scattered, nearly orthogonal\n",
    "- Very large angles (> 120°) → quasars are in opposite hemihyperspheres"
   ]
  },
  {
   "cell_type": "markdown",
   "id": "config-header",
   "metadata": {},
   "source": [
    "## Configuration"
   ]
  },
  {
   "cell_type": "code",
   "execution_count": 1,
   "id": "config",
   "metadata": {},
   "outputs": [
    {
     "name": "stdout",
     "output_type": "stream",
     "text": [
      "Using device: mps\n"
     ]
    }
   ],
   "source": [
    "import torch\n",
    "import numpy as np\n",
    "from pathlib import Path\n",
    "from transformers import AutoModelForCausalLM, AutoTokenizer\n",
    "\n",
    "# Model and paths\n",
    "MODEL_NAME = \"Qwen/Qwen3-4B-Instruct-2507\"\n",
    "METRIC_PATH = Path(\"../data/vectors/causal_metric_tensor_qwen3_4b.pt\")\n",
    "\n",
    "# Device\n",
    "device = torch.device(\"mps\" if torch.backends.mps.is_available() else \"cpu\")\n",
    "print(f\"Using device: {device}\")"
   ]
  },
  {
   "cell_type": "markdown",
   "id": "load-header",
   "metadata": {},
   "source": [
    "## Load Model, Tokenizer, and Metric Tensor"
   ]
  },
  {
   "cell_type": "code",
   "execution_count": 2,
   "id": "load-data",
   "metadata": {},
   "outputs": [
    {
     "name": "stdout",
     "output_type": "stream",
     "text": [
      "Loading causal metric tensor...\n",
      "M shape: torch.Size([2560, 2560])\n",
      "\n",
      "Loading Qwen/Qwen3-4B-Instruct-2507...\n"
     ]
    },
    {
     "name": "stderr",
     "output_type": "stream",
     "text": [
      "`torch_dtype` is deprecated! Use `dtype` instead!\n"
     ]
    },
    {
     "data": {
      "application/vnd.jupyter.widget-view+json": {
       "model_id": "31406b3524724ba8baf421b8d4b46d44",
       "version_major": 2,
       "version_minor": 0
      },
      "text/plain": [
       "Loading checkpoint shards:   0%|          | 0/3 [00:00<?, ?it/s]"
      ]
     },
     "metadata": {},
     "output_type": "display_data"
    },
    {
     "name": "stdout",
     "output_type": "stream",
     "text": [
      "Gamma shape: torch.Size([151936, 2560])\n",
      "\n",
      "Tokenizer loaded.\n"
     ]
    }
   ],
   "source": [
    "# Load metric tensor\n",
    "print(\"Loading causal metric tensor...\")\n",
    "metric_data = torch.load(METRIC_PATH, map_location=device, weights_only=True)\n",
    "M = metric_data['M']\n",
    "print(f\"M shape: {M.shape}\")\n",
    "print()\n",
    "\n",
    "# Load model for gamma matrix\n",
    "print(f\"Loading {MODEL_NAME}...\")\n",
    "model = AutoModelForCausalLM.from_pretrained(\n",
    "    MODEL_NAME,\n",
    "    torch_dtype=torch.bfloat16,\n",
    "    device_map=device,\n",
    ")\n",
    "model.eval()\n",
    "\n",
    "# Extract gamma (unembedding matrix)\n",
    "gamma = model.lm_head.weight.data.to(dtype=torch.float32, device=device)\n",
    "vocab_size, hidden_dim = gamma.shape\n",
    "print(f\"Gamma shape: {gamma.shape}\")\n",
    "print()\n",
    "\n",
    "# Load tokenizer for decoding\n",
    "tokenizer = AutoTokenizer.from_pretrained(MODEL_NAME)\n",
    "print(\"Tokenizer loaded.\")"
   ]
  },
  {
   "cell_type": "markdown",
   "id": "quasars-header",
   "metadata": {},
   "source": [
    "## Extract Quasar Vectors"
   ]
  },
  {
   "cell_type": "code",
   "execution_count": 3,
   "id": "extract-quasars",
   "metadata": {},
   "outputs": [
    {
     "name": "stdout",
     "output_type": "stream",
     "text": [
      "Quasar vectors extracted:\n",
      "  1. Token ID 151643 | <|endoftext|>                  | Decoded: '<|endoftext|>'\n",
      "  2. Token ID    198 | \\n (newline)                   | Decoded: '\\n'\n",
      "  3. Token ID  72363 | \\u200b\\u200b (zero-width space) | Decoded: ' \\u200b\\u200b'\n",
      "\n"
     ]
    }
   ],
   "source": [
    "# Token IDs from 04.6a results\n",
    "quasar_ids = [\n",
    "    151643,  # <|endoftext|>\n",
    "    198,     # \\n\n",
    "    72363,   # \\u200b\\u200b (double zero-width space)\n",
    "]\n",
    "\n",
    "quasar_names = [\n",
    "    '<|endoftext|>',\n",
    "    '\\\\n (newline)',\n",
    "    '\\\\u200b\\\\u200b (zero-width space)',\n",
    "]\n",
    "\n",
    "# Extract vectors\n",
    "quasar_vectors = gamma[quasar_ids]  # [3, hidden_dim]\n",
    "\n",
    "print(\"Quasar vectors extracted:\")\n",
    "for i, (qid, name) in enumerate(zip(quasar_ids, quasar_names)):\n",
    "    decoded = tokenizer.decode([qid])\n",
    "    print(f\"  {i+1}. Token ID {qid:6d} | {name:30s} | Decoded: {repr(decoded)}\")\n",
    "print()"
   ]
  },
  {
   "cell_type": "markdown",
   "id": "euclidean-header",
   "metadata": {},
   "source": [
    "## Compute Euclidean Angles"
   ]
  },
  {
   "cell_type": "code",
   "execution_count": 4,
   "id": "euclidean-angles",
   "metadata": {},
   "outputs": [
    {
     "name": "stdout",
     "output_type": "stream",
     "text": [
      "Computing Euclidean angles between quasars...\n",
      "======================================================================\n",
      "\n",
      "endoftext       ↔ newline         :  69.72°\n",
      "endoftext       ↔ zero-width      :  93.15°\n",
      "newline         ↔ zero-width      :  96.31°\n",
      "\n",
      "Mean Euclidean angle: 86.39°\n",
      "For reference: typical token pairs are ~85° apart (from 04.5c)\n",
      "\n"
     ]
    }
   ],
   "source": [
    "print(\"Computing Euclidean angles between quasars...\")\n",
    "print(\"=\"*70)\n",
    "print()\n",
    "\n",
    "# Pairwise angles\n",
    "pairs = [(0, 1), (0, 2), (1, 2)]\n",
    "pair_labels = [\n",
    "    ('endoftext', 'newline'),\n",
    "    ('endoftext', 'zero-width'),\n",
    "    ('newline', 'zero-width'),\n",
    "]\n",
    "\n",
    "euclidean_angles = []\n",
    "\n",
    "for (i, j), (name1, name2) in zip(pairs, pair_labels):\n",
    "    v1 = quasar_vectors[i]\n",
    "    v2 = quasar_vectors[j]\n",
    "    \n",
    "    # Euclidean angle\n",
    "    dot_euc = (v1 * v2).sum()\n",
    "    norm1_euc = torch.norm(v1)\n",
    "    norm2_euc = torch.norm(v2)\n",
    "    cos_theta_euc = dot_euc / (norm1_euc * norm2_euc)\n",
    "    cos_theta_euc = torch.clamp(cos_theta_euc, -1.0, 1.0)\n",
    "    theta_euc = torch.acos(cos_theta_euc)\n",
    "    theta_euc_deg = torch.rad2deg(theta_euc).item()\n",
    "    \n",
    "    euclidean_angles.append(theta_euc_deg)\n",
    "    \n",
    "    print(f\"{name1:15s} ↔ {name2:15s} : {theta_euc_deg:6.2f}°\")\n",
    "\n",
    "print()\n",
    "print(f\"Mean Euclidean angle: {np.mean(euclidean_angles):.2f}°\")\n",
    "print(f\"For reference: typical token pairs are ~85° apart (from 04.5c)\")\n",
    "print()"
   ]
  },
  {
   "cell_type": "markdown",
   "id": "causal-header",
   "metadata": {},
   "source": [
    "## Compute Causal Angles"
   ]
  },
  {
   "cell_type": "code",
   "execution_count": 5,
   "id": "causal-angles",
   "metadata": {},
   "outputs": [
    {
     "name": "stdout",
     "output_type": "stream",
     "text": [
      "Computing causal angles between quasars...\n",
      "======================================================================\n",
      "\n",
      "endoftext       ↔ newline         :  79.62°\n",
      "endoftext       ↔ zero-width      :  89.28°\n",
      "newline         ↔ zero-width      :  88.41°\n",
      "\n",
      "Mean causal angle: 85.77°\n",
      "For reference: typical token pairs are ~81° apart (from 04.5c)\n",
      "\n"
     ]
    }
   ],
   "source": [
    "print(\"Computing causal angles between quasars...\")\n",
    "print(\"=\"*70)\n",
    "print()\n",
    "\n",
    "causal_angles = []\n",
    "\n",
    "for (i, j), (name1, name2) in zip(pairs, pair_labels):\n",
    "    v1 = quasar_vectors[i]\n",
    "    v2 = quasar_vectors[j]\n",
    "    \n",
    "    # Causal inner product: v1^T M v2\n",
    "    v1_M = v1 @ M\n",
    "    dot_caus = (v1_M * v2).sum()\n",
    "    \n",
    "    # Causal norms\n",
    "    norm1_caus_sq = (v1 @ M * v1).sum()\n",
    "    norm1_caus = torch.sqrt(torch.clamp(norm1_caus_sq, min=0))\n",
    "    \n",
    "    norm2_caus_sq = (v2 @ M * v2).sum()\n",
    "    norm2_caus = torch.sqrt(torch.clamp(norm2_caus_sq, min=0))\n",
    "    \n",
    "    # Causal angle\n",
    "    cos_theta_caus = dot_caus / (norm1_caus * norm2_caus)\n",
    "    cos_theta_caus = torch.clamp(cos_theta_caus, -1.0, 1.0)\n",
    "    theta_caus = torch.acos(cos_theta_caus)\n",
    "    theta_caus_deg = torch.rad2deg(theta_caus).item()\n",
    "    \n",
    "    causal_angles.append(theta_caus_deg)\n",
    "    \n",
    "    print(f\"{name1:15s} ↔ {name2:15s} : {theta_caus_deg:6.2f}°\")\n",
    "\n",
    "print()\n",
    "print(f\"Mean causal angle: {np.mean(causal_angles):.2f}°\")\n",
    "print(f\"For reference: typical token pairs are ~81° apart (from 04.5c)\")\n",
    "print()"
   ]
  },
  {
   "cell_type": "markdown",
   "id": "compare-header",
   "metadata": {},
   "source": [
    "## Compare Euclidean vs Causal Angles"
   ]
  },
  {
   "cell_type": "code",
   "execution_count": 6,
   "id": "compare",
   "metadata": {},
   "outputs": [
    {
     "name": "stdout",
     "output_type": "stream",
     "text": [
      "Comparison: Euclidean vs Causal Angles\n",
      "======================================================================\n",
      "\n",
      "Pair                                 Euclidean     Causal         Δθ\n",
      "----------------------------------------------------------------------\n",
      "endoftext ↔ newline                     69.72°     79.62°     +9.90°\n",
      "endoftext ↔ zero-width                  93.15°     89.28°     -3.87°\n",
      "newline ↔ zero-width                    96.31°     88.41°     -7.90°\n",
      "\n",
      "Interpretation:\n",
      "  → Quasars are WIDELY SEPARATED (nearly orthogonal)\n",
      "\n",
      "Average angular distortion: -0.62°\n",
      "(Typical distortion from 04.5c: -4.32°)\n"
     ]
    }
   ],
   "source": [
    "print(\"Comparison: Euclidean vs Causal Angles\")\n",
    "print(\"=\"*70)\n",
    "print()\n",
    "print(f\"{'Pair':<35s} {'Euclidean':>10s} {'Causal':>10s} {'Δθ':>10s}\")\n",
    "print(\"-\"*70)\n",
    "\n",
    "for (name1, name2), θ_euc, θ_caus in zip(pair_labels, euclidean_angles, causal_angles):\n",
    "    delta_theta = θ_caus - θ_euc\n",
    "    pair_label = f\"{name1} ↔ {name2}\"\n",
    "    print(f\"{pair_label:<35s} {θ_euc:>9.2f}° {θ_caus:>9.2f}° {delta_theta:>+9.2f}°\")\n",
    "\n",
    "print()\n",
    "print(\"Interpretation:\")\n",
    "mean_euc = np.mean(euclidean_angles)\n",
    "mean_caus = np.mean(causal_angles)\n",
    "\n",
    "if mean_euc < 30:\n",
    "    print(\"  → Quasars are TIGHTLY CLUSTERED (same region of hypersphere)\")\n",
    "elif mean_euc < 60:\n",
    "    print(\"  → Quasars are MODERATELY CLUSTERED (nearby but distinct)\")\n",
    "elif mean_euc < 100:\n",
    "    print(\"  → Quasars are WIDELY SEPARATED (nearly orthogonal)\")\n",
    "else:\n",
    "    print(\"  → Quasars are in OPPOSITE HEMISPHERES (obtuse angles)\")\n",
    "\n",
    "print()\n",
    "print(f\"Average angular distortion: {np.mean(np.array(causal_angles) - np.array(euclidean_angles)):.2f}°\")\n",
    "print(f\"(Typical distortion from 04.5c: -4.32°)\")"
   ]
  },
  {
   "cell_type": "markdown",
   "id": "summary-header",
   "metadata": {},
   "source": [
    "## Summary\n",
    "\n",
    "This notebook measured the angular relationships between the three brightest quasars in token space.\n",
    "\n",
    "**Key questions answered:**\n",
    "- Are structural tokens (endoftext, newline, zero-width space) angularly clustered?\n",
    "- Or are they scattered across different regions of the 2560D hypersphere?\n",
    "- How does the causal metric warp their angular relationships?\n",
    "\n",
    "**Implications:**\n",
    "- If clustered: Structural tokens form a distinct \"constellation\" we can use as a reference frame\n",
    "- If scattered: Each quasar points to a different region—we have multiple independent reference directions"
   ]
  }
 ],
 "metadata": {
  "kernelspec": {
   "display_name": "azimuth",
   "language": "python",
   "name": "python3"
  },
  "language_info": {
   "codemirror_mode": {
    "name": "ipython",
    "version": 3
   },
   "file_extension": ".py",
   "mimetype": "text/x-python",
   "name": "python",
   "nbconvert_exporter": "python",
   "pygments_lexer": "ipython3",
   "version": "3.12.11"
  }
 },
 "nbformat": 4,
 "nbformat_minor": 5
}
